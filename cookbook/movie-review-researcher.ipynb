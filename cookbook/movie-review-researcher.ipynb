{
    "cells": [
        {
            "cell_type": "markdown",
            "metadata": {},
            "source": [
                "# Building an AI Movie Review Researcher with Hyperbrowser and OpenAI\n",
                "\n",
                "In this cookbook, we'll build a powerful Movie Review Researcher that can analyze critical and audience reception for any film. This agent will:\n",
                "\n",
                "- Search the web for professional reviews and audience opinions\n",
                "- Extract and analyze content from the most relevant review sites\n",
                "- Synthesize findings into a comprehensive report that highlights praise, criticism, and overall reception\n",
                "- Track sentiment changes over time when reviews span multiple years\n",
                "\n",
                "By combining Hyperbrowser's web scraping capabilities with OpenAI's language models, we'll create a tool that can extract nuanced insights from critical discourse - saving hours of manual research for film enthusiasts, critics, and industry professionals.\n"
            ]
        },
        {
            "cell_type": "markdown",
            "metadata": {},
            "source": [
                "## Prerequisites\n",
                "\n",
                "Before starting, you'll need:\n",
                "\n",
                "1. A Hyperbrowser API key (sign up at [hyperbrowser.ai](https://hyperbrowser.ai) if you don't have one)\n",
                "2. An OpenAI API key for accessing GPT-4o-mini\n",
                "3. Python 3.9+ with asyncio support\n",
                "\n",
                "Store your API keys in a `.env` file in the same directory as this notebook:\n",
                "\n",
                "```\n",
                "HYPERBROWSER_API_KEY=your_hyperbrowser_key_here\n",
                "OPENAI_API_KEY=your_openai_key_here\n",
                "```\n"
            ]
        },
        {
            "cell_type": "markdown",
            "metadata": {},
            "source": [
                "## Step 1: Set up imports and load environment variables\n"
            ]
        },
        {
            "cell_type": "code",
            "execution_count": 1,
            "metadata": {},
            "outputs": [
                {
                    "data": {
                        "text/plain": [
                            "True"
                        ]
                    },
                    "execution_count": 1,
                    "metadata": {},
                    "output_type": "execute_result"
                }
            ],
            "source": [
                "import os\n",
                "import asyncio\n",
                "import json\n",
                "\n",
                "from urllib.parse import urlencode\n",
                "from typing import Optional\n",
                "\n",
                "from dotenv import load_dotenv\n",
                "from hyperbrowser import AsyncHyperbrowser\n",
                "from hyperbrowser.models.extract import StartExtractJobParams\n",
                "from hyperbrowser.models.session import CreateSessionParams\n",
                "from hyperbrowser.tools import WebsiteScrapeTool\n",
                "from openai.types.chat import (\n",
                "    ChatCompletionToolParam,\n",
                "    ChatCompletionMessageToolCall,\n",
                "    ChatCompletionToolMessageParam,\n",
                "    ChatCompletionContentPartTextParam,\n",
                "    ChatCompletionMessageParam,\n",
                ")\n",
                "from openai import AsyncOpenAI\n",
                "from pydantic import BaseModel\n",
                "\n",
                "from typing_extensions import TypeVar\n",
                "from IPython.display import display, Markdown\n",
                "\n",
                "load_dotenv()"
            ]
        },
        {
            "cell_type": "markdown",
            "metadata": {},
            "source": [
                "## Step 2: Initialize clients\n",
                "\n",
                "Now we'll create instances of the APIs we'll be using: OpenAI for the language model and Hyperbrowser for web searches and content extraction. The AsyncHyperbrowser client allows us to perform multiple operations concurrently.\n"
            ]
        },
        {
            "cell_type": "code",
            "execution_count": 2,
            "metadata": {},
            "outputs": [],
            "source": [
                "oai = AsyncOpenAI()\n",
                "hb = AsyncHyperbrowser(api_key=os.getenv(\"HYPERBROWSER_API_KEY\"))"
            ]
        },
        {
            "cell_type": "markdown",
            "metadata": {},
            "source": [
                "## Step 3: Define the search functionality\n",
                "\n",
                "Our first core component is the search function that finds review content across the web. This function:\n",
                "\n",
                "1. Constructs a search query for the movie reviews\n",
                "2. Uses Bing's search engine for comprehensive results\n",
                "3. Extracts structured data from the search results page\n",
                "4. Implements pagination support for thorough research\n",
                "\n",
                "We'll use Pydantic models to enforce type safety and ensure our data is properly structured.\n"
            ]
        },
        {
            "cell_type": "code",
            "execution_count": 3,
            "metadata": {},
            "outputs": [],
            "source": [
                "class SearchResult(BaseModel):\n",
                "    \"\"\"A search result from Bing\"\"\"\n",
                "\n",
                "    title: str\n",
                "    url: str\n",
                "    content: str\n",
                "\n",
                "    def __str__(self):\n",
                "        return f\"Title: {self.title}\\nURL: {self.url}\\nContent: {self.content}\"\n",
                "\n",
                "\n",
                "class SearchResultList(BaseModel):\n",
                "    \"\"\"A list of search results from Bing\"\"\"\n",
                "\n",
                "    results: list[SearchResult]\n",
                "    total_results_extracted: Optional[int]\n",
                "\n",
                "    def __str__(self):\n",
                "        return f\"\\n\\n{'-' * 10}\\n\\n\".join(str(result) for result in self.results)\n",
                "\n",
                "\n",
                "async def search_tool(movie_name: str, page: int = 1) -> SearchResultList | None:\n",
                "    if page > 3:\n",
                "        raise ValueError(\"Cannot extract results for page number greater than 3.\")\n",
                "\n",
                "    params = urlencode(\n",
                "        {\n",
                "            \"q\": f\"{movie_name} reviews\",\n",
                "            \"first\": max(page - 1, 0) * 10,\n",
                "            \"qs\": \"HS\",\n",
                "            \"FORM\": \"QBLH\",\n",
                "            \"sp\": 1,\n",
                "            \"ghc\": 1,\n",
                "            \"lq\": 0,\n",
                "        }\n",
                "    )\n",
                "    url = f\"https://www.bing.com/search?{params}\"\n",
                "\n",
                "    print(movie_name, page, url)\n",
                "\n",
                "    result = await hb.extract.start_and_wait(\n",
                "        StartExtractJobParams(\n",
                "            urls=[url],\n",
                "            prompt=\"Extract the title, url, and content of the top 10 search results on this page.\",\n",
                "            schema=SearchResultList,\n",
                "            session_options=CreateSessionParams(\n",
                "                use_proxy=True,\n",
                "                adblock=True,\n",
                "                trackers=True,\n",
                "                annoyances=True,\n",
                "                solve_captchas=True,\n",
                "            ),\n",
                "        )\n",
                "    )\n",
                "\n",
                "    if not (result.status == \"completed\" and result.data):\n",
                "        print(result)\n",
                "        raise Exception(\"Failed to extract search results\")\n",
                "\n",
                "    return SearchResultList.model_validate({**result.data})"
            ]
        },
        {
            "cell_type": "markdown",
            "metadata": {},
            "source": [
                "## Step 4: Implement content scraping with rate limiting\n",
                "\n",
                "Now we'll build the content scraping function with built-in rate limiting. This approach:\n",
                "\n",
                "1. Tracks how many pages have been scraped to prevent overwhelming servers\n",
                "2. Implements advanced scraping options for clean content extraction\n",
                "3. Formats the extracted content for easy processing by the language model\n",
                "\n",
                "Of note here is that the LLMs can often mess up with counters. Instead, what might be suitable is an explicit counter inside the tool use call itself to limit the resource usage.\n",
                "\n",
                "This controlled approach ensures we can gather substantial data while respecting website resources.\n"
            ]
        },
        {
            "cell_type": "code",
            "execution_count": 4,
            "metadata": {},
            "outputs": [],
            "source": [
                "total_pages_scraped = 0\n",
                "\n",
                "# Create a lock for safely updating the counter in async functions\n",
                "pages_scraped_lock = asyncio.Lock()\n",
                "\n",
                "\n",
                "async def increment_pages_scraped(amount: int = 1):\n",
                "    \"\"\"Safely increment the total_pages_scraped counter in async context\"\"\"\n",
                "    global total_pages_scraped\n",
                "    async with pages_scraped_lock:\n",
                "        total_pages_scraped += amount\n",
                "        return total_pages_scraped\n",
                "\n",
                "\n",
                "async def get_pages_scraped():\n",
                "    global total_pages_scraped\n",
                "    async with pages_scraped_lock:\n",
                "        return total_pages_scraped"
            ]
        },
        {
            "cell_type": "markdown",
            "metadata": {},
            "source": [
                "## Step 5: Define tool interfaces for the language model\n",
                "\n",
                "For our agent to work, we need to define the tools it can use in a format that OpenAI's function calling system understands. We'll create two tools:\n",
                "\n",
                "1. **search_reviews**: Finds movie reviews using Bing search\n",
                "2. **scrape_webpage**: Extracts detailed content from review websites\n",
                "\n",
                "These tool definitions include parameter schemas that ensure proper validation of inputs when the AI decides to use them.\n"
            ]
        },
        {
            "cell_type": "code",
            "execution_count": 5,
            "metadata": {},
            "outputs": [],
            "source": [
                "MOVIE_SEARCH_TOOL: ChatCompletionToolParam = {\n",
                "    \"type\": \"function\",\n",
                "    \"function\": {\n",
                "        \"name\": \"search_reviews\",\n",
                "        \"description\": \"Search for information about a movies reviews using Bing.\",\n",
                "        \"parameters\": {\n",
                "            \"type\": \"object\",\n",
                "            \"properties\": {\n",
                "                \"movie_name\": {\n",
                "                    \"type\": \"string\",\n",
                "                    \"description\": \"The name of the movie to search for\",\n",
                "                },\n",
                "                \"page\": {\n",
                "                    \"type\": \"integer\",\n",
                "                    \"description\": \"The page number of search results to retrieve\",\n",
                "                },\n",
                "            },\n",
                "            \"required\": [\"movie_name\", \"page\"],\n",
                "            \"additionalProperties\": False,\n",
                "        },\n",
                "        \"strict\": True,\n",
                "    },\n",
                "}"
            ]
        },
        {
            "cell_type": "markdown",
            "metadata": {},
            "source": [
                "## Step 6: Create a tool handler for function calling\n",
                "\n",
                "The tool handler processes function calls from the language model and returns the results. This component:\n",
                "\n",
                "1. Routes each tool call to the appropriate function\n",
                "2. Handles error conditions gracefully\n",
                "3. Formats the output according to OpenAI's tool message specifications\n",
                "4. Manages different content types for search results vs. scraped content\n",
                "\n",
                "This pattern bridges the gap between the language model's reasoning capabilities and our concrete web interaction functions.\n"
            ]
        },
        {
            "cell_type": "code",
            "execution_count": 10,
            "metadata": {},
            "outputs": [],
            "source": [
                "async def handle_tool_call(\n",
                "    tc: ChatCompletionMessageToolCall,\n",
                ") -> ChatCompletionToolMessageParam:\n",
                "    print(f\"Handling tool call: {tc.function.name}\")\n",
                "\n",
                "    try:\n",
                "        if (\n",
                "            tc.function.name\n",
                "            == WebsiteScrapeTool.openai_tool_definition[\"function\"][\"name\"]\n",
                "        ):\n",
                "            args = json.loads(tc.function.arguments)\n",
                "            print(args)\n",
                "            content_raw = await WebsiteScrapeTool.async_runnable(hb, args)\n",
                "            content = f\"<website>\\n<url>{args[\"url\"]}</url>\\n<content>\\n{content_raw}\\n</content>\\n</website>\"\n",
                "\n",
                "            return ChatCompletionToolMessageParam(\n",
                "                {\"role\": \"tool\", \"tool_call_id\": tc.id, \"content\": content}\n",
                "            )\n",
                "        elif tc.function.name == MOVIE_SEARCH_TOOL[\"function\"][\"name\"]:\n",
                "            args = json.loads(tc.function.arguments)\n",
                "            print(args)\n",
                "            content = await search_tool(**args)\n",
                "            if content is None or content.results is None:\n",
                "                raise ValueError(\"Response from search is none\")\n",
                "            else:\n",
                "                return ChatCompletionToolMessageParam(\n",
                "                    {\n",
                "                        \"role\": \"tool\",\n",
                "                        \"tool_call_id\": tc.id,\n",
                "                        \"content\": [\n",
                "                            ChatCompletionContentPartTextParam(\n",
                "                                text=str(search_result), type=\"text\"\n",
                "                            )\n",
                "                            for search_result in content.results\n",
                "                        ],\n",
                "                    }\n",
                "                )\n",
                "        else:\n",
                "            raise Exception(f\"No tool call handler for {tc.function.name}\")\n",
                "    except Exception as e:\n",
                "        err_msg = f\"Error handling tool call: {e}\"\n",
                "        print(err_msg)\n",
                "        return ChatCompletionToolMessageParam(\n",
                "            {\n",
                "                \"role\": \"tool\",\n",
                "                \"tool_call_id\": tc.id,\n",
                "                \"content\": err_msg,\n",
                "                \"is_error\": True,  # type: ignore\n",
                "            }\n",
                "        )"
            ]
        },
        {
            "cell_type": "markdown",
            "metadata": {},
            "source": [
                "## Step 7: Implement the agent loop\n",
                "\n",
                "The agent loop orchestrates the interaction between the language model and our tools. This function:\n",
                "\n",
                "1. Sends the current conversation and tools to the OpenAI API\n",
                "2. Processes tool calls when the model decides to use them\n",
                "3. Handles structured output using Pydantic models\n",
                "4. Continues the loop until the model provides a final answer\n",
                "\n",
                "This recursive approach allows for complex multi-step reasoning, where the model can search for general reviews, identify trusted sources, and then dive deeper into specific analyses.\n"
            ]
        },
        {
            "cell_type": "code",
            "execution_count": 11,
            "metadata": {},
            "outputs": [],
            "source": [
                "ResponseFormatT = TypeVar(\n",
                "    \"ResponseFormatT\",\n",
                "    # if it isn't given then we don't do any parsing\n",
                "    default=None,\n",
                ")\n",
                "\n",
                "\n",
                "async def agent_loop(\n",
                "    messages: list[ChatCompletionMessageParam], response_format: type[ResponseFormatT]\n",
                "):\n",
                "    while True:\n",
                "        response = await oai.beta.chat.completions.parse(\n",
                "            messages=messages,\n",
                "            model=\"gpt-4o-mini\",\n",
                "            tools=[MOVIE_SEARCH_TOOL, WebsiteScrapeTool.openai_tool_definition],\n",
                "            tool_choice=\"auto\",\n",
                "            response_format=response_format,\n",
                "        )\n",
                "\n",
                "        choice = response.choices[0]\n",
                "\n",
                "        # Append response to messages\n",
                "        messages.append(choice.message)  # type: ignore\n",
                "\n",
                "        # Handle tool calls\n",
                "        if (\n",
                "            choice.finish_reason == \"tool_calls\"\n",
                "            and choice.message.tool_calls is not None\n",
                "        ):\n",
                "            tool_result_messages = await asyncio.gather(\n",
                "                *[handle_tool_call(tc) for tc in choice.message.tool_calls]\n",
                "            )\n",
                "            messages.extend(tool_result_messages)\n",
                "\n",
                "        elif choice.finish_reason == \"stop\" and choice.message.parsed is not None:\n",
                "            return choice.message.parsed\n",
                "\n",
                "        else:\n",
                "            print(choice)\n",
                "            raise ValueError(f\"Unhandled finish reason: {choice.finish_reason}\")"
            ]
        },
        {
            "cell_type": "markdown",
            "metadata": {},
            "source": [
                "## Step 8: Define data model and system prompt\n",
                "\n",
                "Now we'll create the structures for our final output and craft the system prompt that guides the AI's analysis. The system prompt is crucial - it instructs the model on:\n",
                "\n",
                "1. The depth and breadth of analysis expected\n",
                "2. How to identify and analyze criticisms and praise\n",
                "3. When and how to use each available tool\n",
                "4. The format for presenting findings\n",
                "\n",
                "The ResearchAnalysis model enforces a clear separation between the model's reasoning process and the final polished report.\n"
            ]
        },
        {
            "cell_type": "code",
            "execution_count": 12,
            "metadata": {},
            "outputs": [],
            "source": [
                "class ResearchAnalysis(BaseModel):\n",
                "    chain_of_thought: str\n",
                "    report: str\n",
                "\n",
                "    def __str__(self):\n",
                "        return f\"Chain of Thought:\\n{self.chain_of_thought}\\n\\nReport:\\n{self.report}\"\n",
                "\n",
                "\n",
                "FINAL_REPORT_SYSTEM_PROMPT = \"\"\"\n",
                "You are an expert movie assistant. You are working for a movie production company and your job is to compile information about a certain movies.For this, you will be provided with the movie name. In addition, you will be provided with a certain set of tools to accomplish your job. These tools are\n",
                "\n",
                " - A web search tool\n",
                "   - The tool takes in the movie name, and optionally the search page.  \n",
                "   - The tool searches bing and returns to you the url, title, and some basic content about the individual search result itself\n",
                " - A batch scrape tool\n",
                "   - The tool takes in a list of urls\n",
                "   - The tool returns the url, and the markdown content from the website. \n",
                "\n",
                "Do not scrape more than 3 pages of results. Also deduplicate the search results once you get them. Make sure that when you're scraping results, you don't go over 10 pages scraped.\n",
                "\n",
                "Your job is to compile any criticisms, and any praise that the reviews had for the movie. Make sure that the reviews you are getting are for that particular movie and not for a sequel. Also compile the overall opinion people had about the movie. Make clear note of the date of the review. Use this to also inform me if the sentiment about the movie has changed over time. \n",
                "\n",
                "Additionally, you should also maintain a scratchpad for your own notes and thoughts about the company as you draft the report.\n",
                "\n",
                "You must respond with both your chain of thought and the final report.\"\"\".strip()\n",
                "\n",
                "\n",
                "async def research_movie(movie_name: str) -> Optional[ResearchAnalysis]:\n",
                "    analysis = await agent_loop(\n",
                "        [\n",
                "            {\n",
                "                \"role\": \"system\",\n",
                "                \"content\": FINAL_REPORT_SYSTEM_PROMPT,\n",
                "            },\n",
                "            {\n",
                "                \"role\": \"user\",\n",
                "                \"content\": (f\"Get me the consensus for the move {movie_name}\"),\n",
                "            },\n",
                "        ],\n",
                "        response_format=ResearchAnalysis,\n",
                "    )\n",
                "\n",
                "    return analysis"
            ]
        },
        {
            "cell_type": "markdown",
            "metadata": {},
            "source": [
                "## Step 9: Test the researcher with a real movie\n",
                "\n",
                "Finally, let's put our researcher to work by analyzing reviews for Christopher Nolan's \"Inception.\" This test will show the full workflow:\n",
                "\n",
                "1. The agent searches for Inception reviews across multiple pages\n",
                "2. It identifies and scrapes the most relevant review sites\n",
                "3. It analyzes the content, extracting key praise and criticisms\n",
                "4. It synthesizes a comprehensive report that captures critical consensus\n",
                "\n",
                "You'll see real-time logging of the search and scraping operations as they happen.\n"
            ]
        },
        {
            "cell_type": "code",
            "execution_count": 13,
            "metadata": {},
            "outputs": [
                {
                    "name": "stdout",
                    "output_type": "stream",
                    "text": [
                        "Handling tool call: search_reviews\n",
                        "{'movie_name': 'Inception', 'page': 1}\n",
                        "Inception 1 https://www.bing.com/search?q=Inception+reviews&first=0&qs=HS&FORM=QBLH&sp=1&ghc=1&lq=0\n",
                        "Handling tool call: search_reviews\n",
                        "{'movie_name': 'Inception', 'page': 2}\n",
                        "Inception 2 https://www.bing.com/search?q=Inception+reviews&first=10&qs=HS&FORM=QBLH&sp=1&ghc=1&lq=0\n",
                        "Handling tool call: scrape_webpage\n",
                        "{'url': 'https://www.example.com/inception-review-1', 'scrape_options': {'formats': ['markdown'], 'include_tags': ['h1', 'h2', 'p'], 'exclude_tags': [], 'only_main_content': True}}\n",
                        "Handling tool call: scrape_webpage\n",
                        "{'url': 'https://www.example.com/inception-review-2', 'scrape_options': {'formats': ['markdown'], 'include_tags': ['h1', 'h2', 'p'], 'exclude_tags': [], 'only_main_content': True}}\n",
                        "Handling tool call: scrape_webpage\n",
                        "{'url': 'https://www.example.com/inception-review-3', 'scrape_options': {'formats': ['markdown'], 'include_tags': ['h1', 'h2', 'p'], 'exclude_tags': [], 'only_main_content': True}}\n",
                        "Handling tool call: scrape_webpage\n",
                        "{'url': 'https://www.example.com/inception-review-4', 'scrape_options': {'formats': ['markdown'], 'include_tags': ['h1', 'h2', 'p'], 'exclude_tags': [], 'only_main_content': True}}\n",
                        "Handling tool call: scrape_webpage\n",
                        "{'url': 'https://www.example.com/inception-review-5', 'scrape_options': {'formats': ['markdown'], 'include_tags': ['h1', 'h2', 'p'], 'exclude_tags': [], 'only_main_content': True}}\n",
                        "Handling tool call: scrape_webpage\n",
                        "{'url': 'https://www.ign.com/articles/2010/07/06/inception-review', 'scrape_options': {'formats': ['markdown'], 'include_tags': ['h1', 'h2', 'p'], 'exclude_tags': [], 'only_main_content': True}}\n",
                        "Handling tool call: scrape_webpage\n",
                        "{'url': 'https://www.deepfocusreview.com/reviews/inception', 'scrape_options': {'formats': ['markdown'], 'include_tags': ['h1', 'h2', 'p'], 'exclude_tags': [], 'only_main_content': True}}\n",
                        "Handling tool call: scrape_webpage\n",
                        "{'url': 'https://www.theartsdesk.com/film/inception', 'scrape_options': {'formats': ['markdown'], 'include_tags': ['h1', 'h2', 'p'], 'exclude_tags': [], 'only_main_content': True}}\n",
                        "Handling tool call: search_reviews\n",
                        "{'movie_name': 'Inception', 'page': 3}\n",
                        "Inception 3 https://www.bing.com/search?q=Inception+reviews&first=20&qs=HS&FORM=QBLH&sp=1&ghc=1&lq=0\n",
                        "Handling tool call: scrape_webpage\n",
                        "{'url': 'https://www.metacritic.com/movie/inception/critic-reviews/', 'scrape_options': {'formats': ['markdown'], 'include_tags': ['h1', 'h2', 'p'], 'exclude_tags': [], 'only_main_content': True}}\n",
                        "Handling tool call: scrape_webpage\n",
                        "{'url': 'https://letterboxd.com/film/inception/', 'scrape_options': {'formats': ['markdown'], 'include_tags': ['h1', 'h2', 'p'], 'exclude_tags': [], 'only_main_content': True}}\n"
                    ]
                }
            ],
            "source": [
                "analysis = await research_movie(\"Inception\")"
            ]
        },
        {
            "cell_type": "markdown",
            "metadata": {},
            "source": [
                "## Step 10: Display results\n",
                "\n",
                "Finally, we'll display the results in a clean, readable format using Markdown. Our output separates the AI's reasoning process (chain of thought) from the polished final report, giving insight into both the analysis methodology and the final conclusions.\n"
            ]
        },
        {
            "cell_type": "code",
            "execution_count": 76,
            "metadata": {},
            "outputs": [
                {
                    "data": {
                        "text/markdown": [
                            "I have gathered a variety of reviews from multiple trusted sources regarding \"Inception,\" directed by Christopher Nolan. The film was released in 2010 and it examines the themes of dreams and reality through a complex narrative. The critics generally praise the film for its innovative storytelling and visual effects, while a few express some concerns regarding its pacing and complexity. Here are the key points extracted from the reviews:\n",
                            "\n",
                            "1. **Praise**:  \n",
                            "   - **Innovation**: Multiple reviewers highlight it as a groundbreaking film that redefined the sci-fi genre, praising its original concept and intricate plot twists.  \n",
                            "   - **Visuals**: The visual effects, including mind-bending dream sequences, are frequently lauded for their creativity and execution.  \n",
                            "   - **Soundtrack**: Hans Zimmer's score is mentioned repeatedly as elevating the film's emotional and dramatic impact.\n",
                            "   - **Performances**: The cast, particularly Leonardo DiCaprio, is highlighted for delivering powerful performances.\n",
                            "   - **Thought-Provoking**: Many reviews emphasize that the film requires multiple viewings to fully grasp its nuances and stimulates intellectual conversation about its themes.\n",
                            "\n",
                            "2. **Criticisms**:  \n",
                            "   - **Complex Narrative**: Some critics argue that the film's complicated plot may alienate viewers, making it difficult for casual audiences to follow.  \n",
                            "   - **Pacing Issues**: There are mentions of the film dragging in certain segments, particularly in the latter half as the intricate plot unfolds.  \n",
                            "   - **Emotional Disconnect**: A few reviewers felt that despite its beauty and complexity, the film did not sufficiently connect on an emotional level for everyone.\n",
                            "\n",
                            "3. **Overall Sentiment**:  \n",
                            "   The consensus reflects overwhelming positive reception, with a Rotten Tomatoes rating of 87% and audience approval at 91%. Over the years, as more audiences have rewatched it, many reviews indicate a deeper appreciation for its complexity and brilliance. However, there is still some debate about its emotional resonance versus its intellectual offerings. The film remains a cultural touchstone and is often cited in discussions about modern cinema."
                        ],
                        "text/plain": [
                            "<IPython.core.display.Markdown object>"
                        ]
                    },
                    "metadata": {},
                    "output_type": "display_data"
                },
                {
                    "data": {
                        "text/markdown": [
                            "### Inception Movie Review Consensus\n",
                            "\n",
                            "**Overview**:  \n",
                            "_**Inception**_ is a 2010 sci-fi film directed by Christopher Nolan, exploring the boundaries of dreams and reality through a complex narrative involving dream manipulation. It has garnered critical acclaim and has sparked extensive discussions on its themes and storytelling technique.\n",
                            "\n",
                            "---\n",
                            "\n",
                            "### Praise:  \n",
                            "1. **Innovation**:  \n",
                            "   - **Groundbreaking Concept**: Many reviewers commend _Inception_ for its original concept that redefined the sci-fi genre. \n",
                            "   - **Intricacy**: Critics emphasize the film's ability to challenge viewers' perceptions, requiring multiple viewings to appreciate fully. \n",
                            "\n",
                            "2. **Visuals**:  \n",
                            "   - **Stunning Effects**: The visual effects are frequently praised for their creativity, with particular scenes noted for their astonishing quality. \n",
                            "   - **Cinematography and Production Design**: Recognized for blending reality and dreams fluidly.\n",
                            "\n",
                            "3. **Soundtrack**:  \n",
                            "   - **Hans Zimmer's Score**: Noted for enhancing the film's emotional depth and tension.\n",
                            "\n",
                            "4. **Performance**:  \n",
                            "   - **Cast Contributions**: Leonardo DiCaprio and supporting actors are highlighted for their strong performances, contributing greatly to the film's atmosphere.\n",
                            "\n",
                            "---\n",
                            "\n",
                            "### Criticisms:  \n",
                            "1. **Complex Narrative**:  \n",
                            "   - Some critics argue that the convoluted plot may be difficult for general audiences to digest, leading to a sense of alienation for viewers unaccustomed to such intricate storytelling.\n",
                            "\n",
                            "2. **Pacing Issues**:  \n",
                            "   - Complaints regarding the film's pacing, with the latter part feeling drawn out or convoluted, impacting viewer engagement.\n",
                            "\n",
                            "3. **Emotional Disconnect**:  \n",
                            "   - Despite its intellectual appeal, some reviewers felt that _Inception_ lacked a deep emotional connection, leaving certain audiences feeling detached from the characters.\n",
                            "\n",
                            "---\n",
                            "\n",
                            "### Overall Sentiment:  \n",
                            "- _Inception_ maintains a strong legacy, evident in its 87% score on Rotten Tomatoes and 91% audience score. Over the years, the sentiment towards the film has shifted to a deeper appreciation for its complexity, although debates about its emotional engagement persist. It is often regarded as a modern masterpiece in cinema, with discussions surrounding it contributing to its enduring popularity."
                        ],
                        "text/plain": [
                            "<IPython.core.display.Markdown object>"
                        ]
                    },
                    "metadata": {},
                    "output_type": "display_data"
                }
            ],
            "source": [
                "if analysis is not None:\n",
                "    if analysis.chain_of_thought is not None:\n",
                "        display(Markdown(analysis.chain_of_thought))\n",
                "    else:\n",
                "        print(\"**Analysis Chain of Thought is none**\")\n",
                "    if analysis.report is not None:\n",
                "        display(Markdown(analysis.report))\n",
                "    else:\n",
                "        print(\"**Analysis Report is none**\")\n",
                "\n",
                "else:\n",
                "    print(\"**Analysis is none**\")"
            ]
        },
        {
            "cell_type": "markdown",
            "metadata": {},
            "source": [
                "## Conclusion\n",
                "\n",
                "In this cookbook, we've built a sophisticated Movie Review Researcher that combines the power of web search, content extraction, and AI analysis to generate comprehensive movie review reports. Our agent can:\n",
                "\n",
                "1. Search for reviews across multiple sources using strategic pagination\n",
                "2. Intelligently select the most relevant review websites to analyze\n",
                "3. Extract detailed content from those sources with advanced scraping techniques\n",
                "4. Analyze text to identify key themes in both praise and criticism\n",
                "5. Synthesize findings into a structured report with clear sections and insights\n",
                "\n",
                "This approach demonstrates how AI agents can transform raw web content into actionable intelligence - saving hours of manual research while delivering deeper insights than a simple review aggregator would provide.\n"
            ]
        },
        {
            "cell_type": "markdown",
            "metadata": {},
            "source": [
                "## Next Steps and Extensions\n",
                "\n",
                "To take this movie review researcher further, consider:\n",
                "\n",
                "1. **Sentiment Tracking**: Enhance the analysis with quantitative sentiment tracking over time\n",
                "2. **Comparison Features**: Extend the system to compare reception across multiple films\n",
                "3. **Financial Correlation**: Correlate critical reception with box office performance\n",
                "4. **Genre Analysis**: Add genre-specific evaluation criteria for different types of films\n",
                "5. **User Interface**: Build a simple web app that lets users query for any movie by name\n",
                "6. **Result Caching**: Implement a database to store previous analyses for faster retrieval\n",
                "\n",
                "The architecture we've built is highly extensible and can be adapted for various media analysis tasks beyond movies - including TV shows, video games, music albums, or literary works.\n"
            ]
        },
        {
            "cell_type": "markdown",
            "metadata": {},
            "source": [
                "## Relevant Links\n",
                "\n",
                "- [Hyperbrowser](https://hyperbrowser.ai)\n",
                "- [Hyperbrowser Documentation](https://docs.hyperbrowser.ai)\n",
                "- [OpenAI API Documentation](https://platform.openai.com/docs/introduction)\n",
                "- [Pydantic Documentation](https://docs.pydantic.dev/latest/)\n",
                "- [Asyncio Documentation](https://docs.python.org/3/library/asyncio.html)\n"
            ]
        }
    ],
    "metadata": {
        "kernelspec": {
            "display_name": ".venv",
            "language": "python",
            "name": "python3"
        },
        "language_info": {
            "codemirror_mode": {
                "name": "ipython",
                "version": 3
            },
            "file_extension": ".py",
            "mimetype": "text/x-python",
            "name": "python",
            "nbconvert_exporter": "python",
            "pygments_lexer": "ipython3",
            "version": "3.13.2"
        }
    },
    "nbformat": 4,
    "nbformat_minor": 2
}

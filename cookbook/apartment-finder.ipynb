{
    "cells": [
        {
            "cell_type": "markdown",
            "metadata": {},
            "source": [
                "# Building an Intelligent Apartment Search Agent with Hyperbrowser\n",
                "\n",
                "In this cookbook, we'll create a sophisticated apartment search system that combines autonomous web navigation with intelligent ranking capabilities. Our system will:\n",
                "\n",
                "1. Search for apartments based on multiple criteria\n",
                "2. Extract detailed property information\n",
                "3. Intelligently rank results based on user preferences\n",
                "\n",
                "This approach combines:\n",
                "- **[Hyperbrowser](https://hyperbrowser.ai)** for autonomous web navigation\n",
                "- **OpenAI's GPT-4** for intelligent result ranking"
            ]
        },
        {
            "cell_type": "markdown",
            "metadata": {},
            "source": [
                "## Prerequisites\n",
                "\n",
                "Before starting, you'll need:\n",
                "\n",
                "1. A Hyperbrowser API key (sign up at [hyperbrowser.ai](https://hyperbrowser.ai) if you don't have one)\n",
                "2. An OpenAI API key with access to GPT-4\n",
                "\n",
                "Store these API keys in a `.env` file in the same directory as this notebook:\n",
                "\n",
                "```\n",
                "HYPERBROWSER_API_KEY=your_hyperbrowser_key_here\n",
                "OPENAI_API_KEY=your_openai_key_here\n",
                "```"
            ]
        },
        {
            "cell_type": "markdown",
            "metadata": {},
            "source": [
                "## Step 1: Set Up Environment"
            ]
        },
        {
            "cell_type": "code",
            "execution_count": null,
            "metadata": {},
            "outputs": [],
            "source": [
                "import os\n",
                "\n",
                "from dotenv import load_dotenv\n",
                "from hyperbrowser import AsyncHyperbrowser\n",
                "from hyperbrowser.models import StartBrowserUseTaskParams\n",
                "from hyperbrowser.models.session import CreateSessionParams\n",
                "from openai import AsyncOpenAI\n",
                "\n",
                "from IPython.display import Markdown, display\n",
                "from typing import Optional\n",
                "\n",
                "load_dotenv()"
            ]
        },
        {
            "cell_type": "markdown",
            "metadata": {},
            "source": [
                "## Step 2: Initialize API Clients\n",
                "\n",
                "We create instances of our API clients for web automation and natural language processing."
            ]
        },
        {
            "cell_type": "code",
            "execution_count": 9,
            "metadata": {},
            "outputs": [],
            "source": [
                "hb = AsyncHyperbrowser(api_key=os.getenv(\"HYPERBROWSER_API_KEY\"))\n",
                "llm = AsyncOpenAI()"
            ]
        },
        {
            "cell_type": "markdown",
            "metadata": {},
            "source": [
                "## Step 3: Implement Apartment Search\n",
                "\n",
                "Our search function uses Hyperbrowser's autonomous agent to navigate apartments.com. Key features:\n",
                "- Dynamic filter construction from arguments\n",
                "- Proxy support\n",
                "- Structured markdown output"
            ]
        },
        {
            "cell_type": "code",
            "execution_count": 12,
            "metadata": {},
            "outputs": [],
            "source": [
                "async def find_suitable_places_to_rent(user_params:str):\n",
                "    resp = await hb.beta.agents.browser_use.start_and_wait(\n",
                "        StartBrowserUseTaskParams(\n",
                "            task=f\"Go to apartments.com and find me a few places to rent. I have a few filters: {user_params}\\n.Respond in markdown format.\",\n",
                "            session_options=CreateSessionParams(\n",
                "                use_proxy=True\n",
                "            ),\n",
                "        )\n",
                "    )\n",
                "    if resp.data is not None:\n",
                "        return resp.data.final_result\n",
                "    return None"
            ]
        },
        {
            "cell_type": "markdown",
            "metadata": {},
            "source": [
                "## Step 4: Search for Properties\n",
                "\n",
                "We execute our search with specific criteria for San Francisco properties:"
            ]
        },
        {
            "cell_type": "code",
            "execution_count": 13,
            "metadata": {},
            "outputs": [
                {
                    "data": {
                        "text/markdown": [
                            "I have found 5 apartments in San Francisco with the specified filters:\n",
                            "\n",
                            "1.  100 Van Ness, 100 Van Ness Ave, San Francisco, CA 94102, $4,748 - $5,088, 2 Beds, Pets Allowed, Fitness Center, Pool, Dishwasher, Refrigerator, Kitchen\n",
                            "2.  Parkmerced, 3711 19th Ave, San Francisco, CA 94132, $3,200 - $4,418, 2-3 Beds, Pets Allowed, Fitness Center, Clubhouse, Maintenance on site, Business Center, Elevator\n",
                            "3.  HQ, 1532 Harrison St, San Francisco, CA 94103, $3,501 - $3,643, 2 Beds, Pets Allowed, Fitness Center, Dishwasher, Kitchen, In Unit Washer & Dryer, Balcony, Range\n",
                            "4.  Hanover Soma West, 1140 Harrison St, San Francisco, CA 94103, $3,013 - $4,790, 2 Beds, Fitness Center, Dishwasher, Refrigerator, In Unit Washer & Dryer, Walk-In Closets, Clubhouse\n",
                            "5.  150 Van Ness, 150 Van Ness Ave, San Francisco, CA 94102, $3,635 - $5,800, 2 Beds, Pets Allowed, Fitness Center, Pool, Dishwasher, Refrigerator, Kitchen, In Unit Washer & Dryer"
                        ],
                        "text/plain": [
                            "<IPython.core.display.Markdown object>"
                        ]
                    },
                    "metadata": {},
                    "output_type": "display_data"
                }
            ],
            "source": [
                "response = await find_suitable_places_to_rent(\n",
                "    \"I want the price range to be between 1000 and 5000. There should be at least 2 bedrooms and 1 bathroom. Search for apartments in San Francisco. Give me at least 5 results.\"\n",
                ")\n",
                "if response is not None:\n",
                "    display(Markdown(response))\n",
                "else:\n",
                "    print(\"No response from the agent\")"
            ]
        },
        {
            "cell_type": "markdown",
            "metadata": {},
            "source": [
                "## Step 5: Implement Intelligent Ranking\n",
                "\n",
                "We add a ranking function that uses GPT-4 to analyze and sort properties based on user preferences. This function:\n",
                "- Takes listings and ranking criteria as input\n",
                "- Uses a specialized system prompt for consistent analysis\n",
                "- Returns ranked results with explanations"
            ]
        },
        {
            "cell_type": "code",
            "execution_count": 16,
            "metadata": {},
            "outputs": [],
            "source": [
                "async def rank_apartments(markdown_listings: str, ranking_prompt: str) -> Optional[str]:\n",
                "    system_prompt = \"\"\"You are a helpful assistant that ranks apartment listings based on specific criteria.\n",
                "    You will receive apartment listings in markdown format and a prompt with ranking criteria.\n",
                "    Analyze the listings and return them in markdown format, ordered from best to worst match based on the criteria.\n",
                "    Include a brief explanation for each ranking.\"\"\"\n",
                "\n",
                "    response = await llm.chat.completions.create(\n",
                "        model=\"gpt-4o-mini\",\n",
                "        messages=[\n",
                "            {\"role\": \"system\", \"content\": system_prompt},\n",
                "            {\"role\": \"user\", \"content\": f\"Here are the apartment listings:\\n\\n{markdown_listings}\\n\\nRank these apartments based on the following criteria:\\n{ranking_prompt}\"}\n",
                "        ]\n",
                "    )\n",
                "    \n",
                "    return response.choices[0].message.content"
            ]
        },
        {
            "cell_type": "markdown",
            "metadata": {},
            "source": [
                "## Step 6: Apply Intelligent Ranking\n",
                "\n",
                "We apply our ranking system to the search results, prioritizing pet-friendly and affordable properties:"
            ]
        },
        {
            "cell_type": "code",
            "execution_count": 17,
            "metadata": {},
            "outputs": [
                {
                    "data": {
                        "text/markdown": [
                            "Here are the apartment listings ranked based on your criteria:\n",
                            "\n",
                            "1.  Parkmerced, 3711 19th Ave, San Francisco, CA 94132, $3,200 - $4,418, 2-3 Beds, Pets Allowed, Fitness Center, Clubhouse, Maintenance on site, Business Center, Elevator\n",
                            "    - This option is the cheapest among the pet-friendly apartments and therefore the best match for your criteria.\n",
                            "\n",
                            "2.  HQ, 1532 Harrison St, San Francisco, CA 94103, $3,501 - $3,643, 2 Beds, Pets Allowed, Fitness Center, Dishwasher, Kitchen, In Unit Washer & Dryer, Balcony, Range\n",
                            "    - Although more expensive than Parkmerced, this complex is still less expensive than the other options and it also allows pets.\n",
                            "\n",
                            "3.  150 Van Ness, 150 Van Ness Ave, San Francisco, CA 94102, $3,635 - $5,800, 2 Beds, Pets Allowed, Fitness Center, Pool, Dishwasher, Refrigerator, Kitchen, In Unit Washer & Dryer\n",
                            "    - This apartment allows pets but its price ranges up to $5,800 which is higher compared to the first two options.\n",
                            "\n",
                            "4.  100 Van Ness, 100 Van Ness Ave, San Francisco, CA 94102, $4,748 - $5,088, 2 Beds, Pets Allowed, Fitness Center, Pool, Dishwasher, Refrigerator, Kitchen\n",
                            "    - Despite it being a pet-friendly environment, the apartment's minimum price is significantly higher than the others.\n",
                            "\n",
                            "5.  Hanover Soma West, 1140 Harrison St, San Francisco, CA 94103, $3,013 - $4,790, 2 Beds, Fitness Center, Dishwasher, Refrigerator, In Unit Washer & Dryer, Walk-In Closets, Clubhouse\n",
                            "    - Even though this option could be within your budget, it does not allow pets which makes it the least suitable for your needs."
                        ],
                        "text/plain": [
                            "<IPython.core.display.Markdown object>"
                        ]
                    },
                    "metadata": {},
                    "output_type": "display_data"
                }
            ],
            "source": [
                "if response is not None:\n",
                "    ranked_response = await rank_apartments(response, \"I want an apartment that allows me to have a pet, and preferably is on the cheaper side.\")\n",
                "    display(Markdown(ranked_response))\n",
                "else:\n",
                "    print(\"No response from the agent\")"
            ]
        },
        {
            "cell_type": "markdown",
            "metadata": {},
            "source": [
                "## Advancing from Basic to Advanced Autonomous Agents\n",
                "\n",
                "This apartment search example represents a significant advancement over the basic Hacker News summarizer we built in the previous notebook. Both examples utilize autonomous agents, but this implementation demonstrates several key evolutionary steps:\n",
                "\n",
                "**From Simple to Parameterized Tasks**  \n",
                "Besides the basic prompt, which dictated the only behaviour that our agent could do, we now accept parameters in a more natural language. This enables a more flexible and reusable agent\n",
                "\n",
                "**From Navigation to Complex Interaction**  \n",
                "The apartment search agent engages in more sophisticated web interactions, including form filling, filtering results, and extracting structured data.\n",
                "\n",
                "**Multi-Stage Pipelines**  \n",
                "We now have a multi-stage approach where the autonomous web agent is followed by a specialized analysis component. The initial web navigation and data extraction is handled by the autonomous agent, while the subsequent operations are performed by a separate component. This enables each component to focus on its strengths.\n",
                "\n",
                "These advancements illustrate how the fundamental concept of autonomous agents can be extended and enhanced for more sophisticated applications. By combining autonomous web navigation with intelligent analysis, parameterized inputs, and advanced session handling, we can create powerful solutions for complex real-world problems while maintaining the simplicity and adaptability that make autonomous agents so valuable."
            ]
        },
        {
            "cell_type": "markdown",
            "metadata": {},
            "source": [
                "## Conclusion\n",
                "\n",
                "This example demonstrates the power of combining autonomous web agents with intelligent analysis. Our system:\n",
                "\n",
                "1. Autonomously navigates complex real estate websites\n",
                "2. Handles advanced features like CAPTCHAs and proxies\n",
                "3. Extracts structured property information\n",
                "4. Applies intelligent ranking based on natural language preferences\n",
                "\n",
                "The result is a sophisticated apartment search tool that not only finds properties matching specific criteria but also intelligently ranks them according to user preferences. This combination of autonomous web navigation and intelligent analysis creates a more powerful and user-friendly solution than either capability alone could provide."
            ]
        },
        {
            "cell_type": "markdown",
            "metadata": {},
            "source": [
                "## Relevant Links\n",
                "- [Hyperbrowser](https://hyperbrowser.ai)\n",
                "- [OpenAI Docs](https://platform.openai.com/docs/introduction)\n",
                "- [Hyperbrowser Browser-use cookbook](\"/cookbook/browser-use\")"
            ]
        }
    ],
    "metadata": {
        "kernelspec": {
            "display_name": ".venv",
            "language": "python",
            "name": "python3"
        },
        "language_info": {
            "codemirror_mode": {
                "name": "ipython",
                "version": 3
            },
            "file_extension": ".py",
            "mimetype": "text/x-python",
            "name": "python",
            "nbconvert_exporter": "python",
            "pygments_lexer": "ipython3",
            "version": "3.13.2"
        }
    },
    "nbformat": 4,
    "nbformat_minor": 2
}

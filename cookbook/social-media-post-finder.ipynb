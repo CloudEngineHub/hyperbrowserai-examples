{
    "cells": [
        {
            "cell_type": "markdown",
            "metadata": {},
            "source": [
                "# Building a Content Discovery Agent with Hyperbrowser and GPT-4o\n",
                "\n",
                "In this cookbook, we'll build an intelligent agent that can find related content from content creators across the web. Given a link to one piece of content (like a video, article, or post), our agent will:\n",
                "\n",
                "1. Identify the creator/channel/profile that published the content\n",
                "2. Find the homepage or profile page of that creator\n",
                "3. Discover other content published by the same creator\n",
                "\n",
                "We'll use these tools to build our agent:\n",
                "\n",
                "- **[Hyperbrowser](https://hyperbrowser.ai)** for web scraping and data extraction\n",
                "- **OpenAI's GPT-4o** for reasoning about web content and finding connections\n",
                "\n",
                "By the end of this cookbook, you'll have a versatile agent that can help you discover more content from creators you enjoy!\n"
            ]
        },
        {
            "cell_type": "markdown",
            "metadata": {},
            "source": [
                "## Prerequisites\n",
                "\n",
                "To follow along you'll need the following:\n",
                "\n",
                "1. A Hyperbrowser API key (sign up at [hyperbrowser.ai](https://hyperbrowser.ai) if you don't have one, it's free)\n",
                "2. An OpenAI API key (sign up at [openai.com](https://openai.com) if you don't have one, it's free)\n",
                "\n",
                "Both API keys should be stored in a `.env` file in the same directory as this notebook with the following format:\n",
                "\n",
                "```\n",
                "HYPERBROWSER_API_KEY=your_hyperbrowser_key_here\n",
                "OPENAI_API_KEY=your_openai_key_here\n",
                "```\n"
            ]
        },
        {
            "cell_type": "markdown",
            "metadata": {},
            "source": [
                "## Step 1: Set up imports and load environment variables\n",
                "\n",
                "First, we'll import the necessary libraries and load our environment variables from the .env file.\n"
            ]
        },
        {
            "cell_type": "code",
            "execution_count": null,
            "metadata": {},
            "outputs": [],
            "source": [
                "import asyncio\n",
                "import json\n",
                "import os\n",
                "\n",
                "from dotenv import load_dotenv\n",
                "from hyperbrowser import AsyncHyperbrowser\n",
                "from hyperbrowser.tools import WebsiteExtractTool, WebsiteScrapeTool\n",
                "from openai import AsyncOpenAI\n",
                "from openai.types.chat import (\n",
                "    ChatCompletionMessageParam,\n",
                "    ChatCompletionMessageToolCall,\n",
                "    ChatCompletionToolMessageParam,\n",
                ")\n",
                "\n",
                "load_dotenv()"
            ]
        },
        {
            "cell_type": "markdown",
            "metadata": {},
            "source": [
                "## Step 2: Initialize clients\n",
                "\n",
                "Next, we'll create instances of Hyperbrowser and OpenAI's API clients using our API keys.\n"
            ]
        },
        {
            "cell_type": "code",
            "execution_count": 2,
            "metadata": {},
            "outputs": [],
            "source": [
                "hb = AsyncHyperbrowser(api_key=os.getenv(\"HYPERBROWSER_API_KEY\"))\n",
                "llm = AsyncOpenAI()"
            ]
        },
        {
            "cell_type": "markdown",
            "metadata": {},
            "source": [
                "## Step 3: Create a tool handler function\n",
                "\n",
                "This function processes tool calls from the LLM and executes the appropriate web extraction or scraping operations. It then returns the results back to the agent for further analysis.\n",
                "\n",
                "Currently, it's set up to use both the scraping and structured extraction tool, but should be easy to set up with other tools as well.\n"
            ]
        },
        {
            "cell_type": "code",
            "execution_count": 11,
            "metadata": {},
            "outputs": [],
            "source": [
                "async def handle_tool_call(\n",
                "    tc: ChatCompletionMessageToolCall,\n",
                ") -> ChatCompletionToolMessageParam:\n",
                "    print(f\"Handling tool call: {tc.function.name}\")\n",
                "\n",
                "    try:\n",
                "        if (\n",
                "            tc.function.name\n",
                "            == WebsiteExtractTool.openai_tool_definition[\"function\"][\"name\"]\n",
                "        ):\n",
                "            args = json.loads(tc.function.arguments)\n",
                "            content = await WebsiteExtractTool.async_runnable(hb=hb, params=args)\n",
                "            return {\"role\": \"tool\", \"tool_call_id\": tc.id, \"content\": content}\n",
                "        elif (\n",
                "            tc.function.name\n",
                "            == WebsiteScrapeTool.openai_tool_definition[\"function\"][\"name\"]\n",
                "        ):\n",
                "            args = json.loads(tc.function.arguments)\n",
                "            content = await WebsiteScrapeTool.async_runnable(hb=hb, params=args)\n",
                "            return {\"role\": \"tool\", \"tool_call_id\": tc.id, \"content\": content}\n",
                "        else:\n",
                "            raise ValueError(f\"Tool not found: {tc.function.name}\")\n",
                "\n",
                "    except Exception as e:\n",
                "        err_msg = f\"Error handling tool call: {e}\"\n",
                "        print(err_msg)\n",
                "        return {\n",
                "            \"role\": \"tool\",\n",
                "            \"tool_call_id\": tc.id,\n",
                "            \"content\": err_msg,\n",
                "            \"is_error\": True,  # type: ignore\n",
                "        }"
            ]
        },
        {
            "cell_type": "markdown",
            "metadata": {},
            "source": [
                "## Step 4: Implement the agent loop\n",
                "\n",
                "This is the core of our agent's functionality. The agent loop manages the conversation between the model and its tools, allowing it to make multiple tool calls as needed to gather information about the content creator and their other works.\n",
                "\n",
                "Simply put,\n",
                "\n",
                "- it takes in a list of messages that include the system prompt, and the user query.\n",
                "- Sends them to Open AI,\n",
                "- Processes the tool calls (if any)\n",
                "- Continues processing until the \"stop\" message is called\n"
            ]
        },
        {
            "cell_type": "code",
            "execution_count": 4,
            "metadata": {},
            "outputs": [],
            "source": [
                "async def agent_loop(messages: list[ChatCompletionMessageParam]) -> str:\n",
                "    while True:\n",
                "        response = await llm.chat.completions.create(\n",
                "            messages=messages,\n",
                "            model=\"gpt-4o\",\n",
                "            tools=[\n",
                "                WebsiteExtractTool.openai_tool_definition,\n",
                "                WebsiteScrapeTool.openai_tool_definition,\n",
                "            ],\n",
                "            max_completion_tokens=8000,\n",
                "        )\n",
                "\n",
                "        choice = response.choices[0]\n",
                "\n",
                "        # Append response to messages\n",
                "        messages.append(choice.message)  # type: ignore\n",
                "\n",
                "        # Handle tool calls\n",
                "        if (\n",
                "            choice.finish_reason == \"tool_calls\"\n",
                "            and choice.message.tool_calls is not None\n",
                "        ):\n",
                "            tool_result_messages = await asyncio.gather(\n",
                "                *[handle_tool_call(tc) for tc in choice.message.tool_calls]\n",
                "            )\n",
                "            messages.extend(tool_result_messages)\n",
                "\n",
                "        elif choice.finish_reason == \"stop\" and choice.message.content is not None:\n",
                "            return choice.message.content\n",
                "\n",
                "        else:\n",
                "            print(choice)\n",
                "            raise ValueError(f\"Unhandled finish reason: {choice.finish_reason}\")"
            ]
        },
        {
            "cell_type": "markdown",
            "metadata": {},
            "source": [
                "## Step 5: Design the system prompt\n",
                "\n",
                "The system prompt dicatates the behavior of the LLM. Our prompt establishes what the agent should do: find the creator/channel of the provided content, and then if needed, locate their homepage, and discover other content they've published.\n",
                "\n",
                "Note that we also provide a reasonably detailed description of the tools that the LLM can use.\n"
            ]
        },
        {
            "cell_type": "code",
            "execution_count": 5,
            "metadata": {},
            "outputs": [],
            "source": [
                "SYSTEM_PROMPT = \"\"\"\n",
                "You are a helpful assistant that can help me find content on the internet. You will be supplied with url - {link}, containing content belonging to a certain channel/profile. You will be required to find other content belonging to the same channel/profile. You can either \n",
                "- Get the relevant content directly from the page itself, or \n",
                "- You can scrape the provided link, to get the homepage of the channel/profile. You can scrape the homepage to get the other content belonging to the same channel/profile.\n",
                "\n",
                "To do this, you have access to two tools:\n",
                "1. You can use the 'extract_data' tool to get the structured data from the webpage, although you will have to provide the formatted json schema. The json schema must have a object at the root/top level.\n",
                "\n",
                "2. You can use the 'scrape_website' tool to scrape the website and get the markdown content directly from the website.\n",
                "\n",
                "You will return to me two things\n",
                "- The url of the homepage of the channel/profile\n",
                "- The list of urls of the other content belonging to the same channel/profile.\n",
                "\"\"\".strip()"
            ]
        },
        {
            "cell_type": "markdown",
            "metadata": {},
            "source": [
                "## Step 6: Create a factory function for generating content discovery agents\n",
                "\n",
                "Now we'll create a factory function that generates specialized content discovery agents. This function takes a content URL as input and returns a function that can discover other content from the same creator.\n",
                "\n",
                "Some minor cleaning is also done on the link to ensure that it is properly formatted.\n"
            ]
        },
        {
            "cell_type": "code",
            "execution_count": 6,
            "metadata": {},
            "outputs": [],
            "source": [
                "from typing import Coroutine, Any, Callable\n",
                "\n",
                "\n",
                "def make_social_media_agent(\n",
                "    link_to_profile: str,\n",
                ") -> Callable[..., Coroutine[Any, Any, str]]:\n",
                "    # Popular documentation providers like Gitbook, Mintlify etc automatically generate a llms.txt file\n",
                "    # for documentation sites hosted on their platforms.\n",
                "    if not (\n",
                "        link_to_profile.startswith(\"http://\") or link_to_profile.startswith(\"https://\")\n",
                "    ):\n",
                "        link_to_profile = f\"https://{link_to_profile}\"\n",
                "\n",
                "    sysprompt = SYSTEM_PROMPT.format(\n",
                "        link=link_to_profile,\n",
                "    )\n",
                "\n",
                "    async def solve_code(question: str) -> str:\n",
                "        return await agent_loop(\n",
                "            [\n",
                "                {\"role\": \"system\", \"content\": sysprompt},\n",
                "                {\"role\": \"user\", \"content\": question},\n",
                "            ]\n",
                "        )\n",
                "\n",
                "    return solve_code"
            ]
        },
        {
            "cell_type": "markdown",
            "metadata": {},
            "source": [
                "## Step 7: Test the agent with a real content URL\n",
                "\n",
                "Let's test our agent by creating an instance for a YouTube video and asking it to find other content from the same channel. This will demonstrate the full workflow:\n",
                "\n",
                "1. The agent receives a link to a YouTube video\n",
                "2. It uses web scraping tools to identify the channel that published the video\n",
                "3. It finds the channel's homepage\n",
                "4. It discovers other videos published by the same channel\n",
                "5. It returns both the channel URL and a list of other content URLs\n",
                "\n",
                "You'll see the tool calls being made in real-time as the agent works.\n"
            ]
        },
        {
            "cell_type": "code",
            "execution_count": 9,
            "metadata": {},
            "outputs": [
                {
                    "name": "stdout",
                    "output_type": "stream",
                    "text": [
                        "Handling tool call: scrape_webpage\n",
                        "The video belongs to the YouTube channel \"Mentour Now!\". Here are the details you requested:\n",
                        "\n",
                        "- **Channel Homepage**: [Mentour Now!](https://www.youtube.com/@MentourNow)\n",
                        "  \n",
                        "- **List of Videos from the Channel**:\n",
                        "  1. [Did Airbus just Change EVERYTHING?!](https://www.youtube.com/watch?v=9066onUKCl8)\n",
                        "  2. [WHO is Winning the FIGHT between AIRBUS and QATAR Airways?!](https://www.youtube.com/watch?v=0KSkobkfKtQ)\n",
                        "  3. [THIS Is the LAST THING Boeing Needs!](https://www.youtube.com/watch?v=6If2jSyeAus)\n",
                        "  4. [This Engine Could Seriously Threaten Boeing!](https://www.youtube.com/watch?v=57RlvnjPKM4)\n",
                        "  5. [Boeing 777-10 - The PERFECT 747 Replacement?](https://www.youtube.com/watch?v=sH5q1h9UiZA)\n",
                        "  6. [The B-36 Peacemaker Had 10 ENGINES - Why Did It Fail?](https://www.youtube.com/watch?v=8gfHLU6wxJA)\n",
                        "  7. [This New Airbus Is About to Change Everything...](https://www.youtube.com/watch?v=dyRvlyqM4mY)\n",
                        "\n",
                        "These are some of the recent videos posted by the channel \"Mentour Now!\".\n"
                    ]
                }
            ],
            "source": [
                "link_to_social_media_profile = \"https://www.youtube.com/watch?v=9066onUKCl8\"\n",
                "\n",
                "question = \"Get me the list of videos belonging to the channel/profile\"\n",
                "\n",
                "agent = make_social_media_agent(link_to_social_media_profile)\n",
                "\n",
                "response = await agent(question)\n",
                "\n",
                "print(response)"
            ]
        },
        {
            "cell_type": "markdown",
            "metadata": {},
            "source": [
                "## Conclusion\n",
                "\n",
                "In this cookbook, we built a powerful content discovery agent using Hyperbrowser and OpenAI's GPT-4o. This agent can:\n",
                "\n",
                "1. Take any content URL (like a video, article, or social media post)\n",
                "2. Identify the creator, channel, or profile that published it\n",
                "3. Find the creator's homepage or profile page\n",
                "4. Discover other content published by the same creator\n",
                "5. Return a structured list of related content\n",
                "\n",
                "This pattern can be extended to create more sophisticated content discovery tools or be integrated into larger applications like content recommendation engines, research assistants, or social media monitoring tools.\n",
                "\n",
                "### Next Steps\n",
                "\n",
                "To take this further, you might consider:\n",
                "\n",
                "- Adding support for more platforms (Twitter, Substack, Medium, etc.)\n",
                "- Implementing content filtering based on topics or keywords\n",
                "- Creating a web interface where users can paste content links\n",
                "- Adding content summarization for each discovered piece\n",
                "- Building a database to track creators and their content over time\n",
                "\n",
                "Happy content discovering!\n"
            ]
        },
        {
            "cell_type": "markdown",
            "metadata": {},
            "source": [
                "## Relevant Links\n",
                "\n",
                "- [Hyperbrowser](https://hyperbrowser.ai)\n",
                "- [Hyperbrowser Documentation](https://docs.hyperbrowser.ai)\n",
                "- [OpenAI API Documentation](https://platform.openai.com/docs/introduction)\n"
            ]
        }
    ],
    "metadata": {
        "kernelspec": {
            "display_name": ".venv",
            "language": "python",
            "name": "python3"
        },
        "language_info": {
            "codemirror_mode": {
                "name": "ipython",
                "version": 3
            },
            "file_extension": ".py",
            "mimetype": "text/x-python",
            "name": "python",
            "nbconvert_exporter": "python",
            "pygments_lexer": "ipython3",
            "version": "3.13.2"
        }
    },
    "nbformat": 4,
    "nbformat_minor": 2
}

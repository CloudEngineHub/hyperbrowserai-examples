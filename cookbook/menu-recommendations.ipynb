{
    "cells": [
        {
            "cell_type": "markdown",
            "metadata": {},
            "source": [
                "# Restaurant Menu AI Concierge with Hyperbrowser\n",
                "\n",
                "In this cookbook, we'll create an AI-powered restaurant menu concierge using Hyperbrowser. Unlike traditional restaurant review apps that just show static menu information, our agent will:\n",
                "\n",
                "1. Navigate directly to a restaurant's website\n",
                "2. Analyze the complete menu in real-time\n",
                "3. Make personalized recommendations based on dietary preferences\n",
                "4. Calculate total meal costs\n",
                "5. Consider presentation quality for social media worthiness\n",
                "\n",
                "All with just a few lines of code and a natural language prompt!\n"
            ]
        },
        {
            "cell_type": "markdown",
            "metadata": {},
            "source": [
                "## Prerequisites\n",
                "\n",
                "Before beginning, you'll need:\n",
                "\n",
                "1. A Hyperbrowser API key (sign up at [hyperbrowser.ai](https://hyperbrowser.ai) if needed)\n",
                "\n",
                "Store your API key in a `.env` file in the same directory as your code.\n"
            ]
        },
        {
            "cell_type": "markdown",
            "metadata": {},
            "source": [
                "## Step 1: Import Libraries and Set Up Environment\n"
            ]
        },
        {
            "cell_type": "code",
            "execution_count": null,
            "metadata": {},
            "outputs": [],
            "source": [
                "import os\n",
                "\n",
                "from dotenv import load_dotenv\n",
                "from hyperbrowser import AsyncHyperbrowser\n",
                "from hyperbrowser.models import StartBrowserUseTaskParams\n",
                "\n",
                "from IPython.display import Markdown, display\n",
                "\n",
                "load_dotenv()"
            ]
        },
        {
            "cell_type": "markdown",
            "metadata": {},
            "source": [
                "## Step 2: Initialize the Hyperbrowser Client\n"
            ]
        },
        {
            "cell_type": "code",
            "execution_count": 2,
            "metadata": {},
            "outputs": [],
            "source": [
                "hb = AsyncHyperbrowser(api_key=os.getenv(\"HYPERBROWSER_API_KEY\"))"
            ]
        },
        {
            "cell_type": "markdown",
            "metadata": {},
            "source": [
                "## Step 3: Define the Menu Recommendation Function\n",
                "\n",
                "This function demonstrates the power of autonomous web agents for specialized tasks:\n",
                "\n",
                "1. It takes a natural language request with multiple parameters (restaurant name, meal type, dietary restrictions, aesthetic preferences)\n",
                "2. The agent navigates to the restaurant's website without requiring a specific URL\n",
                "3. It identifies and interprets the menu, filtering based on dietary preferences\n",
                "4. It uses vision and judgment to select Instagram-worthy options and calculates total cost\n",
                "\n",
                "Unlike traditional web scrapers that would break with website changes, this approach adapts automatically to different restaurant websites and menu formats.\n"
            ]
        },
        {
            "cell_type": "code",
            "execution_count": 3,
            "metadata": {},
            "outputs": [],
            "source": [
                "async def menu_suggestions(user_requirements: str):\n",
                "    resp = await hb.agents.browser_use.start_and_wait(\n",
                "        StartBrowserUseTaskParams(\n",
                "            task=f\"You are a restaurant menu concierge. You are tasked to satisfy the users requirements to the best of your ability. Here are the users requirements: {user_requirements}.\",\n",
                "            use_vision=True,\n",
                "        )\n",
                "    )\n",
                "    if resp.data is not None:\n",
                "        return resp.data.final_result\n",
                "    return None"
            ]
        },
        {
            "cell_type": "markdown",
            "metadata": {},
            "source": [
                "## Step 4: Execute the Agent and Display Personalized Recommendations\n",
                "\n",
                "The output below shows real-time menu recommendations from Rooh SF based on the specified dietary preferences and presentation criteria. The agent has successfully:\n",
                "\n",
                "1. Found the restaurant's website\n",
                "2. Identified vegetarian options across menu categories\n",
                "3. Selected visually appealing dishes\n",
                "4. Created a three-course meal recommendation\n",
                "5. Calculated the approximate total cost\n"
            ]
        },
        {
            "cell_type": "code",
            "execution_count": 10,
            "metadata": {},
            "outputs": [
                {
                    "data": {
                        "text/markdown": [
                            "Okay, I can suggest a 3-course vegetarian meal at Rooh SF. For an appetizer, I recommend the Dahi Puri ($16), described as semolina puff with yogurt mousse, containing flavors of avocado, tamarind, raspberry, and mint. For the main course, I suggest the Paneer Pinwheel ($28), which is paneer cheese stuffed and rolled with nuts & spices, and layered over tomato makhni gravy. Finally, for dessert, I recommend the Panna Cotta ($15). The approximate cost of this meal is $16 + $28 + $15 = $59. I have chosen these items based on the menu descriptions and the likelihood that they would be visually appealing."
                        ],
                        "text/plain": [
                            "<IPython.core.display.Markdown object>"
                        ]
                    },
                    "metadata": {},
                    "output_type": "display_data"
                }
            ],
            "source": [
                "response = await menu_suggestions(\n",
                "    \"I want to go to rooh SF for dinner, and I'm looking for a 3 course meal. I'm vegetarian, so keep that in mind when suggesting a menu. While not required, it'd be nice if the food looked instagram worthy. Also return me the approximate cost of the meal.\"\n",
                ")\n",
                "if response is not None:\n",
                "    display(Markdown(response))\n",
                "else:\n",
                "    print(\"No response from the agent\")"
            ]
        },
        {
            "cell_type": "markdown",
            "metadata": {},
            "source": [
                "## Another example\n",
                "\n",
                "Let's explore another example of our menu recommendation agent in action. This time, we'll focus on a different cuisine and restaurant - Momofuku NY, known for their ramen dishes. In this example, 'll:\n",
                "\n",
                "1. Navigate to Momofuku NY's website\n",
                "2. Specifically look for their ramen offerings\n",
                "3. Present all available ramen options\n",
                "4. Recommend the most savory option based on menu descriptions and ingredients\n",
                "\n",
                "This demonstrates how our agent can handle specific dish inquiries rather than full course meals, showing its flexibility across different types of culinary requests.\n"
            ]
        },
        {
            "cell_type": "code",
            "execution_count": 4,
            "metadata": {},
            "outputs": [
                {
                    "data": {
                        "text/markdown": [
                            "Momofuku Noodle Bar in East Village offers the following ramen choices:\n",
                            "- Garlic Chicken Ramen: baby spinach, poached egg. Price: 21\n",
                            "- Pork Ramen: pork belly, poached egg, bamboo. Price: 22\n",
                            "- Spicy Mushroom Ramen: miso, toasted chili oil, yu choy. Price: 22\n",
                            "Based on the description, the Pork Ramen sounds like the most savory option due to the inclusion of pork belly."
                        ],
                        "text/plain": [
                            "<IPython.core.display.Markdown object>"
                        ]
                    },
                    "metadata": {},
                    "output_type": "display_data"
                }
            ],
            "source": [
                "response = await menu_suggestions(\n",
                "    \"I'm looking to go to Momofuku NY. I'm curious about what choices they have for ramens. Get me all the choices, and suggest me the most savory one.'\"\n",
                ")\n",
                "if response is not None:\n",
                "    display(Markdown(response))\n",
                "else:\n",
                "    print(\"No response from the agent\")"
            ]
        },
        {
            "cell_type": "markdown",
            "metadata": {},
            "source": [
                "## Conclusion\n",
                "\n",
                "This cookbook demonstrates how Hyperbrowser can transform complex web-based tasks into simple natural language requests. The menu recommendation agent we've built:\n",
                "\n",
                "1. Searches google and navigates to the correct website\n",
                "2. Finds specific elements within the page that correlate to location.\n",
                "3. Finds elements in the page and recommends them based on the users criterias.\n",
                "4. Gives practical information like pricing to inform dining decisions\n",
                "5. Can be easily modified to search any restaurant or accommodate any dietary preference\n",
                "\n",
                "This approach can be extended to create specialized agents for various domains beyond restaurants - from travel planning to product research - anywhere web data needs to be intelligently filtered and presented.\n",
                "\n",
                "## Relevant Links\n",
                "\n",
                "- [Hyperbrowser](https://hyperbrowser.ai)\n",
                "- [Hyperbrowser Documentation](https://docs.hyperbrowser.ai)\n"
            ]
        }
    ],
    "metadata": {
        "kernelspec": {
            "display_name": ".venv",
            "language": "python",
            "name": "python3"
        },
        "language_info": {
            "codemirror_mode": {
                "name": "ipython",
                "version": 3
            },
            "file_extension": ".py",
            "mimetype": "text/x-python",
            "name": "python",
            "nbconvert_exporter": "python",
            "pygments_lexer": "ipython3",
            "version": "3.13.2"
        }
    },
    "nbformat": 4,
    "nbformat_minor": 2
}

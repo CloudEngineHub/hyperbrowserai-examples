{
    "cells": [
        {
            "cell_type": "markdown",
            "metadata": {},
            "source": [
                "# Building a Steam Sale Recommendation Agent with Hyperbrowser and Anthropic Claude\n",
                "\n",
                "In this cookbook, we'll build a smart agent that can recommend games on sale from Steam that match your preferences. This tool combines:\n",
                "\n",
                "- **Hyperbrowser** for accessing dynamic web content on Steam's store pages\n",
                "- **Playwright** for navigating and extracting data from Steam's special offers\n",
                "- **Anthropic's Claude Sonnet 3.5/3.7** for understanding user preferences and analyzing game recommendations\n",
                "\n",
                "We'll use a hybrid approach where we first manually filter the data by navigating to specific Steam pages and selecting relevant elements, and then leverage Claude to extract and structure the information—combining the efficiency of targeted scraping with the intelligence of language models.\n",
                "\n",
                "By the end of this cookbook, you'll have an intelligent tool that can find discounted games tailored to your gaming preferences!\n"
            ]
        },
        {
            "cell_type": "markdown",
            "metadata": {},
            "source": [
                "## Prerequisites\n",
                "\n",
                "Before starting, make sure you have:\n",
                "\n",
                "1. A Hyperbrowser API key (sign up at [hyperbrowser.ai](https://hyperbrowser.ai) if you don't have one)\n",
                "2. An Anthropic API key with access to Claude Sonnet 3.5/3.7\n",
                "3. Python 3.9+ installed with Playwright and other required packages\n",
                "\n",
                "Both API keys should be stored in a `.env` file in the same directory as this notebook with the following format:\n",
                "\n",
                "```\n",
                "HYPERBROWSER_API_KEY=your_hyperbrowser_key_here\n",
                "ANTHROPIC_API_KEY=your_anthropic_key_here\n",
                "```\n"
            ]
        },
        {
            "cell_type": "markdown",
            "metadata": {},
            "source": [
                "## Step 1: Set up imports and load environment variables\n"
            ]
        },
        {
            "cell_type": "code",
            "execution_count": 13,
            "metadata": {},
            "outputs": [],
            "source": [
                "import asyncio\n",
                "import os\n",
                "import json\n",
                "\n",
                "from dotenv import load_dotenv\n",
                "from hyperbrowser import AsyncHyperbrowser\n",
                "from playwright.async_api import async_playwright, Page\n",
                "from anthropic import AsyncAnthropic\n",
                "\n",
                "from typing import List\n",
                "from pydantic import BaseModel\n",
                "from IPython.display import Markdown, display\n",
                "\n",
                "load_dotenv()"
            ]
        },
        {
            "cell_type": "markdown",
            "metadata": {},
            "source": [
                "## Step 2: Initialize API clients\n",
                "\n",
                "We'll create instances of the Hyperbrowser and Anthropic clients to access their APIs throughout our notebook.\n"
            ]
        },
        {
            "cell_type": "code",
            "execution_count": 14,
            "metadata": {},
            "outputs": [],
            "source": [
                "hb = AsyncHyperbrowser(api_key=os.getenv(\"HYPERBROWSER_API_KEY\"))\n",
                "llm = AsyncAnthropic(api_key=os.getenv(\"ANTHROPIC_API_KEY\"))"
            ]
        },
        {
            "cell_type": "markdown",
            "metadata": {},
            "source": [
                "## Step 3: Define data models and scraping functions\n",
                "\n",
                "Now we'll define the data structures and functions needed to extract sale information from Steam. This steps for this are -\n",
                "\n",
                "1. Create a Pydantic model to structure our game data with relevant fields like price, sentiment, and tags\n",
                "2. Navigate through Hyperbrowser sessions and Playwright to scrape dynamic content\n",
                "3. Extract the on-sale games list from the Steam website\n",
                "4. Parse unstructured text into structured game information using Claude\n",
                "\n",
                "Steam's website has a dynamic interface, so we use Playwright to interact with it and access the special offers tab.\n",
                "\n",
                "Our approach is hybrid: we use Playwright for targeted manual filtering—navigating directly to the specials page and extracting specific HTML elements using selectors. This narrows down the data to just what we need before passing it to Claude, which handles the complex task of understanding and structuring the data. This combination provides both efficiency and intelligence.\n"
            ]
        },
        {
            "cell_type": "code",
            "execution_count": 15,
            "metadata": {},
            "outputs": [],
            "source": [
                "class SteamSpecials(BaseModel):\n",
                "    game: str\n",
                "    current_price: str\n",
                "    original_price: str\n",
                "    sentiment: str\n",
                "    tags: List[str]\n",
                "\n",
                "\n",
                "class SteamSpecialsList(BaseModel):\n",
                "    specials: List[SteamSpecials]\n",
                "\n",
                "\n",
                "async def get_specials(page: Page):\n",
                "    steam_specials = await page.wait_for_selector(\"._3EdZTDIisUpowxwm6uJ7Iq\")\n",
                "    await asyncio.sleep(5)\n",
                "    # steam_specials_list = await page.query_selector_all(\".gASJ2lL_xmVNuZkWGvrWg\")\n",
                "    if steam_specials is not None:\n",
                "        steam_specials_text = await steam_specials.inner_text()\n",
                "    else:\n",
                "        raise ValueError(\"No specials found\")\n",
                "\n",
                "    return steam_specials_text\n",
                "\n",
                "\n",
                "async def get_steam_specials_text():\n",
                "    async with async_playwright() as p:\n",
                "        session = await hb.sessions.create()\n",
                "        if session is None or session.ws_endpoint is None:\n",
                "            raise ValueError(\"No session found\")\n",
                "        browser = await p.chromium.connect_over_cdp(session.ws_endpoint)\n",
                "        page = await browser.new_page(viewport={\"width\": 2560, \"height\": 1440})\n",
                "        await page.goto(\"https://store.steampowered.com/specials#tab=TopSellers\")\n",
                "\n",
                "        steam_specials_text = await get_specials(page)\n",
                "\n",
                "        return steam_specials_text\n",
                "\n",
                "\n",
                "async def process_steam_specials(steam_specials_text: str):\n",
                "    response = await llm.messages.create(\n",
                "        model=\"claude-3-7-sonnet-latest\",\n",
                "        messages=[\n",
                "            {\n",
                "                \"role\": \"user\",\n",
                "                \"content\": f\"Please extract game information from this Steam specials text into JSON format. Follow this structure exactly:\\n\\n{SteamSpecialsList.model_json_schema()}\\n\\nHere's the text to parse:\\n\\n{steam_specials_text}\\n\\nPlease respond with valid JSON only. Do not add any other text or comments, like ```json or ```. Provide me only the JSON response formatted as a string\",\n",
                "            }\n",
                "        ],\n",
                "        max_tokens=4000,\n",
                "    )\n",
                "    # Check the content type and extract the text\n",
                "    if isinstance(response.content, list) and len(response.content) > 0:\n",
                "        content_block = response.content[0]\n",
                "        if hasattr(content_block, \"type\") and content_block.type == \"text\":\n",
                "            content = content_block.text\n",
                "        else:\n",
                "            content_type = getattr(content_block, \"type\", \"unknown\")\n",
                "            print(f\"Unexpected content type: {content_type}\")\n",
                "            raise ValueError(\n",
                "                f\"Invalid response from Claude: expected text content but got {content_type}\"\n",
                "            )\n",
                "    else:\n",
                "        print(f\"Unexpected response structure: {response.content}\")\n",
                "        raise ValueError(\"Invalid response from Claude: empty or invalid content\")\n",
                "\n",
                "    data = json.loads(content)\n",
                "    return SteamSpecialsList.model_validate(data)\n",
                "\n",
                "\n",
                "async def get_steam_specials():\n",
                "    specials_text = await get_steam_specials_text()\n",
                "    specials_list = await process_steam_specials(specials_text)\n",
                "    return specials_list"
            ]
        },
        {
            "cell_type": "markdown",
            "metadata": {},
            "source": [
                "## Step 4: Create the recommendation agent\n",
                "\n",
                "Now we'll build the recommendation agent that combines the scraped Steam specials with user queries to suggest relevant games. This function:\n",
                "\n",
                "1. Gets the latest list of games on sale\n",
                "2. Feeds this structured data to Claude Sonnet 3.5 along with the user's preferences\n",
                "3. Returns personalized game recommendations based on the available specials\n",
                "\n",
                "This agent acts as a personal game shopper, understanding your tastes and matching them with current deals.\n"
            ]
        },
        {
            "cell_type": "code",
            "execution_count": 16,
            "metadata": {},
            "outputs": [],
            "source": [
                "async def get_steam_specials_agent(user_query: str):\n",
                "    specials = await get_steam_specials()\n",
                "    if specials is None:\n",
                "        raise ValueError(\"No specials found\")\n",
                "    response = await llm.messages.create(\n",
                "        model=\"claude-3-5-sonnet-latest\",\n",
                "        messages=[\n",
                "            {\n",
                "                \"role\": \"assistant\",\n",
                "                \"content\": \"You are a helpful assistant that recommends games on sale from Steam. You will be given a list of specials and a user query. Answer the user query based on the specials. Return the answer in markdown format.\",\n",
                "            },\n",
                "            {\n",
                "                \"role\": \"assistant\",\n",
                "                \"content\": f\"Here are the current specials on Steam: {(specials.model_dump_json())}\",\n",
                "            },\n",
                "            {\n",
                "                \"role\": \"user\",\n",
                "                \"content\": f\"Based on the provided specials, can you answer this query? {user_query}\",\n",
                "            },\n",
                "        ],\n",
                "        max_tokens=4000,\n",
                "    )\n",
                "    return response"
            ]
        },
        {
            "cell_type": "markdown",
            "metadata": {},
            "source": [
                "## Step 5: Test the recommendation agent\n",
                "\n",
                "Let's test our agent by asking for recommendations similar to a popular game. This will demonstrate the full workflow:\n",
                "\n",
                "1. The agent scrapes the current sales from Steam's special offers page\n",
                "2. It structures this data into a format our recommendation system can use\n",
                "3. It takes the user's query about preferences similar to Stardew Valley\n",
                "4. It returns personalized game recommendations from the current sale items\n",
                "\n",
                "The response is formatted in Markdown for easy reading with game details and reasoning.\n"
            ]
        },
        {
            "cell_type": "code",
            "execution_count": 17,
            "metadata": {},
            "outputs": [
                {
                    "data": {
                        "text/markdown": [
                            "Based on the list of specials and your interest in Stardew Valley, I can recommend:\n",
                            "\n",
                            "### Wanderstop\n",
                            "- **Price**: $22.49 (10% off from $24.99)\n",
                            "- **Tags**: Narrative, Cozy\n",
                            "- **Reviews**: Very Positive\n",
                            "\n",
                            "While not exactly like Stardew Valley, this game has a cozy atmosphere that Stardew Valley fans might enjoy.\n",
                            "\n",
                            "### Ale & Tale Tavern\n",
                            "- **Price**: $8.99 (40% off from $14.99)\n",
                            "- **Tags**: Cooperative, Simulation, Open-world\n",
                            "- **Reviews**: Very Positive\n",
                            "\n",
                            "This game includes simulation elements similar to Stardew Valley, though it focuses on tavern management rather than farming.\n",
                            "\n",
                            "*Note: While these games share some similar elements with Stardew Valley (like cozy atmosphere or simulation aspects), they aren't exact farming simulator alternatives. However, given the current sales list, these would be the closest matches for a Stardew Valley fan.*"
                        ],
                        "text/plain": [
                            "<IPython.core.display.Markdown object>"
                        ]
                    },
                    "metadata": {},
                    "output_type": "display_data"
                }
            ],
            "source": [
                "response = await get_steam_specials_agent(\n",
                "    \"I like stardew valley. Is there any game that is similar to it on sale?\"\n",
                ")\n",
                "if response.content[0].text is not None:  # type: ignore\n",
                "    display(Markdown(response.content[0].text))  # type: ignore\n",
                "else:\n",
                "    print(\"No response from the agent\")"
            ]
        },
        {
            "cell_type": "markdown",
            "metadata": {},
            "source": [
                "## Conclusion\n",
                "\n",
                "In this cookbook, we built a Steam sale recommendation agent using Hyperbrowser, Playwright, and Claude Sonnet 3.5. This agent can:\n",
                "\n",
                "1. Automatically scrape current special offers from Steam\n",
                "2. Extract structured data about games on sale\n",
                "3. Match user preferences to available deals\n",
                "4. Generate personalized game recommendations with relevant details\n",
                "\n",
                "Our hybrid approach—where we first manually filter content using Playwright selectors before applying Claude for intelligent extraction—gives us the best of both worlds: the precision of targeted scraping with the cognitive abilities of language models. This allows us to handle Steam's complex dynamic interface efficiently while still getting high-quality structured data.\n",
                "\n",
                "This approach demonstrates how AI can enhance the game discovery process by filtering through sales to find titles that match specific player preferences.\n",
                "\n",
                "### Next Steps\n",
                "\n",
                "To take this further, you might consider:\n",
                "\n",
                "- Adding support for multiple game platforms beyond Steam\n",
                "- Implementing more detailed filtering (price range, genre, etc.)\n",
                "- Creating a web interface for easier interaction\n",
                "- Adding historical price tracking to identify particularly good deals\n",
                "- Incorporating game reviews and critic scores into recommendations\n",
                "\n",
                "Happy gaming! 🎮\n"
            ]
        },
        {
            "cell_type": "markdown",
            "metadata": {},
            "source": [
                "## Relevant Links\n",
                "\n",
                "- [Hyperbrowser](https://hyperbrowser.ai)\n",
                "- [Playwright Documentation](https://playwright.dev/)\n",
                "- [Anthropic Claude API Documentation](https://docs.anthropic.com/claude/reference/getting-started-with-the-api)\n",
                "- [Steam Store](https://store.steampowered.com/)\n"
            ]
        }
    ],
    "metadata": {
        "kernelspec": {
            "display_name": ".venv",
            "language": "python",
            "name": "python3"
        },
        "language_info": {
            "codemirror_mode": {
                "name": "ipython",
                "version": 3
            },
            "file_extension": ".py",
            "mimetype": "text/x-python",
            "name": "python",
            "nbconvert_exporter": "python",
            "pygments_lexer": "ipython3",
            "version": "3.13.2"
        }
    },
    "nbformat": 4,
    "nbformat_minor": 2
}

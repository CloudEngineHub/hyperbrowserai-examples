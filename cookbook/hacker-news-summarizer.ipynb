{
    "cells": [
        {
            "cell_type": "markdown",
            "metadata": {},
            "source": [
                "# Building Autonomous Web Agents with Hyperbrowser and GPT-4o\n",
                "\n",
                "In this cookbook, we'll demonstrate how to create autonomous web agents that can independently navigate the web and perform complex tasks without step-by-step human guidance. These agents can:\n",
                "\n",
                "1. Visit websites and understand their content\n",
                "2. Navigate between pages following logical paths\n",
                "3. Extract and synthesize information from multiple sources\n",
                "4. Perform specific tasks like summarization, research, or data collection\n",
                "\n",
                "All of this can be done from within Hyperbrowser itself. We'll be using the `browser_use` agent for Hyperbrowser to accomplish all of the navigation, interaction, and summarisation.\n",
                "\n",
                "By the end of this cookbook, you'll understand how to deploy agents for various web-based tasks with minimal human intervention!"
            ]
        },
        {
            "cell_type": "markdown",
            "metadata": {},
            "source": [
                "## Prerequisites\n",
                "\n",
                "Before starting, you'll need:\n",
                "\n",
                "1. A Hyperbrowser API key (sign up at [hyperbrowser.ai](https://hyperbrowser.ai) if you don't have one)\n",
                "\n",
                "Store these API keys in a `.env` file in the same directory as this notebook:\n",
                "\n",
                "```\n",
                "HYPERBROWSER_API_KEY=your_hyperbrowser_key_here\n",
                "```"
            ]
        },
        {
            "cell_type": "markdown",
            "metadata": {},
            "source": [
                "## Step 1: Import Libraries and Load Environment Variables\n",
                "\n",
                "We start by importing the necessary packages and initializing our environment. The key components we'll use:\n",
                "\n",
                "- `hyperbrowser`: The main SDK for interacting with the Hyperbrowser API\n",
                "- `AsyncHyperbrowser`: The asynchronous client for making API calls\n",
                "- `StartBrowserUseTaskParams`: Parameters class for configuring autonomous browsing tasks\n",
                "- `IPython.display`: For rendering Markdown output in the notebook\n",
                "\n",
                "We'll also load our environment variables from the .env file to authenticate our API clients."
            ]
        },
        {
            "cell_type": "code",
            "execution_count": null,
            "metadata": {},
            "outputs": [],
            "source": [
                "import os\n",
                "\n",
                "from dotenv import load_dotenv\n",
                "from hyperbrowser import AsyncHyperbrowser\n",
                "from hyperbrowser.models import StartBrowserUseTaskParams\n",
                "\n",
                "from IPython.display import Markdown, display\n",
                "\n",
                "load_dotenv()"
            ]
        },
        {
            "cell_type": "markdown",
            "metadata": {},
            "source": [
                "## Step 2: Initialize API Clients\n",
                "\n",
                "We'll create an instance of the Hyperbrowser client that will handle the web navigation, browsing, and data extraction"
            ]
        },
        {
            "cell_type": "code",
            "execution_count": 6,
            "metadata": {},
            "outputs": [],
            "source": [
                "hb = AsyncHyperbrowser(api_key=os.getenv(\"HYPERBROWSER_API_KEY\"))"
            ]
        },
        {
            "cell_type": "markdown",
            "metadata": {},
            "source": [
                "## Step 3: Define the Autonomous Agent Task Function\n",
                "\n",
                "Now we'll define a function that creates and runs an autonomous web agent. This function demonstrates the simplicity of Hyperbrowser's agent interface:\n",
                "\n",
                "1. We define our task in natural language (\"go to Hacker News and summarize the top 5 posts\")\n",
                "2. The agent autonomously navigates to the website, identifies the relevant posts, and creates a summary\n",
                "3. The agent returns the summary in the requested format (markdown)\n",
                "\n",
                "This approach requires minimal code compared to building the entire agent logic from scratch. The Hyperbrowser API handles complex web interactions, navigation decisions, and content extraction behind the scenes."
            ]
        },
        {
            "cell_type": "code",
            "execution_count": 7,
            "metadata": {},
            "outputs": [],
            "source": [
                "async def summarize_hn_top_posts():\n",
                "    resp = await hb.agents.browser_use.start_and_wait(\n",
                "        StartBrowserUseTaskParams(\n",
                "            task=\"go to Hacker News and summarize the top 5 posts of the day. Respond in markdown format.\"\n",
                "        )\n",
                "    )\n",
                "    if resp.data is not None:\n",
                "        return resp.data.final_result\n",
                "    return None"
            ]
        },
        {
            "cell_type": "markdown",
            "metadata": {},
            "source": [
                "## Step 4: Execute the Agent and Display Results\n",
                "\n",
                "Now we'll run our agent and display its results. The process works as follows:\n",
                "\n",
                "1. We call our `summarize_hn_top_posts()` function asynchronously\n",
                "2. The agent performs the required navigation, interactions, and sorting internally, and returns the summary.\n",
                "3. We display the formatted results in the notebook\n",
                "\n",
                "The output below shows real-time results from Hacker News, demonstrating how the agent can autonomously gather and format information."
            ]
        },
        {
            "cell_type": "code",
            "execution_count": 8,
            "metadata": {},
            "outputs": [
                {
                    "data": {
                        "text/markdown": [
                            "Here's a summary of the top 5 posts from Hacker News:\n",
                            "\n",
                            "1.  What made the Irish famine so deadly - [https://www.newyorker.com/magazine/2025/03/17/rot-padraic-x-scanlan-book-review](https://www.newyorker.com/magazine/2025/03/17/rot-padraic-x-scanlan-book-review)\n",
                            "2.  Bending Spacetime in the Basement - [https://www.fourmilab.ch/gravitation/foobar/](https://www.fourmilab.ch/gravitation/foobar/)\n",
                            "3.  Software-Defined Radio for Engineers (2018) [pdf] - [https://www.analog.com/media/en/training-seminars/design-handbooks/Software-Defined-Radio-for-Engineers-2018/SDR4Engineers.pdf](https://www.analog.com/media/en/training-seminars/design-handbooks/Software-Defined-Radio-for-Engineers-2018/SDR4Engineers.pdf)\n",
                            "4.  The shrouded sinister history of the bulldozer - [https://www.noemamag.com/the-shrouded-sinister-history-of-the-bulldozer/](https://www.noemamag.com/the-shrouded-sinister-history-of-the-bulldozer/)\n",
                            "5.  You suck at CSS and that's okay (2022) - [https://rexriepe.com/yousuckatcss/](https://rexriepe.com/yousuckatcss/)"
                        ],
                        "text/plain": [
                            "<IPython.core.display.Markdown object>"
                        ]
                    },
                    "metadata": {},
                    "output_type": "display_data"
                }
            ],
            "source": [
                "response = await summarize_hn_top_posts()\n",
                "if response is not None:\n",
                "    display(Markdown(response))\n",
                "else:\n",
                "    print(\"No response from the agent\")\n"
            ]
        },
        {
            "cell_type": "markdown",
            "metadata": {},
            "source": [
                "## Understanding Autonomous Agents: A New Paradigm in Web Automation\n",
                "\n",
                "The Hacker News example above demonstrates a fundamental advancement in web automation technology. Traditional web automation requires developers to implement precise instructions: navigating to specific URLs, locating elements through selectors, and handling various edge cases. Autonomous agents, by contrast, operate at a higher level of abstraction, understanding and executing tasks through natural language descriptions.\n",
                "\n",
                "Here's a few key capabilities that such autonomous agents have\n",
                "\n",
                "**Task Understanding and Execution**  \n",
                "Instead of writing explicit navigation and extraction code, we simply describe the desired outcome. The agent determines how to reach the website, identify relevant content, and format the output appropriately.\n",
                "\n",
                "**Adaptability and Resilience**  \n",
                "When websites update their layouts or HTML structure, traditional scrapers often break. Autonomous agents can adapt automatically, understanding the purpose of the task rather than relying on specific selectors or patterns.\n",
                "\n",
                "**Development Efficiency**  \n",
                "What might have required highly specialised knowledge about browsers and automation, can be done simply with basic python and a good description of the task. That also means that a lot more people can participate in the development process.\n",
                "\n",
                "That said, autonomous agents are probably not going to be suitable for all scenarious immediately. Some applications require specific information, hidden inputs, or key strokes that just aren't known to the agent. This still represents a significant advancement in web automation. As demonstrated by our example, they enable developers to focus on what they want to accomplish rather than how to accomplish it, marking a fundamental shift in how we approach web automation tasks."
            ]
        },
        {
            "cell_type": "markdown",
            "metadata": {},
            "source": [
                "## Conclusion\n",
                "\n",
                "In this cookbook, we've demonstrated how to create an autonomous web agent using Hyperbrowser's browser_use API. With just a few lines of code, we were able to:\n",
                "\n",
                "1. Create an agent that navigates to Hacker News\n",
                "2. Extract the current top 5 posts\n",
                "3. Format them into a clean markdown summary with links\n",
                "4. Display the results directly in our notebook\n",
                "\n",
                "This example shows the power of autonomous agents for web automation tasks. Instead of writing complex web scraping code with selectors and navigation logic, we simply described our task in natural language and let the agent handle the details."
            ]
        },
        {
            "cell_type": "markdown",
            "metadata": {},
            "source": [
                "## Relevant Links\n",
                "- [Hyperbrowser](https://hyperbrowser.ai)\n",
                "- [Hyperbrowser Documentation](https://docs.hyperbrowser.ai)\n",
                "- [OpenAI API Documentation](https://platform.openai.com/docs/introduction)\n",
                "- [Hacker News](https://news.ycombinator.com/)"
            ]
        }
    ],
    "metadata": {
        "kernelspec": {
            "display_name": ".venv",
            "language": "python",
            "name": "python3"
        },
        "language_info": {
            "codemirror_mode": {
                "name": "ipython",
                "version": 3
            },
            "file_extension": ".py",
            "mimetype": "text/x-python",
            "name": "python",
            "nbconvert_exporter": "python",
            "pygments_lexer": "ipython3",
            "version": "3.13.2"
        }
    },
    "nbformat": 4,
    "nbformat_minor": 2
}

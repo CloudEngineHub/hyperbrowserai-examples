{
    "cells": [
        {
            "cell_type": "markdown",
            "metadata": {},
            "source": [
                "# Building an Ingredients-Based Recipe Suggester with Hyperbrowser and GPT-4o\n",
                "\n",
                "In this cookbook, we'll create a powerful AI-powered recipe recommendation system that can:\n",
                "\n",
                "1. Analyze photos of ingredients using GPT-4o's vision capabilities\n",
                "2. Extract and prioritize the most useful ingredients in the image\n",
                "3. Autonomously search for recipes that use those ingredients\n",
                "4. Return curated recipe suggestions with links\n",
                "\n",
                "This approach combines:\n",
                "\n",
                "- OpenAI's GPT-4o for image understanding and ingredient extraction\n",
                "- Hyperbrowser's autonomous agents to navigate recipe websites and gather recommendations\n",
                "\n",
                "By the end of this cookbook, you'll have a versatile tool that can look at what's in your fridge and tell you exactly what you can cook!\n"
            ]
        },
        {
            "cell_type": "markdown",
            "metadata": {},
            "source": [
                "## Prerequisites\n",
                "\n",
                "Before starting, make sure you have:\n",
                "\n",
                "1. A Hyperbrowser API key (sign up at [hyperbrowser.ai](https://www.hyperbrowser.ai) if you don't have one)\n",
                "2. An OpenAI API key with access to GPT-4o\n",
                "3. Python 3.9+ installed\n",
                "\n",
                "Both API keys should be stored in a `.env` file in the same directory as this notebook.\n",
                "\n",
                "```\n",
                "HYPERBROWSER_API_KEY=your_hyperbrowser_key_here\n",
                "OPENAI_API_KEY=your_openai_api_key_here\n",
                "```"
            ]
        },
        {
            "cell_type": "markdown",
            "metadata": {},
            "source": [
                "## Step 1: Set up imports and initialize clients\n",
                "\n",
                "We'll start by importing the necessary libraries and initializing our API clients.\n"
            ]
        },
        {
            "cell_type": "code",
            "execution_count": null,
            "metadata": {},
            "outputs": [],
            "source": [
                "import os\n",
                "from typing import Optional\n",
                "\n",
                "from dotenv import load_dotenv\n",
                "from hyperbrowser import AsyncHyperbrowser\n",
                "from hyperbrowser.models.beta.agents.browser_use import StartBrowserUseTaskParams\n",
                "from openai import AsyncOpenAI\n",
                "from openai.types.chat import ChatCompletionMessageParam\n",
                "\n",
                "import base64\n",
                "\n",
                "\n",
                "load_dotenv()"
            ]
        },
        {
            "cell_type": "code",
            "execution_count": 32,
            "metadata": {},
            "outputs": [],
            "source": [
                "hb = AsyncHyperbrowser(api_key=os.getenv(\"HYPERBROWSER_API_KEY\"))\n",
                "llm = AsyncOpenAI()"
            ]
        },
        {
            "cell_type": "markdown",
            "metadata": {},
            "source": [
                "## Step 2: Create the ingredient analysis function\n",
                "\n",
                "Next, we'll create a function that can extract ingredients from a food image. This function:\n",
                "\n",
                "1. Encodes the image as base64 for transmission to the OpenAI API\n",
                "2. Crafts a prompt that instructs the model to identify only food ingredients\n",
                "3. Prioritizes ingredients by their culinary usefulness\n",
                "4. Returns a standardized list of the top 8 most useful ingredients\n",
                "\n",
                "By limiting to 8 ingredients and prioritizing them, we ensure the recipe search will focus on the most important components rather than getting distracted by minor items in the image.\n"
            ]
        },
        {
            "cell_type": "markdown",
            "metadata": {},
            "source": [
                "Here's an example image that we'll be working off of -"
            ]
        },
        {
            "cell_type": "markdown",
            "metadata": {},
            "source": [
                "<p align=\"center\">\n",
                "  <img src=\"/ingredients.jpg\" alt=\"An example list of ingredients\" style=\"max-width:300px\"/>\n",
                "</p>\n"
            ]
        },
        {
            "cell_type": "code",
            "execution_count": null,
            "metadata": {},
            "outputs": [],
            "source": []
        },
        {
            "cell_type": "code",
            "execution_count": 33,
            "metadata": {},
            "outputs": [],
            "source": [
                "async def analyze_ingredients_from_image(image_path: str) -> Optional[str]:\n",
                "\n",
                "    with open(image_path, \"rb\") as image_file:\n",
                "        image_data = base64.b64encode(image_file.read()).decode(\"utf-8\")\n",
                "\n",
                "        messages: list[ChatCompletionMessageParam] = [\n",
                "            {\n",
                "                \"role\": \"user\",\n",
                "                \"content\": [\n",
                "                    {\n",
                "                        \"type\": \"text\",\n",
                "                        \"text\": \"Please analyze this image and list all the ingredients you can see in it. Focus only on food ingredients and kitchen items. Return them as a simple list. Do not return specific products (like doritos), but answer with generic names (like tortilla chips). Answer only with specifics (like bread slices), do not offer alternatives (like Bread slices (or chips/crisps) or any alternative names, only the most common name. Also order them in order of how useful they would be for cooking, and give me only the top 8.\",\n",
                "                    },\n",
                "                    {\n",
                "                        \"type\": \"image_url\",\n",
                "                        \"image_url\": {\"url\": f\"data:image/jpeg;base64,{image_data}\"},\n",
                "                    },\n",
                "                ],\n",
                "            }\n",
                "        ]\n",
                "\n",
                "        response = await llm.chat.completions.create(\n",
                "            model=\"gpt-4o\", messages=messages, max_tokens=1000\n",
                "        )\n",
                "\n",
                "        # Extract ingredients from response\n",
                "        ingredients_text = response.choices[0].message.content\n",
                "\n",
                "        return ingredients_text"
            ]
        },
        {
            "cell_type": "markdown",
            "metadata": {},
            "source": [
                "## Step 3: Create the recipe finder function\n",
                "\n",
                "Now we'll create a function that takes our list of ingredients and searches for suitable recipes. We'll use Hyperbrowser's browser_use agent, which can:\n",
                "\n",
                "1. Navigate to recipe websites autonomously\n",
                "2. Enter our ingredients into search fields\n",
                "3. Find appropriate recipes that use our available ingredients\n",
                "4. Extract and return recipe names and URLs\n",
                "\n",
                "This approach is significantly more flexible than using a fixed API, as the agent can adapt to different website layouts and search functionality.\n"
            ]
        },
        {
            "cell_type": "code",
            "execution_count": 34,
            "metadata": {},
            "outputs": [],
            "source": [
                "async def get_recipes_from_ingredients(ingredients_list: str):\n",
                "\n",
                "    # Start browser session and get recipes\n",
                "    browser_session = await hb.agents.browser_use.start_and_wait(\n",
                "        StartBrowserUseTaskParams(\n",
                "            task=f\"\"\"Go to https://www.reciperadar.com, and from the list of ingredients, get me a list of things I can cook. You should be able to enter the ingredients on the page itself. Do not navigate away from this page. Do not search before you've entered all the ingredients. In some cases you might not be able to enter a specific ingredient. In that case, feel free to remove it.\n",
                " \n",
                " Return to me the URLs of the things I can make along with the name of the recipe. I want 3 recipes.\n",
                " \n",
                " I'm not too picky, but preferably I'd want italian recipes.\n",
                " \n",
                " Here is the list of ingredients that I have: {ingredients_list}\"\"\",\n",
                "            use_vision=True,\n",
                "            max_steps=30,\n",
                "        )\n",
                "    )\n",
                "\n",
                "    return browser_session.data"
            ]
        },
        {
            "cell_type": "markdown",
            "metadata": {},
            "source": [
                "## Step 4: Test the system with a real image\n",
                "\n",
                "Let's test our recipe suggester by analyzing a real image of ingredients and seeing what recipes it can find. We'll trace the complete workflow:\n",
                "\n",
                "1. First, we'll analyze the image to extract ingredients\n",
                "2. Then we'll use those ingredients to search for suitable recipes\n",
                "3. Finally, we'll display the recommended recipes with their URLs\n",
                "\n",
                "This demonstrates the end-to-end process from image to recipe suggestions.\n"
            ]
        },
        {
            "cell_type": "code",
            "execution_count": null,
            "metadata": {},
            "outputs": [
                {
                    "name": "stdout",
                    "output_type": "stream",
                    "text": [
                        "Got ingredients Sure! Here are the top 8 food ingredients and kitchen items from the image:\n",
                        "\n",
                        "1. Lettuce\n",
                        "2. Parsley\n",
                        "3. Green onions\n",
                        "4. Avocados\n",
                        "5. Baby spring mix\n",
                        "6. Cucumber\n",
                        "7. Black beans\n",
                        "8. Cherry tomatoes\n"
                    ]
                }
            ],
            "source": [
                "ingredients_list = await analyze_ingredients_from_image(\"./assets/ingredients.jpg\")\n",
                "print(f\"Got ingredients {ingredients_list}\")"
            ]
        },
        {
            "cell_type": "code",
            "execution_count": 40,
            "metadata": {},
            "outputs": [
                {
                    "name": "stdout",
                    "output_type": "stream",
                    "text": [
                        "I have successfully entered all ingredients and extracted the first 3 recipes. The recipes are:\n",
                        "1. Avocado Ranch BLT Salad in Bacon Cups - https://tastykitchen.com/recipes/salads/avocado-ranch-blt-salad-in-bacon-cups/\n",
                        "2. 11 Layer Salad - https://tastykitchen.com/recipes/salads/11-layer-salad/\n",
                        "3. BBQ Tofu Salad - https://tastykitchen.com/recipes/salads/bbq-tofu-salad/\n",
                        "\n",
                        "These are not italian recipes, but I used all the ingredients you provided.\n"
                    ]
                }
            ],
            "source": [
                "if ingredients_list is None:\n",
                "    raise Exception(\"No ingredients list could be found\")\n",
                "else:\n",
                "    recipes = await get_recipes_from_ingredients(ingredients_list)\n",
                "    print(recipes.final_result)"
            ]
        },
        {
            "cell_type": "markdown",
            "metadata": {},
            "source": [
                "### Next Steps\n",
                "\n",
                "To take this further, you might consider:\n",
                "\n",
                "- Adding dietary preference filters (vegetarian, gluten-free, etc.)\n",
                "- Implementing quantity recognition for more precise recipe matching\n",
                "- Creating a mobile interface for easier kitchen use\n",
                "- Expanding to multiple recipe websites for greater variety\n",
                "- Including nutritional information in the recommendations"
            ]
        },
        {
            "cell_type": "markdown",
            "metadata": {},
            "source": [
                "## Conclusion\n",
                "\n",
                "In this cookbook, we've built a powerful ingredients-based recipe suggester that combines:\n",
                "\n",
                "1. ChatGPT computer vision for ingredient extraction from images\n",
                "2. Autonomous web agents for recipe discovery\n",
                "3. Natural language processing for prioritizing ingredients\n",
                "\n",
                "This system demonstrates how AI can bridge the gap between raw data and actionable insights, showcasing how vision models, autonomous agents, and NLP can be combined to create powerful developer tools and automation workflows; in this case to reduce food waste and eat more healthily.\n",
                "\n",
                "Happy cooking!\n"
            ]
        }
    ],
    "metadata": {
        "kernelspec": {
            "display_name": ".venv",
            "language": "python",
            "name": "python3"
        },
        "language_info": {
            "codemirror_mode": {
                "name": "ipython",
                "version": 3
            },
            "file_extension": ".py",
            "mimetype": "text/x-python",
            "name": "python",
            "nbconvert_exporter": "python",
            "pygments_lexer": "ipython3",
            "version": "3.13.2"
        }
    },
    "nbformat": 4,
    "nbformat_minor": 2
}

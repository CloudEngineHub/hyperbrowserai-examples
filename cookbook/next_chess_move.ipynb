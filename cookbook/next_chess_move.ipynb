{
    "cells": [
        {
            "cell_type": "markdown",
            "metadata": {},
            "source": [
                "# Building a Chess Move Solver with Hyperbrowser and GPT-4o\n",
                "\n",
                "In this cookbook, we'll build a smart chess puzzle solver that can analyze a chess position and recommend the best next move. This approach combines:\n",
                "\n",
                "- **Hyperbrowser** for capturing screenshots of chess positions from websites\n",
                "- **OpenAI's GPT-4o model** for analyzing the position and determining the best move\n",
                "- **Tool-calling** to create an agent that can work with visual chess data\n",
                "\n",
                "By the end of this cookbook, you'll have a reusable agent that can solve chess puzzles from websites like Lichess!"
            ]
        },
        {
            "cell_type": "markdown",
            "metadata": {},
            "source": [
                "## Prerequisites\n",
                "\n",
                "Before starting, make sure you have:\n",
                "\n",
                "1. A Hyperbrowser API key (sign up at [hyperbrowser.ai](https://hyperbrowser.ai) if you don't have one, it's free)\n",
                "2. An OpenAI API key\n",
                "3. Python 3.9+ installed\n",
                "\n",
                "Both API keys should be stored in a `.env` file in the same directory as this notebook with the following format:\n",
                "\n",
                "```\n",
                "HYPERBROWSER_API_KEY=your_hyperbrowser_key_here\n",
                "OPENAI_API_KEY=your_openai_key_here\n",
                "```"
            ]
        },
        {
            "cell_type": "markdown",
            "metadata": {},
            "source": [
                "## Step 1: Set up imports and load environment variables"
            ]
        },
        {
            "cell_type": "code",
            "execution_count": 1,
            "metadata": {},
            "outputs": [
                {
                    "data": {
                        "text/plain": [
                            "True"
                        ]
                    },
                    "execution_count": 1,
                    "metadata": {},
                    "output_type": "execute_result"
                }
            ],
            "source": [
                "import asyncio\n",
                "import json\n",
                "import os\n",
                "\n",
                "from dotenv import load_dotenv\n",
                "from hyperbrowser import AsyncHyperbrowser\n",
                "from hyperbrowser.tools import WebsiteScrapeTool\n",
                "from openai import AsyncOpenAI\n",
                "from openai.types.chat import (\n",
                "    ChatCompletionMessageParam,\n",
                "    ChatCompletionMessageToolCall,\n",
                "    ChatCompletionToolMessageParam,\n",
                ")\n",
                "\n",
                "load_dotenv()"
            ]
        },
        {
            "cell_type": "markdown",
            "metadata": {},
            "source": [
                "## Step 2: Initialize clients"
            ]
        },
        {
            "cell_type": "code",
            "execution_count": 2,
            "metadata": {},
            "outputs": [],
            "source": [
                "hb = AsyncHyperbrowser(api_key=os.getenv(\"HYPERBROWSER_API_KEY\"))\n",
                "oai = AsyncOpenAI()"
            ]
        },
        {
            "cell_type": "markdown",
            "metadata": {},
            "source": [
                "## Step 3: Create a custom tool for taking screenshots of chess positions\n",
                "\n",
                "We'll create a custom tool that can take screenshots of web pages. This is particularly useful for capturing chess positions from websites like Lichess. The tool follows the OpenAI tool definition format and will be used by our agent to visually analyze chess positions."
            ]
        },
        {
            "cell_type": "code",
            "execution_count": 18,
            "metadata": {},
            "outputs": [],
            "source": [
                "from hyperbrowser.models.crawl import StartCrawlJobParams\n",
                "from hyperbrowser.tools.openai import ChatCompletionToolParam\n",
                "\n",
                "class WebsiteScreenshotTool:\n",
                "    screenshot_tool_definition:ChatCompletionToolParam ={\n",
                "        \"type\": \"function\",\n",
                "        \"function\": {\n",
                "            \"name\": \"scrape_webpage\",\n",
                "            \"description\": \"Scrape content from a webpage and return the content in screenshot format\",\n",
                "            \"parameters\": {\n",
                "                \"type\": \"object\",\n",
                "                \"properties\": {\n",
                "                    \"url\": {\n",
                "                        \"type\": \"string\",\n",
                "                        \"description\": \"The URL of the website to scrape\",\n",
                "                    },\n",
                "                    \"scrape_options\": {\n",
                "                        \"type\": \"object\",\n",
                "                        \"properties\": {\n",
                "                            \"format\": {\n",
                "                                \"type\": \"string\",\n",
                "                                \"description\": \"The format of the content to scrape\",\n",
                "                                \"enum\": [\"screenshot\"],\n",
                "                            },\n",
                "                        },\n",
                "                        \"required\": [\"format\"],\n",
                "                        \"additionalProperties\": False,\n",
                "                    },\n",
                "                },\n",
                "                \"required\": [\"url\", \"scrape_options\"],\n",
                "                \"additionalProperties\": False,\n",
                "            },\n",
                "            \"strict\": True,\n",
                "        },\n",
                "    }\n",
                "\n",
                "    @staticmethod\n",
                "    async def async_runnable(hb: AsyncHyperbrowser, params: dict) -> str:\n",
                "        resp = await hb.crawl.start_and_wait(params=StartCrawlJobParams(**params))\n",
                "        print(resp)\n",
                "        screenshot:str = \"\"\n",
                "        if resp.data:\n",
                "            for page in resp.data:\n",
                "                if page.screenshot:\n",
                "                    screenshot =f\"data:image/png;base64,${page.screenshot}\"\n",
                "        return screenshot\n"
            ]
        },
        {
            "cell_type": "markdown",
            "metadata": {},
            "source": [
                "## Step 4: Create helper functions for tool handling\n",
                "\n",
                "Next, we'll define a function to handle tool calls from the LLM. This function will process the screenshot tool calls and return the results to the agent."
            ]
        },
        {
            "cell_type": "code",
            "execution_count": 20,
            "metadata": {},
            "outputs": [],
            "source": [
                "async def handle_tool_call(\n",
                "    tc: ChatCompletionMessageToolCall,\n",
                ") -> ChatCompletionToolMessageParam:\n",
                "    print(f\"Handling tool call: {tc.function.name}\")\n",
                "\n",
                "    try:\n",
                "        if (\n",
                "            tc.function.name != WebsiteScreenshotTool.screenshot_tool_definition[\"function\"][\"name\"]\n",
                "        ):\n",
                "            raise ValueError(f\"Tool not found: {tc.function.name}\")\n",
                "\n",
                "        args = json.loads(tc.function.arguments)\n",
                "        content = await WebsiteScrapeTool.async_runnable(hb=hb, params=args)\n",
                "\n",
                "        return {\"role\": \"tool\", \"tool_call_id\": tc.id, \"content\": content}\n",
                "\n",
                "    except Exception as e:\n",
                "        err_msg = f\"Error handling tool call: {e}\"\n",
                "        print(err_msg)\n",
                "        return {\n",
                "            \"role\": \"tool\",\n",
                "            \"tool_call_id\": tc.id,\n",
                "            \"content\": err_msg,\n",
                "            \"is_error\": True, #type: ignore\n",
                "        }"
            ]
        },
        {
            "cell_type": "markdown",
            "metadata": {},
            "source": [
                "## Step 5: Implement the agent loop\n",
                "\n",
                "Now we'll create the main agent loop that orchestrates the conversation between the user, the LLM, and the tools. This function:\n",
                "\n",
                "1. Takes a list of messages (including system prompt and user query)\n",
                "2. Sends them to the OpenAI API\n",
                "3. Processes any tool calls that the LLM makes\n",
                "4. Continues the conversation until the LLM provides a final answer\n",
                "\n",
                "This is the core of our chess-solving agent's functionality."
            ]
        },
        {
            "cell_type": "code",
            "execution_count": 21,
            "metadata": {},
            "outputs": [],
            "source": [
                "async def agent_loop(messages: list[ChatCompletionMessageParam]) -> str:\n",
                "    while True:\n",
                "        response = await oai.chat.completions.create(\n",
                "            messages=messages,\n",
                "            model=\"gpt-4o\",\n",
                "            tools=[\n",
                "                WebsiteScreenshotTool.screenshot_tool_definition,\n",
                "            ],\n",
                "            max_completion_tokens=8000,\n",
                "        )\n",
                "\n",
                "        choice = response.choices[0]\n",
                "\n",
                "        # Append response to messages\n",
                "        messages.append(choice.message) #type: ignore\n",
                "\n",
                "        # Handle tool calls\n",
                "        if choice.finish_reason == \"tool_calls\" and choice.message.tool_calls is not None:\n",
                "            tool_result_messages = await asyncio.gather(\n",
                "                *[handle_tool_call(tc) for tc in choice.message.tool_calls]\n",
                "            )\n",
                "            messages.extend(tool_result_messages)\n",
                "\n",
                "        elif choice.finish_reason == \"stop\" and choice.message.content is not None:\n",
                "            return choice.message.content\n",
                "\n",
                "        else:\n",
                "            print(choice)\n",
                "            raise ValueError(f\"Unhandled finish reason: {choice.finish_reason}\")"
            ]
        },
        {
            "cell_type": "markdown",
            "metadata": {},
            "source": [
                "## Step 6: Design the system prompt\n",
                "\n",
                "The system prompt is crucial for guiding the LLM's behavior. Our prompt establishes the LLM as a chess expert and provides instructions on how to analyze chess positions and report the best moves."
            ]
        },
        {
            "cell_type": "code",
            "execution_count": 5,
            "metadata": {},
            "outputs": [],
            "source": [
                "SYSTEM_PROMPT = \"\"\"\n",
                "You are an expert chess solver. You have access to a 'scrape_webpage' tool which can be used to take a screenshot of the current position. \n",
                "\n",
                "This is the link to a chess game {chess_game_url}. You are given a position and you need to find the next move.\n",
                "The page contains the current position and tells you the color of the piece to move, usually listed as \"Find the best move for white\" or \"Find the best move for black\".\"\n",
                "\n",
                "You are required to response with \n",
                "1. The best piece to move (one between a pawn, knight, bishop, rook, queen, or king)\n",
                "2. the current position of the piece to move (usually listed as \"a4\" or \"h8\")\n",
                "3. the next position of the piece to move (usually listed as \"a5\" or \"h7\")\n",
                "\"\"\".strip()"
            ]
        },
        {
            "cell_type": "markdown",
            "metadata": {},
            "source": [
                "## Step 7: Create a factory function for generating chess-solving agents\n",
                "\n",
                "Now we'll create a factory function that generates a specialized chess-solving agent. This function:\n",
                "\n",
                "1. Takes a chess game URL as input\n",
                "2. Formats the system prompt with this URL\n",
                "3. Returns a function that can analyze and solve chess positions\n",
                "\n",
                "This approach makes our solution reusable for different chess puzzles from various websites."
            ]
        },
        {
            "cell_type": "code",
            "execution_count": 22,
            "metadata": {},
            "outputs": [],
            "source": [
                "from typing import Coroutine, Any,Callable\n",
                "\n",
                "\n",
                "def make_support_agent(link_to_chess_game: str)->Callable[..., Coroutine[Any, Any, str]]:\n",
                "    # Popular documentation providers like Gitbook, Mintlify etc automatically generate a llms.txt file\n",
                "    # for documentation sites hosted on their platforms.\n",
                "    if not( link_to_chess_game.startswith(\"http://\") or link_to_chess_game.startswith(\"https://\")):\n",
                "        link_to_chess_game = f\"https://{link_to_chess_game}\"\n",
                "\n",
                "    sysprompt = SYSTEM_PROMPT.format(\n",
                "        chess_game_url=link_to_chess_game,\n",
                "    )\n",
                "\n",
                "    async def qna(question: str) -> str:\n",
                "        return await agent_loop([\n",
                "            {\"role\": \"system\", \"content\": sysprompt},\n",
                "            {\"role\": \"user\", \"content\": question},\n",
                "        ])\n",
                "\n",
                "    return qna"
            ]
        },
        {
            "cell_type": "markdown",
            "metadata": {},
            "source": [
                "## Step 8: Test the agent with a real chess puzzle\n",
                "\n",
                "Let's test our agent by creating an instance for a Lichess chess puzzle and asking it to find the best move. This will demonstrate the full workflow:\n",
                "\n",
                "1. The agent receives a question about the best move for a chess position\n",
                "2. It uses the `scrape_webpage` tool to take a screenshot of the position\n",
                "3. It analyzes the position and determines the best move\n",
                "4. It returns the answer in the specified format\n",
                "\n",
                "You'll see the tool calls being made in real-time as the agent works through the puzzle."
            ]
        },
        {
            "cell_type": "code",
            "execution_count": 23,
            "metadata": {},
            "outputs": [
                {
                    "name": "stdout",
                    "output_type": "stream",
                    "text": [
                        "Handling tool call: scrape_webpage\n",
                        "1. **Best Piece to Move**: Queen  \n",
                        "2. **Current Position**: a4  \n",
                        "3. **Next Position**: e8\n",
                        "\n",
                        "You should move the Queen from a4 to e8.\n"
                    ]
                }
            ],
            "source": [
                "link_to_chess_game = \"https://lichess.org/training/ntE6Z\"\n",
                "\n",
                "question = \"What is the best move for white?\"\n",
                "\n",
                "agent = make_support_agent(link_to_chess_game)\n",
                "\n",
                "response = await agent(question)\n",
                "\n",
                "print(response)"
            ]
        },
        {
            "cell_type": "markdown",
            "metadata": {},
            "source": [
                "## Conclusion\n",
                "\n",
                "In this cookbook, we built a powerful chess puzzle solver using Hyperbrowser and OpenAI. This agent can:\n",
                "\n",
                "1. Access and capture screenshots of chess positions from websites\n",
                "2. Analyze the visual representation of a chess board\n",
                "3. Determine the best next move based on the current position\n",
                "4. Provide a clear, structured response with the piece, current position, and target position\n",
                "\n",
                "This pattern can be extended to create more sophisticated chess analysis tools or be adapted for other visual puzzle-solving tasks.\n",
                "\n",
                "### Next Steps\n",
                "\n",
                "To take this further, you might consider:\n",
                "- Adding support for multiple chess puzzle platforms\n",
                "- Implementing move validation to ensure the suggested moves are legal\n",
                "- Creating a web interface where users can paste chess puzzle links\n",
                "- Adding explanations for why a particular move is best\n",
                "- Extending the agent to recommend multiple good moves with pros and cons\n",
                "\n",
                "Happy chess solving!"
            ]
        },
        {
            "cell_type": "markdown",
            "metadata": {},
            "source": [
                "## Relevant Links\n",
                "- [Hyperbrowser](https://hyperbrowser.ai)\n",
                "- [Lichess Puzzles](https://lichess.org/training)\n",
                "- [OpenAI Docs](https://platform.openai.com/docs/introduction)"
            ]
        }
    ],
    "metadata": {
        "kernelspec": {
            "display_name": ".venv",
            "language": "python",
            "name": "python3"
        },
        "language_info": {
            "codemirror_mode": {
                "name": "ipython",
                "version": 3
            },
            "file_extension": ".py",
            "mimetype": "text/x-python",
            "name": "python",
            "nbconvert_exporter": "python",
            "pygments_lexer": "ipython3",
            "version": "3.13.2"
        }
    },
    "nbformat": 4,
    "nbformat_minor": 2
}

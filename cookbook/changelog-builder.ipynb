{
    "cells": [
        {
            "cell_type": "markdown",
            "metadata": {},
            "source": [
                "# GitHub Changelog Generator with Hyperbrowser\n",
                "\n",
                "In this cookbook, we'll create a powerful AI-enhanced changelog generator that automatically extracts commits from GitHub repositories and transforms them into organized, human-readable release notes. This tool:\n",
                "\n",
                "- Compares any two commits, branches, or tags in a GitHub repository\n",
                "- Extracts detailed information about each commit and file change\n",
                "- Organizes changes into logical categories (fixes, features, improvements)\n",
                "- Generates clear, concise release notes using AI to interpret technical changes\n",
                "\n",
                "This approach eliminates the tedious manual work of aggregating and organizing commits for release documentation, saving developers hours of work while producing more consistent and user-friendly changelogs."
            ]
        },
        {
            "cell_type": "markdown",
            "metadata": {},
            "source": [
                "## Prerequisites\n",
                "\n",
                "Before starting, you'll need:\n",
                "\n",
                "- Hyperbrowser API key (sign up at hyperbrowser.ai if you don't have one)\n",
                "- OpenAI API key (for AI-generated changelog enhancements)\n",
                "- Python 3.9+ installed\n",
                "\n",
                "Store your API keys in a .env file in the same directory as this notebook:\n",
                "\n",
                "```\n",
                "HYPERBROWSER_API_KEY=your_hyperbrowser_key_here\n",
                "OPENAI_API_KEY=your_openai_key_here\n",
                "```\n"
            ]
        },
        {
            "cell_type": "markdown",
            "metadata": {},
            "source": [
                "## Step 1: Import Libraries and Initialize Clients\n",
                "\n",
                "We start by importing the necessary packages and setting up our API clients. The key components include:\n",
                "\n",
                "- AsyncHyperbrowser: For web extraction and GitHub comparison data retrieval\n",
                "- AsyncOpenAI: For intelligent formatting and categorization of commit messages\n",
                "- BaseModel from Pydantic: For structured data parsing and validation\n",
                "\n",
                "These tools work together to extract, process, and present GitHub commit data in a standardized format.\n"
            ]
        },
        {
            "cell_type": "code",
            "execution_count": null,
            "metadata": {},
            "outputs": [],
            "source": [
                "import os\n",
                "from typing import Optional\n",
                "from dotenv import load_dotenv\n",
                "from IPython.display import display, Markdown\n",
                "from hyperbrowser import AsyncHyperbrowser\n",
                "from hyperbrowser.models.extract import StartExtractJobParams\n",
                "\n",
                "from pydantic import BaseModel\n",
                "from openai import AsyncOpenAI\n",
                "from openai.types.chat import ChatCompletionMessageParam\n",
                "\n",
                "from typing import List\n",
                "from IPython.display import display, Markdown\n",
                "\n",
                "# Load environment variables\n",
                "load_dotenv()"
            ]
        },
        {
            "cell_type": "markdown",
            "metadata": {},
            "source": [
                "## Step 2: Initialize API Clients\n",
                "\n",
                "Now we'll create instances of the APIs we'll be using. The AsyncHyperbrowser client handles web extraction tasks, while OpenAI powers our AI-driven changelog.\n"
            ]
        },
        {
            "cell_type": "code",
            "execution_count": 22,
            "metadata": {},
            "outputs": [],
            "source": [
                "hb = AsyncHyperbrowser(api_key=os.getenv(\"HYPERBROWSER_API_KEY\"))\n",
                "llm = AsyncOpenAI()"
            ]
        },
        {
            "cell_type": "markdown",
            "metadata": {},
            "source": [
                "## Step 3: Define Data Models\n",
                "\n",
                "Before we can extract GitHub comparison data, we need to define structured models that represent the information we want to capture. These Pydantic models will:\n",
                "\n",
                "1. Enforce strict typing and validation for our extracted data\n",
                "2. Provide a clear schema for the extraction API to follow\n",
                "3. Make the data easily serializable and traversable\n",
                "\n",
                "Our model hierarchy includes:\n",
                "\n",
                "- `FileChange`: Details about modifications to individual files\n",
                "- `Commit`: Information about each commit in the comparison\n",
                "- `GitComparisonSchema`: The top-level container for all extracted data\n",
                "\n",
                "Following the models, we define the `extract_git_comparison` function that uses Hyperbrowser's extraction capabilities to pull structured data from GitHub comparison pages.\n"
            ]
        },
        {
            "cell_type": "code",
            "execution_count": 23,
            "metadata": {},
            "outputs": [],
            "source": [
                "# Define Pydantic models for the data schema\n",
                "class FileChange(BaseModel):\n",
                "    file_path: str\n",
                "    additions: int\n",
                "    deletions: int\n",
                "    code_change: str\n",
                "    raw_code_original: str\n",
                "    raw_code_changed: str\n",
                "    is_visible: bool\n",
                "\n",
                "    def str(self):\n",
                "        return f\"\"\"Path:{self.file_path}\\naddition=>+${self.additions}|removals=>-{self.deletions}\\n{self.code_change}\"\"\"\n",
                "\n",
                "\n",
                "class Commit(BaseModel):\n",
                "    message: str\n",
                "    description: Optional[str]\n",
                "    committer_name: str\n",
                "    is_verified: bool\n",
                "\n",
                "    def str(self):\n",
                "        return f\"\"\"Commit:{self.message}\\nDescription:{self.description}\\nCommitter:{self.committer_name}\"\"\"\n",
                "\n",
                "\n",
                "class GitComparisonSchema(BaseModel):\n",
                "    num_commits: int\n",
                "    num_files_changed: int\n",
                "    commits: List[Commit]\n",
                "    file_changes: List[FileChange]\n",
                "\n",
                "    def str(self):\n",
                "        return f\"\"\"# Git Comparison Data\n",
                "        number of commits: {self.num_commits}\n",
                "        number of files changed: {self.num_files_changed}\n",
                "        commits:\\n{\"\\n\".join([str(commit) for commit in self.commits])}\n",
                "        file changes:\\n{\"\\n\".join([str(file) for file in self.file_changes])}\n",
                "        \"\"\"\n",
                "\n",
                "\n",
                "async def extract_git_comparison(comparison_url: str):\n",
                "    \"\"\"Extract git comparison data using Hyperbrowser.\"\"\"\n",
                "    try:\n",
                "        api_key = os.getenv(\"HYPERBROWSER_API_KEY\")\n",
                "        if not api_key:\n",
                "            print(\"❌ Error: HYPERBROWSER_API_KEY not set in .env file\")\n",
                "            return None\n",
                "\n",
                "        print(\"🔄 Extracting comparison data from GitHub...\")\n",
                "        result = await hb.extract.start_and_wait(\n",
                "            params=StartExtractJobParams(\n",
                "                urls=[comparison_url],\n",
                "                schema=GitComparisonSchema.model_json_schema(),\n",
                "                prompt=\"\"\"\n",
                "        Extract the following information from this GitHub comparison page:\n",
                "        1. The total number of commits in this comparison\n",
                "        2. The total number of files changed\n",
                "        3. For each commit:\n",
                "        - The main commit message (title)\n",
                "        - The commit description (body, if any)\n",
                "        - The name of the committer\n",
                "        - Whether the commit is verified (true/false)\n",
                "        4. For each file changed:\n",
                "        - The file path\n",
                "        - The number of additions (green lines)\n",
                "        - The number of deletions (red lines)\n",
                "        - A summary of the actual changes\n",
                "        - Whether the commit change is visible in the UI (true/false)\n",
                "        \"\"\",\n",
                "            )\n",
                "        )\n",
                "        print(\"✅ Successfully extracted comparison data!\")\n",
                "        return GitComparisonSchema.model_validate(result.data)\n",
                "    except Exception as e:\n",
                "        print(f\"❌ Error extracting data: {str(e)}\")\n",
                "    return None"
            ]
        },
        {
            "cell_type": "markdown",
            "metadata": {},
            "source": [
                "## Step 4: Define Changelog Generation Functions\n",
                "\n",
                "With our data models in place, we now implement the core functionality for generating changelogs. This section contains two key functions:\n",
                "\n",
                "1. `get_comparison_url`: Constructs a valid GitHub comparison URL from a repository URL and two reference points (commits, branches, or tags)\n",
                "\n",
                "2. `generate_ai_changelog`: The primary function that orchestrates the entire process:\n",
                "\n",
                "- Fetches comparison data using our extraction function\n",
                "- Formats the data for the AI model\n",
                "- Sends the data to OpenAI for intelligent analysis and formatting\n",
                "- Returns a well-structured changelog\n",
                "\n",
                "The AI component then:\n",
                "\n",
                "- Categorizes changes (fixes, features, refactoring, etc.)\n",
                "- Merges related commits\n",
                "- Translates technical descriptions into user-friendly language\n",
                "- Highlights the most significant changes\n"
            ]
        },
        {
            "cell_type": "code",
            "execution_count": 24,
            "metadata": {},
            "outputs": [],
            "source": [
                "def get_comparison_url(git_url: str, start: str, end: str) -> str:\n",
                "    # Remove .git extension if present\n",
                "    if git_url.endswith(\".git\"):\n",
                "        git_url = git_url[:-4]\n",
                "    return f\"{git_url}/compare/{start}...{end}\"\n",
                "\n",
                "\n",
                "# Cell 5: Generate AI Changelog\n",
                "async def generate_ai_changelog(git_url, starting_commit, ending_commit):\n",
                "    \"\"\"Generate AI-enhanced changelog from GitHub repository comparison.\"\"\"\n",
                "\n",
                "    comparison_url = get_comparison_url(git_url, starting_commit, ending_commit)\n",
                "    print(f\"🔗 Comparison URL: {comparison_url}\")\n",
                "\n",
                "    # Extract data\n",
                "    comparison_data = await extract_git_comparison(comparison_url)\n",
                "    if not comparison_data:\n",
                "        return None\n",
                "\n",
                "    repo_name = git_url.split(\"/\")[-1].replace(\".git\", \"\")\n",
                "\n",
                "    messages: List[ChatCompletionMessageParam] = [\n",
                "        {\n",
                "            \"role\": \"system\",\n",
                "            \"content\": \"\"\"You are a helpful assistant that formats git commit data into a readable changelog. Here are your parameters for making good changelogs\n",
                "            Guiding Principles\n",
                "            - Changelogs are for humans, not machines.\n",
                "            - There should be an entry for every single version.\n",
                "            - The same types of changes should be grouped.\n",
                "            - Versions and sections should be linkable.\n",
                "            - The latest version comes first.\n",
                "            - The release date of each version is displayed.\n",
                "            - Mention whether you follow Semantic Versioning.\n",
                "\n",
                "            Types of changes\n",
                "\n",
                "            - Added for new features.\n",
                "            - Changed for changes in existing functionality.\n",
                "            - Deprecated for soon-to-be removed features.\n",
                "            - Removed for now removed features.\n",
                "            - Fixed for any bug fixes.\n",
                "            - Security in case of vulnerabilities.\n",
                "                \"\"\",\n",
                "            \"name\": \"changelog_assistant\",\n",
                "        },\n",
                "        {\n",
                "            \"role\": \"user\",\n",
                "            \"content\": f\"Here is the changelog:\\n\\n{str(comparison_data)}\",\n",
                "        },\n",
                "    ]\n",
                "\n",
                "    # Generate AI changelog\n",
                "    print(\"🤖 Generating AI-enhanced changelog...\")\n",
                "    ai_changelog = await llm.chat.completions.create(\n",
                "        messages=messages,\n",
                "        model=\"gpt-4o-mini\",\n",
                "    )\n",
                "\n",
                "    return ai_changelog"
            ]
        },
        {
            "cell_type": "markdown",
            "metadata": {},
            "source": [
                "## Step 5: Execute the Changelog Generator\n",
                "\n",
                "Now we'll test our changelog generator with a real-world example - comparing two specific commits in the React repository. This demonstrates the entire workflow:\n",
                "\n",
                "1. We specify the GitHub repository URL and the two commits to compare\n",
                "2. The system fetches the comparison data from GitHub\n",
                "3. The AI processes the raw commit data and generates a structured changelog\n",
                "\n",
                "While this example uses specific commit hashes, the same approach works with branch names (e.g., \"main...develop\") or tags (e.g., \"v1.0.0...v1.1.0\").\n"
            ]
        },
        {
            "cell_type": "code",
            "execution_count": 25,
            "metadata": {},
            "outputs": [
                {
                    "name": "stdout",
                    "output_type": "stream",
                    "text": [
                        "🔗 Comparison URL: https://github.com/facebook/react/compare/50ab2dde940bf0027773a944da005277b3d5598a...0ca3deebcf20d2514771a568e1be08801da5cf85\n",
                        "🔄 Extracting comparison data from GitHub...\n",
                        "✅ Successfully extracted comparison data!\n",
                        "🤖 Generating AI-enhanced changelog...\n"
                    ]
                }
            ],
            "source": [
                "git_url = \"https://github.com/facebook/react\"  # Replace with actual repo URL\n",
                "starting_commit = \"50ab2dde940bf0027773a944da005277b3d5598a\"  # Replace with starting commit/branch/tag\n",
                "ending_commit = (\n",
                "    \"0ca3deebcf20d2514771a568e1be08801da5cf85\"  # Replace with ending commit/branch/tag\n",
                ")\n",
                "\n",
                "# Run the function with the provided inputs\n",
                "ai_changelog = await generate_ai_changelog(git_url, starting_commit, ending_commit)"
            ]
        },
        {
            "cell_type": "markdown",
            "metadata": {},
            "source": [
                "## Step 6: Display the AI-Generated Changelog\n",
                "\n",
                "Finally, we'll display the AI-generated changelog in a clean, readable format. This output includes:\n",
                "\n",
                "1. A formatted Markdown version of the changelog\n",
                "2. Changes organized by type (fixes, changes, additions, deletions)\n",
                "3. A link to the original GitHub comparison for reference\n",
                "\n",
                "The resulting changelog is significantly more readable and useful than raw commit logs, making it immediately ready for release notes or documentation.\n"
            ]
        },
        {
            "cell_type": "code",
            "execution_count": 26,
            "metadata": {},
            "outputs": [
                {
                    "name": "stdout",
                    "output_type": "stream",
                    "text": [
                        "\n",
                        "🤖 AI-Generated Changelog:\n"
                    ]
                },
                {
                    "data": {
                        "text/markdown": [
                            "# Changelog\n",
                            "\n",
                            "## [Unreleased] - TBD\n",
                            "\n",
                            "### Fixed\n",
                            "- **Fix**: Addressed an issue with finished view transitions animations that could cause conflicts with new view transitions, resolving visual glitches in Safari. [Commit by sebmarkbage](#)\n",
                            "- **Fix**: Resolved a critical problem with the `moveBefore` function to ensure it only operates on moved elements, optimizing performance. [Commit by sebmarkbage](#)\n",
                            "- **Fix**: Corrected the output platform configuration in esbuild due to a copy-paste error. [Commit by poteto](#)\n",
                            "\n",
                            "### Changed\n",
                            "- **Changed**: Updated the `ReactFiberConfigDOM.js` file to ensure proper configuration handling. [Commit by sebmarkbage](#)\n",
                            "- **Changed**: Modified the `tsup.config.ts` file to improve build configurations. [Commit by sebmarkbage](#)\n",
                            "- **Changed**: Adjusted the `ReactFeatureFlags.js` to better reflect feature management strategies. [Commit by sebmarkbage](#)\n",
                            "\n",
                            "### Added\n",
                            "- **Added**: Enabled the `moveBefore` feature in experimental releases, allowing early feature detection with caution based on current browser support. [Commit by sebmarkbage](#)\n",
                            "\n",
                            "## Versioning\n",
                            "This project adheres to [Semantic Versioning](https://semver.org/).\n",
                            "\n",
                            "---\n",
                            "\n",
                            "*Note: Entries are linked to specific commits for reference.*"
                        ],
                        "text/plain": [
                            "<IPython.core.display.Markdown object>"
                        ]
                    },
                    "metadata": {},
                    "output_type": "display_data"
                },
                {
                    "name": "stdout",
                    "output_type": "stream",
                    "text": [
                        "\n",
                        "🔗 View original comparison on GitHub: https://github.com/facebook/react/compare/50ab2dde940bf0027773a944da005277b3d5598a...0ca3deebcf20d2514771a568e1be08801da5cf85\n"
                    ]
                }
            ],
            "source": [
                "if ai_changelog:\n",
                "    print(\"\\n🤖 AI-Generated Changelog:\")\n",
                "    message = ai_changelog.choices[0].message\n",
                "    display(Markdown(ai_changelog.choices[0].message.content))\n",
                "\n",
                "    # Show link to comparison\n",
                "    comparison_url = get_comparison_url(git_url, starting_commit, ending_commit)\n",
                "    print(f\"\\n🔗 View original comparison on GitHub: {comparison_url}\")\n",
                "else:\n",
                "    print(\"❌ Failed to generate AI changelog. Check the errors above.\")"
            ]
        },
        {
            "cell_type": "markdown",
            "metadata": {},
            "source": [
                "## Extension Ideas\n",
                "\n",
                "The changelog generator could be enhanced in several ways:\n",
                "\n",
                "1. Release Notes Generator: Extend with version numbering and release date tracking\n",
                "2. Integration with GitHub Actions: Automatically generate changelogs on new tags or releases\n",
                "3. Custom Templates: Allow different formatting styles based on project requirements\n",
                "\n",
                "Each of these enhancements builds on the foundation we've created, making the changelog process even more valuable for development teams.\n"
            ]
        },
        {
            "cell_type": "markdown",
            "metadata": {},
            "source": [
                "## Conclusion\n",
                "\n",
                "We've built an AI-driven changelog generator that transforms basic Git commit information into structured, human-readable release notes. This tool demonstrates how combining web extraction with AI can dramatically improve developer workflows by:\n",
                "\n",
                "1. Automating tedious documentation tasks that developers typically avoid or rush through\n",
                "2. Creating consistent, well-structured changelogs that follow best practices in technical documentation\n",
                "3. Translating developer-centric commit messages into user-friendly change descriptions\n",
                "4. Organizing changes by category to highlight the most important information\n",
                "\n",
                "This notebook provides a foundation that can be extended for more sophisticated changelog generation, including integration with CI/CD pipelines, release management systems, or documentation automation.\n"
            ]
        },
        {
            "cell_type": "markdown",
            "metadata": {},
            "source": [
                "## Relevant Links\n",
                "- [Hyperbrowser](https://hyperbrowser.ai)\n",
                "- [Hyperbrowser Documentation](https://docs.hyperbrowser.ai)\n",
                "- [KeepAChangelog](https://keepachangelog.com/en/1.1.0/)\n"
            ]
        }
    ],
    "metadata": {
        "kernelspec": {
            "display_name": ".venv",
            "language": "python",
            "name": "python3"
        },
        "language_info": {
            "codemirror_mode": {
                "name": "ipython",
                "version": 3
            },
            "file_extension": ".py",
            "mimetype": "text/x-python",
            "name": "python",
            "nbconvert_exporter": "python",
            "pygments_lexer": "ipython3",
            "version": "3.13.2"
        }
    },
    "nbformat": 4,
    "nbformat_minor": 2
}

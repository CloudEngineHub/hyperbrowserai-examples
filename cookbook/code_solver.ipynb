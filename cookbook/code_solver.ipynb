{
    "cells": [
        {
            "cell_type": "markdown",
            "metadata": {},
            "source": [
                "# Building an Automated Coding Problem Solver\n",
                "\n",
                "In this cookbook, we'll create an intelligent agent that can automatically solve programming challenges from websites like LeetCode, HackerRank, and CodeSignal. Our agent will:\n",
                "\n",
                "1. Visit the coding problem URL\n",
                "2. Extract the problem description, requirements, and constraints\n",
                "3. Analyze the input/output format and code templates\n",
                "4. Generate a complete, working solution in the required programming language\n",
                "\n",
                "This approach combines:\n",
                "- **[Hyperbrowser](https://hyperbrowser.ai)** for web extraction and data parsing\n",
                "- **OpenAI's GPT-4o** for code analysis and solution generation\n",
                "    - That said, something like Anthropic/Claude might be more suitable for more complex tasks. We do provide tool use templates for Anthropic/Claude as well.\n",
                "\n",
                "After going through this cookbook, you'll have a powerful AI assistant that can tackle coding challenges across various platforms, helping you learn programming concepts or prepare for technical interviews!"
            ]
        },
        {
            "cell_type": "markdown",
            "metadata": {},
            "source": [
                "## Prerequisites\n",
                "\n",
                "Before starting, you'll need:\n",
                "\n",
                "1. A Hyperbrowser API key (sign up at [hyperbrowser.ai](https://hyperbrowser.ai) if you don't have one)\n",
                "2. An OpenAI API key with access to GPT-4o\n",
                "\n",
                "Store these API keys in a `.env` file in the same directory as this notebook:\n",
                "\n",
                "```\n",
                "HYPERBROWSER_API_KEY=your_hyperbrowser_key_here\n",
                "OPENAI_API_KEY=your_openai_key_here\n",
                "```"
            ]
        },
        {
            "cell_type": "markdown",
            "metadata": {},
            "source": [
                "## Step 1: Initialize Environment and Import Libraries"
            ]
        },
        {
            "cell_type": "code",
            "execution_count": 17,
            "metadata": {},
            "outputs": [
                {
                    "data": {
                        "text/plain": [
                            "True"
                        ]
                    },
                    "execution_count": 17,
                    "metadata": {},
                    "output_type": "execute_result"
                }
            ],
            "source": [
                "import asyncio\n",
                "import json\n",
                "import os\n",
                "\n",
                "from dotenv import load_dotenv\n",
                "from hyperbrowser import AsyncHyperbrowser\n",
                "from hyperbrowser.tools import WebsiteExtractTool\n",
                "from openai import AsyncOpenAI\n",
                "from openai.types.chat import (\n",
                "    ChatCompletionMessageParam,\n",
                "    ChatCompletionMessageToolCall,\n",
                "    ChatCompletionToolMessageParam,\n",
                ")\n",
                "\n",
                "load_dotenv()"
            ]
        },
        {
            "cell_type": "markdown",
            "metadata": {},
            "source": [
                "## Step 2: Initialize API Clients\n",
                "\n",
                "Here we create instances of the Hyperbrowser and OpenAI clients using our API keys. These clients will be responsible for web data extraction and AI-powered code generation respectively."
            ]
        },
        {
            "cell_type": "code",
            "execution_count": 18,
            "metadata": {},
            "outputs": [],
            "source": [
                "hb = AsyncHyperbrowser(api_key=os.getenv(\"HYPERBROWSER_API_KEY\"))\n",
                "llm = AsyncOpenAI()"
            ]
        },
        {
            "cell_type": "markdown",
            "metadata": {},
            "source": [
                "## Step 3: Implement the Tool Handler\n",
                "\n",
                "The `handle_tool_call` function processes requests from the LLM to interact with external tools - in this case, the WebsiteExtractTool from Hyperbrowser. \n",
                "\n",
                "This function:\n",
                "1. Identifies which tool the LLM is requesting to use\n",
                "2. Gets the parameters for the tool call\n",
                "3. Executes the tool with those parameters\n",
                "4. Returns the results back to the LLM for further processing\n",
                "\n",
                "For our code solver, we primarily use the `extract_data` tool to extract structured information about coding problems from websites."
            ]
        },
        {
            "cell_type": "code",
            "execution_count": 19,
            "metadata": {},
            "outputs": [],
            "source": [
                "async def handle_tool_call(\n",
                "    tc: ChatCompletionMessageToolCall,\n",
                ") -> ChatCompletionToolMessageParam:\n",
                "    print(f\"Handling tool call: {tc.function.name}\")\n",
                "\n",
                "    try:\n",
                "        if (\n",
                "            tc.function.name\n",
                "            != WebsiteExtractTool.openai_tool_definition[\"function\"][\"name\"]\n",
                "        ):\n",
                "            raise ValueError(f\"Tool not found: {tc.function.name}\")\n",
                "\n",
                "        args = json.loads(tc.function.arguments)\n",
                "        print(args)\n",
                "        content = await WebsiteExtractTool.async_runnable(hb=hb, params=args)\n",
                "\n",
                "        return {\"role\": \"tool\", \"tool_call_id\": tc.id, \"content\": content}\n",
                "\n",
                "    except Exception as e:\n",
                "        err_msg = f\"Error handling tool call: {e}\"\n",
                "        print(err_msg)\n",
                "        return {\n",
                "            \"role\": \"tool\",\n",
                "            \"tool_call_id\": tc.id,\n",
                "            \"content\": err_msg,\n",
                "            \"is_error\": True,  # type: ignore\n",
                "        }"
            ]
        },
        {
            "cell_type": "markdown",
            "metadata": {},
            "source": [
                "## Step 4: Create the Agent Loop\n",
                "\n",
                "The agent loop is the core function that manages the conversation between the LLM and external tools. It implements a recursive pattern where:\n",
                "\n",
                "1. The current state of the conversation is sent to the LLM\n",
                "2. The LLM either provides a final answer or requests more information via tool calls\n",
                "3. If tool calls are made, they're processed and their results are added to the conversation\n",
                "4. This process repeats until the LLM provides a final answer\n",
                "\n",
                "This architecture allows the agent to gather information iteratively, making multiple web extraction requests if necessary to fully understand the coding problem before generating a solution."
            ]
        },
        {
            "cell_type": "code",
            "execution_count": 20,
            "metadata": {},
            "outputs": [],
            "source": [
                "async def agent_loop(messages: list[ChatCompletionMessageParam]) -> str:\n",
                "    while True:\n",
                "        response = await llm.chat.completions.create(\n",
                "            messages=messages,\n",
                "            model=\"gpt-4o\",\n",
                "            tools=[\n",
                "                WebsiteExtractTool.openai_tool_definition,\n",
                "            ],\n",
                "            max_completion_tokens=8000,\n",
                "        )\n",
                "\n",
                "        choice = response.choices[0]\n",
                "\n",
                "        # Append response to messages\n",
                "        messages.append(choice.message)  # type: ignore\n",
                "\n",
                "        # Handle tool calls\n",
                "        if (\n",
                "            choice.finish_reason == \"tool_calls\"\n",
                "            and choice.message.tool_calls is not None\n",
                "        ):\n",
                "            tool_result_messages = await asyncio.gather(\n",
                "                *[handle_tool_call(tc) for tc in choice.message.tool_calls]\n",
                "            )\n",
                "            messages.extend(tool_result_messages)\n",
                "\n",
                "        elif choice.finish_reason == \"stop\" and choice.message.content is not None:\n",
                "            return choice.message.content\n",
                "\n",
                "        else:\n",
                "            print(choice)\n",
                "            raise ValueError(f\"Unhandled finish reason: {choice.finish_reason}\")"
            ]
        },
        {
            "cell_type": "markdown",
            "metadata": {},
            "source": [
                "## Step 5: Design the System Prompt\n",
                "\n",
                "The system prompt dictates the LLM's behavior. Our prompt establishes the agent as an expert coder tasked with solving programming challenges. It provides detailed instructions on:\n",
                "\n",
                "1. What information to extract from the coding problem page\n",
                "2. How to analyze the problem requirements\n",
                "3. What format to use when returning the solution\n",
                "4. The specific elements that should be included in the final response\n",
                "\n",
                "By structuring the prompt this way, we ensure the agent returns consistent, well-organized solutions that address all aspects of the coding challenge."
            ]
        },
        {
            "cell_type": "code",
            "execution_count": 21,
            "metadata": {},
            "outputs": [],
            "source": [
                "SYSTEM_PROMPT = \"\"\"\n",
                "You are an expert coder. You have access to a 'extract_data' tool which can be used to get structured data from a webpage. \n",
                "\n",
                "This is the link to a piece of code {link}. You are required to find the input parameters, the output parameters, the template in which the code is to be provided, the language in which the code is to be written, the task to be performed, and the list of examples provided (in input and output format).\n",
                "Once you have the information, you need to use those parameters to provide code that will adequately solve the given task. \n",
                "You are required to response with \n",
                "1. The task to be solved\n",
                "2. The input parameters format\n",
                "3. The output parameters format\n",
                "4. The code template provided\n",
                "5. The language in which the solution is required\n",
                "6. The list of examples provided\n",
                "7. Finally, and most importantly, the complete solution for the coding task given.\n",
                "\"\"\".strip()"
            ]
        },
        {
            "cell_type": "markdown",
            "metadata": {},
            "source": [
                "## Step 6: Create the Agent Factory Function\n",
                "\n",
                "The `make_coding_agent` function is a factory that creates specialized instances of our code-solving agent for specific coding problems. This approach provides several benefits:\n",
                "\n",
                "1. **Encapsulation**: It wraps all the complexity of setting up the agent with the appropriate system prompt\n",
                "2. **Reusability**: We can create multiple agent instances for different coding problems\n",
                "3. **Configurability**: The function handles URL normalization and system prompt formatting\n",
                "\n",
                "The factory returns an async function that can be called with a user query to start the problem-solving process."
            ]
        },
        {
            "cell_type": "code",
            "execution_count": 22,
            "metadata": {},
            "outputs": [],
            "source": [
                "from typing import Coroutine, Any, Callable\n",
                "\n",
                "\n",
                "async def make_coding_agent(link_to_code: str):\n",
                "    # Popular documentation providers like Gitbook, Mintlify etc automatically generate a llms.txt file\n",
                "    # for documentation sites hosted on their platforms.\n",
                "    if not (link_to_code.startswith(\"http://\") or link_to_code.startswith(\"https://\")):\n",
                "        link_to_code = f\"https://{link_to_code}\"\n",
                "\n",
                "    sysprompt = SYSTEM_PROMPT.format(\n",
                "        link=link_to_code,\n",
                "    )\n",
                "\n",
                "    return await agent_loop(\n",
                "        [\n",
                "            {\"role\": \"system\", \"content\": sysprompt},\n",
                "            {\"role\": \"user\", \"content\": \"Solve this coding problem\"},\n",
                "        ]\n",
                "    )"
            ]
        },
        {
            "cell_type": "markdown",
            "metadata": {},
            "source": [
                "## Step 7: Test the Agent with a LeetCode Problem\n",
                "\n",
                "Now let's put our agent to the test with the classic \"Two Sum\" problem from LeetCode. This will demonstrate the full workflow:\n",
                "\n",
                "1. The agent will visit the problem page\n",
                "2. Extract the problem description, requirements, and examples\n",
                "3. Analyze the required input/output format and programming language, along with the template of the code solution.\n",
                "4. Generate an optimal solution with explanations\n",
                "\n",
                "In this case, we're solving the Two Sum problem, which asks us to find the indices of two numbers in an array that add up to a target value."
            ]
        },
        {
            "cell_type": "code",
            "execution_count": 23,
            "metadata": {},
            "outputs": [
                {
                    "name": "stdout",
                    "output_type": "stream",
                    "text": [
                        "Handling tool call: extract_data\n",
                        "{'urls': ['https://leetcode.com/problems/two-sum'], 'prompt': 'Extract the task description, input/output parameters, code template, language, and examples for the problem on the webpage.', 'schema': '{\"task\": \"string\", \"input_format\": \"string\", \"output_format\": \"string\", \"code_template\": \"string\", \"language\": \"string\", \"examples\": [{\"input\": \"string\", \"output\": \"string\"}]}', 'max_links': 5}\n",
                        "Error handling tool call: schema - Invalid JSON schema - Status: 400 - Caused by HTTPStatusError: Client error '400 Bad Request' for url 'https://app.hyperbrowser.ai/api/extract'\n",
                        "For more information check: https://developer.mozilla.org/en-US/docs/Web/HTTP/Status/400\n",
                        "Handling tool call: extract_data\n",
                        "{'urls': ['https://leetcode.com/problems/two-sum'], 'prompt': 'Extract the task description, input/output parameters, code template, language, and examples for the problem on the webpage.', 'schema': '{\"type\": \"object\", \"properties\": {\"task\": {\"type\": \"string\"}, \"input_format\": {\"type\": \"string\"}, \"output_format\": {\"type\": \"string\"}, \"code_template\": {\"type\": \"string\"}, \"language\": {\"type\": \"string\"}, \"examples\": {\"type\": \"array\", \"items\": {\"type\": \"object\", \"properties\": {\"input\": {\"type\": \"string\"}, \"output\": {\"type\": \"string\"}}, \"required\": [\"input\", \"output\"]}}}, \"required\": [\"task\", \"input_format\", \"output_format\", \"code_template\", \"language\", \"examples\"]}', 'max_links': 5}\n",
                        "Based on the extracted information, here's the breakdown and solution for the coding problem:\n",
                        "\n",
                        "1. **Task to be Solved:**\n",
                        "   - Given an array of integers `nums` and an integer `target`, return indices of the two numbers such that they add up to `target`. You may assume that each input would have exactly one solution, and you may not use the same element twice. The answer can be returned in any order.\n",
                        "\n",
                        "2. **Input Parameters Format:**\n",
                        "   - An array of integers `nums` and an integer `target`.\n",
                        "\n",
                        "3. **Output Parameters Format:**\n",
                        "   - An array of two integers representing the indices of the two numbers that add up to `target`.\n",
                        "\n",
                        "4. **Code Template Provided:**\n",
                        "   ```cpp\n",
                        "   class Solution {\n",
                        "   public:\n",
                        "       vector<int> twoSum(vector<int>& nums, int target) {\n",
                        "           \n",
                        "       }\n",
                        "   };\n",
                        "   ```\n",
                        "\n",
                        "5. **Language in which the Solution is Required:**\n",
                        "   - C++\n",
                        "\n",
                        "6. **Examples Provided:**\n",
                        "   - Example 1:\n",
                        "     - Input: `nums = [2,7,11,15], target = 9`\n",
                        "     - Output: `[0,1]`\n",
                        "   - Example 2:\n",
                        "     - Input: `nums = [3,2,4], target = 6`\n",
                        "     - Output: `[1,2]`\n",
                        "   - Example 3:\n",
                        "     - Input: `nums = [3,3], target = 6`\n",
                        "     - Output: `[0,1]`\n",
                        "\n",
                        "7. **Complete Solution:**\n",
                        "\n",
                        "```cpp\n",
                        "#include <vector>\n",
                        "#include <unordered_map>\n",
                        "using namespace std;\n",
                        "\n",
                        "class Solution {\n",
                        "public:\n",
                        "    vector<int> twoSum(vector<int>& nums, int target) {\n",
                        "        unordered_map<int, int> num_map;\n",
                        "        for (int i = 0; i < nums.size(); ++i) {\n",
                        "            int complement = target - nums[i];\n",
                        "            if (num_map.find(complement) != num_map.end()) {\n",
                        "                return {num_map[complement], i};\n",
                        "            }\n",
                        "            num_map[nums[i]] = i;\n",
                        "        }\n",
                        "        return {};\n",
                        "    }\n",
                        "};\n",
                        "```\n",
                        "\n",
                        "This solution uses a hash map to keep track of each number and its index as we iterate through the list. For each number, we check if its complement (i.e., `target - nums[i]`) has already been encountered. If so, a solution is found; otherwise, the current number and its index are stored for future reference.\n"
                    ]
                }
            ],
            "source": [
                "link_to_coding_task = \"https://leetcode.com/problems/two-sum\"\n",
                "\n",
                "response = await make_coding_agent(link_to_coding_task)\n",
                "\n",
                "print(response)"
            ]
        },
        {
            "cell_type": "markdown",
            "metadata": {},
            "source": [
                "## Conclusion\n",
                "\n",
                "In this cookbook, we've built a powerful AI code solver that can tackle programming challenges from platforms like LeetCode. Our agent:\n",
                "\n",
                "1. Extracts problem descriptions, requirements, and constraints from coding challenge websites\n",
                "2. Analyzes the input/output formats and programming language requirements\n",
                "3. Generates optimized, working solutions with clear explanations\n",
                "4. Presents the information in a structured, easy-to-understand format\n",
                "\n",
                "This tool can be invaluable for:\n",
                "- Learning programming concepts by seeing optimal solutions to common problems\n",
                "- Preparing for technical interviews by analyzing different solution approaches\n",
                "- Debugging your own solutions by comparing them with an AI-generated reference\n",
                "- Exploring different implementation strategies for the same problem\n",
                "\n",
                "### Next Steps\n",
                "\n",
                "To enhance this tool further, you could:\n",
                "- Add support for more coding platforms like HackerRank, CodeSignal, and Codewars\n",
                "- Implement solution generation in multiple programming languages\n",
                "- Add time and space complexity analysis for the generated solutions\n",
                "- Create a comparison feature to analyze multiple solution approaches\n",
                "- Build a web interface where users can input problem URLs and get immediate solutions\n",
                "\n",
                "Happy coding!"
            ]
        },
        {
            "cell_type": "markdown",
            "metadata": {},
            "source": [
                "# ![Code Solver](assets/code_solver.png)\n"
            ]
        },
        {
            "cell_type": "markdown",
            "metadata": {},
            "source": [
                "## Relevant Links\n",
                "- [Hyperbrowser](https://hyperbrowser.ai)\n",
                "- [OpenAI API Documentation](https://platform.openai.com/docs/introduction)\n",
                "- [LeetCode Problems](https://leetcode.com/problemset/)"
            ]
        }
    ],
    "metadata": {
        "kernelspec": {
            "display_name": ".venv",
            "language": "python",
            "name": "python3"
        },
        "language_info": {
            "codemirror_mode": {
                "name": "ipython",
                "version": 3
            },
            "file_extension": ".py",
            "mimetype": "text/x-python",
            "name": "python",
            "nbconvert_exporter": "python",
            "pygments_lexer": "ipython3",
            "version": "3.13.2"
        }
    },
    "nbformat": 4,
    "nbformat_minor": 2
}

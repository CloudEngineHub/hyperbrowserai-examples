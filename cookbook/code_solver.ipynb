{
 "cells": [
  {
   "cell_type": "code",
   "execution_count": 17,
   "metadata": {},
   "outputs": [
    {
     "data": {
      "text/plain": [
       "True"
      ]
     },
     "execution_count": 17,
     "metadata": {},
     "output_type": "execute_result"
    }
   ],
   "source": [
    "import asyncio\n",
    "import json\n",
    "import os\n",
    "\n",
    "from dotenv import load_dotenv\n",
    "from hyperbrowser import AsyncHyperbrowser\n",
    "from hyperbrowser.tools import WebsiteExtractTool\n",
    "from openai import AsyncOpenAI\n",
    "from openai.types.chat import (\n",
    "    ChatCompletionMessageParam,\n",
    "    ChatCompletionMessageToolCall,\n",
    "    ChatCompletionToolMessageParam,\n",
    ")\n",
    "\n",
    "load_dotenv()"
   ]
  },
  {
   "cell_type": "code",
   "execution_count": 18,
   "metadata": {},
   "outputs": [],
   "source": [
    "hb = AsyncHyperbrowser(api_key=os.getenv(\"HYPERBROWSER_API_KEY\"))\n",
    "llm = AsyncOpenAI()"
   ]
  },
  {
   "cell_type": "code",
   "execution_count": 19,
   "metadata": {},
   "outputs": [],
   "source": [
    "async def handle_tool_call(\n",
    "    tc: ChatCompletionMessageToolCall,\n",
    ") -> ChatCompletionToolMessageParam:\n",
    "    print(f\"Handling tool call: {tc.function.name}\")\n",
    "\n",
    "    try:\n",
    "        if (\n",
    "            tc.function.name != WebsiteExtractTool.openai_tool_definition[\"function\"][\"name\"]\n",
    "        ):\n",
    "            raise ValueError(f\"Tool not found: {tc.function.name}\")\n",
    "\n",
    "        args = json.loads(tc.function.arguments)\n",
    "        print(args)\n",
    "        content = await WebsiteExtractTool.async_runnable(hb=hb, params=args)\n",
    "\n",
    "        return {\"role\": \"tool\", \"tool_call_id\": tc.id, \"content\": content}\n",
    "\n",
    "    except Exception as e:\n",
    "        err_msg = f\"Error handling tool call: {e}\"\n",
    "        print(err_msg)\n",
    "        return {\n",
    "            \"role\": \"tool\",\n",
    "            \"tool_call_id\": tc.id,\n",
    "            \"content\": err_msg,\n",
    "            \"is_error\": True, #type: ignore\n",
    "        }"
   ]
  },
  {
   "cell_type": "code",
   "execution_count": 20,
   "metadata": {},
   "outputs": [],
   "source": [
    "async def agent_loop(messages: list[ChatCompletionMessageParam]) -> str:\n",
    "    while True:\n",
    "        response = await llm.chat.completions.create(\n",
    "            messages=messages,\n",
    "            model=\"gpt-4o\",\n",
    "            tools=[\n",
    "                WebsiteExtractTool.openai_tool_definition,\n",
    "            ],\n",
    "            max_completion_tokens=8000,\n",
    "        )\n",
    "\n",
    "        choice = response.choices[0]\n",
    "\n",
    "        # Append response to messages\n",
    "        messages.append(choice.message) #type: ignore\n",
    "\n",
    "        # Handle tool calls\n",
    "        if choice.finish_reason == \"tool_calls\" and choice.message.tool_calls is not None:\n",
    "            tool_result_messages = await asyncio.gather(\n",
    "                *[handle_tool_call(tc) for tc in choice.message.tool_calls]\n",
    "            )\n",
    "            messages.extend(tool_result_messages)\n",
    "\n",
    "        elif choice.finish_reason == \"stop\" and choice.message.content is not None:\n",
    "            return choice.message.content\n",
    "\n",
    "        else:\n",
    "            print(choice)\n",
    "            raise ValueError(f\"Unhandled finish reason: {choice.finish_reason}\")"
   ]
  },
  {
   "cell_type": "code",
   "execution_count": 21,
   "metadata": {},
   "outputs": [],
   "source": [
    "SYSTEM_PROMPT = \"\"\"\n",
    "You are an expert coder. You have access to a 'extract_data' tool which can be used to get structured data from a webpage. \n",
    "\n",
    "This is the link to a piece of code {link}. You are required to find the input parameters, the output parameters, the template in which the code is to be provided, the language in which the code is to be written, the task to be performed, and the list of examples provided (in input and output format).\n",
    "Once you have the information, you need to use those parameters to provide code that will adequately solve the given task. \n",
    "You are required to response with \n",
    "1. The task to be solved\n",
    "2. The input parameters format\n",
    "3. The output parameters format\n",
    "4. The code template provided\n",
    "5. The language in which the solution is required\n",
    "6. The list of examples provided\n",
    "7. Finally, and most importantly, the complete solution for the coding task given.\n",
    "\"\"\".strip()"
   ]
  },
  {
   "cell_type": "code",
   "execution_count": 22,
   "metadata": {},
   "outputs": [],
   "source": [
    "from typing import Coroutine, Any,Callable\n",
    "\n",
    "\n",
    "def make_coding_agent(link_to_code: str)->Callable[..., Coroutine[Any, Any, str]]:\n",
    "    # Popular documentation providers like Gitbook, Mintlify etc automatically generate a llms.txt file\n",
    "    # for documentation sites hosted on their platforms.\n",
    "    if not( link_to_code.startswith(\"http://\") or link_to_code.startswith(\"https://\")):\n",
    "        link_to_code = f\"https://{link_to_code}\"\n",
    "\n",
    "    sysprompt = SYSTEM_PROMPT.format(\n",
    "        link=link_to_code,\n",
    "    )\n",
    "\n",
    "    async def solve_code(question: str) -> str:\n",
    "        return await agent_loop([\n",
    "            {\"role\": \"system\", \"content\": sysprompt},\n",
    "            {\"role\": \"user\", \"content\": question},\n",
    "        ])\n",
    "\n",
    "    return solve_code"
   ]
  },
  {
   "cell_type": "code",
   "execution_count": 23,
   "metadata": {},
   "outputs": [
    {
     "name": "stdout",
     "output_type": "stream",
     "text": [
      "Handling tool call: extract_data\n",
      "{'urls': ['https://leetcode.com/problems/two-sum'], 'prompt': 'Extract the task description, input/output parameters, code template, language, and examples for the problem on the webpage.', 'schema': '{\"task\": \"string\", \"input_format\": \"string\", \"output_format\": \"string\", \"code_template\": \"string\", \"language\": \"string\", \"examples\": [{\"input\": \"string\", \"output\": \"string\"}]}', 'max_links': 5}\n",
      "Error handling tool call: schema - Invalid JSON schema - Status: 400 - Caused by HTTPStatusError: Client error '400 Bad Request' for url 'https://app.hyperbrowser.ai/api/extract'\n",
      "For more information check: https://developer.mozilla.org/en-US/docs/Web/HTTP/Status/400\n",
      "Handling tool call: extract_data\n",
      "{'urls': ['https://leetcode.com/problems/two-sum'], 'prompt': 'Extract the task description, input/output parameters, code template, language, and examples for the problem on the webpage.', 'schema': '{\"type\": \"object\", \"properties\": {\"task\": {\"type\": \"string\"}, \"input_format\": {\"type\": \"string\"}, \"output_format\": {\"type\": \"string\"}, \"code_template\": {\"type\": \"string\"}, \"language\": {\"type\": \"string\"}, \"examples\": {\"type\": \"array\", \"items\": {\"type\": \"object\", \"properties\": {\"input\": {\"type\": \"string\"}, \"output\": {\"type\": \"string\"}}, \"required\": [\"input\", \"output\"]}}}, \"required\": [\"task\", \"input_format\", \"output_format\", \"code_template\", \"language\", \"examples\"]}', 'max_links': 5}\n",
      "Based on the extracted information, here's the breakdown and solution for the coding problem:\n",
      "\n",
      "1. **Task to be Solved:**\n",
      "   - Given an array of integers `nums` and an integer `target`, return indices of the two numbers such that they add up to `target`. You may assume that each input would have exactly one solution, and you may not use the same element twice. The answer can be returned in any order.\n",
      "\n",
      "2. **Input Parameters Format:**\n",
      "   - An array of integers `nums` and an integer `target`.\n",
      "\n",
      "3. **Output Parameters Format:**\n",
      "   - An array of two integers representing the indices of the two numbers that add up to `target`.\n",
      "\n",
      "4. **Code Template Provided:**\n",
      "   ```cpp\n",
      "   class Solution {\n",
      "   public:\n",
      "       vector<int> twoSum(vector<int>& nums, int target) {\n",
      "           \n",
      "       }\n",
      "   };\n",
      "   ```\n",
      "\n",
      "5. **Language in which the Solution is Required:**\n",
      "   - C++\n",
      "\n",
      "6. **Examples Provided:**\n",
      "   - Example 1:\n",
      "     - Input: `nums = [2,7,11,15], target = 9`\n",
      "     - Output: `[0,1]`\n",
      "   - Example 2:\n",
      "     - Input: `nums = [3,2,4], target = 6`\n",
      "     - Output: `[1,2]`\n",
      "   - Example 3:\n",
      "     - Input: `nums = [3,3], target = 6`\n",
      "     - Output: `[0,1]`\n",
      "\n",
      "7. **Complete Solution:**\n",
      "\n",
      "```cpp\n",
      "#include <vector>\n",
      "#include <unordered_map>\n",
      "using namespace std;\n",
      "\n",
      "class Solution {\n",
      "public:\n",
      "    vector<int> twoSum(vector<int>& nums, int target) {\n",
      "        unordered_map<int, int> num_map;\n",
      "        for (int i = 0; i < nums.size(); ++i) {\n",
      "            int complement = target - nums[i];\n",
      "            if (num_map.find(complement) != num_map.end()) {\n",
      "                return {num_map[complement], i};\n",
      "            }\n",
      "            num_map[nums[i]] = i;\n",
      "        }\n",
      "        return {};\n",
      "    }\n",
      "};\n",
      "```\n",
      "\n",
      "This solution uses a hash map to keep track of each number and its index as we iterate through the list. For each number, we check if its complement (i.e., `target - nums[i]`) has already been encountered. If so, a solution is found; otherwise, the current number and its index are stored for future reference.\n"
     ]
    }
   ],
   "source": [
    "link_to_coding_task = \"https://leetcode.com/problems/two-sum\"\n",
    "\n",
    "question = \"Solve this coding problem\"\n",
    "\n",
    "agent = make_coding_agent(link_to_coding_task)\n",
    "\n",
    "response = await agent(question)\n",
    "\n",
    "print(response)"
   ]
  },
  {
   "cell_type": "markdown",
   "metadata": {},
   "source": [
    "# ![Code Solver](assets/code_solver.png)\n"
   ]
  }
 ],
 "metadata": {
  "kernelspec": {
   "display_name": ".venv",
   "language": "python",
   "name": "python3"
  },
  "language_info": {
   "codemirror_mode": {
    "name": "ipython",
    "version": 3
   },
   "file_extension": ".py",
   "mimetype": "text/x-python",
   "name": "python",
   "nbconvert_exporter": "python",
   "pygments_lexer": "ipython3",
   "version": "3.13.2"
  }
 },
 "nbformat": 4,
 "nbformat_minor": 2
}

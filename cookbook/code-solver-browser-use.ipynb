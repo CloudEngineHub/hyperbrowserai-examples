{
    "cells": [
        {
            "cell_type": "markdown",
            "metadata": {},
            "source": [
                "# Building an AI Code Problem Solver with Hyperbrowser\n",
                "\n",
                "In this cookbook, we'll create an AI-powered code problem solver that can tackle coding challenges from platforms like LeetCode, HackerRank, and others. Using Hyperbrowser's Browser Use feature with `Claude 3.7 Sonnet` and it's superior coding abilities, we'll build an agent that can:\n",
                "\n",
                "- Read and understand coding problems directly from the source\n",
                "- Generate solutions in your preferred programming language\n",
                "- Test solutions when possible using the platform's interface\n",
                "- Return clean, template-compliant code\n",
                "\n",
                "Let's turn complex coding challenges into solved problems with just a few lines of code!"
            ]
        },
        {
            "cell_type": "markdown",
            "metadata": {},
            "source": [
                "## Prerequisites\n",
                "\n",
                "To follow along, you'll need:\n",
                "\n",
                "1. A Hyperbrowser API key (sign up at [hyperbrowser.ai](https://hyperbrowser.ai) if you don't have one)\n",
                "2. Python 3.9+ installed\n",
                "\n",
                "Store your API key in a `.env` file in the same directory as this notebook:\n",
                "\n",
                "```shell\n",
                "HYPERBROWSER_API_KEY=your_hyperbrowser_key_here\n",
                "```"
            ]
        },
        {
            "cell_type": "markdown",
            "metadata": {},
            "source": [
                "## Setup\n",
                "\n",
                "First, let's import our dependencies and initialize the Hyperbrowser client:"
            ]
        },
        {
            "cell_type": "code",
            "execution_count": null,
            "metadata": {},
            "outputs": [],
            "source": [
                "import os\n",
                "\n",
                "from dotenv import load_dotenv\n",
                "from hyperbrowser import AsyncHyperbrowser\n",
                "from hyperbrowser.models import (\n",
                "    StartBrowserUseTaskParams,\n",
                "    CreateSessionParams,\n",
                "    ScreenConfig,\n",
                ")\n",
                "\n",
                "load_dotenv()"
            ]
        },
        {
            "cell_type": "code",
            "execution_count": 32,
            "metadata": {},
            "outputs": [],
            "source": [
                "hb = AsyncHyperbrowser(api_key=os.getenv(\"HYPERBROWSER_API_KEY\"))"
            ]
        },
        {
            "cell_type": "markdown",
            "metadata": {},
            "source": [
                "## Creating the Code Solver\n",
                "\n",
                "Our code solver function combines Browser Use with Claude 3.7 Sonnet to create a powerful coding assistant. The agent will:\n",
                "\n",
                "1. Visit the provided coding problem URL\n",
                "2. Analyze the problem requirements and constraints\n",
                "3. Generate a solution in the specified language\n",
                "4. Ensure the solution follows any provided templates\n",
                "5. Test the solution when possible\n",
                "\n",
                "The default LLM used by the Browser Use agent is `Gemini 2.0 flash`, which while powerful is not as good as `Claude 3.7 sonnet` at coding. By mixing up which llm we use, we can leverage the specific abilities of different LLMs to our advantage."
            ]
        },
        {
            "cell_type": "code",
            "execution_count": 33,
            "metadata": {},
            "outputs": [],
            "source": [
                "async def perform_task(code_problem_link: str):\n",
                "    resp = await hb.agents.browser_use.start_and_wait(\n",
                "        StartBrowserUseTaskParams(\n",
                "            task=f\"\"\"You are an expert programmer. You are required to solve the problem at {code_problem_link}. Return to me the solution to the problem in the language specified.\n",
                "             \n",
                "            If there is a template given for that code,\n",
                "             - Make sure that the code you generate for the problem conforms to the template.\n",
                "             - Make sure that the code you return includes the template provided as well. If the code has any comments, return the solution without the comments.\n",
                "             - Make sure to test your solution in the web interface if there is a place to do that. If you can't test it, then return the solution anyways.\n",
                "            \n",
                "            Format the code inside the template provided (if any). Consider this to be the total solution. Return this total solution without any language specific comments, or any commentary added by you.\n",
                "            Solve the code in typescript\n",
                "            \"\"\",\n",
                "            use_vision=True,\n",
                "            session_options=CreateSessionParams(\n",
                "                screen=ScreenConfig(width=1920, height=1080)\n",
                "            ),\n",
                "            llm=\"claude-3-7-sonnet-20250219\"\n",
                "        )\n",
                "    )\n",
                "    if resp.data is not None:\n",
                "        return resp.data.final_result\n",
                "    return None"
            ]
        },
        {
            "cell_type": "markdown",
            "metadata": {},
            "source": [
                "## Testing the Solver\n",
                "\n",
                "Let's test our code solver on a challenging problem - finding the median of two sorted arrays from LeetCode. This is a great test case because it:\n",
                "\n",
                "- Requires efficient algorithmic thinking\n",
                "- Has clear input/output requirements\n",
                "- Tests the agent's ability to handle complex problem constraints"
            ]
        },
        {
            "cell_type": "code",
            "execution_count": 34,
            "metadata": {},
            "outputs": [
                {
                    "name": "stdout",
                    "output_type": "stream",
                    "text": [
                        "function findMedianSortedArrays(nums1: number[], nums2: number[]): number {\n",
                        "    if (nums1.length > nums2.length) {\n",
                        "        [nums1, nums2] = [nums2, nums1];\n",
                        "    }\n",
                        "    \n",
                        "    const x = nums1.length;\n",
                        "    const y = nums2.length;\n",
                        "    const totalLength = x + y;\n",
                        "    const halfLength = Math.floor((totalLength + 1) / 2);\n",
                        "    \n",
                        "    let left = 0;\n",
                        "    let right = x;\n",
                        "    \n",
                        "    while (left <= right) {\n",
                        "        const partitionX = Math.floor((left + right) / 2);\n",
                        "        const partitionY = halfLength - partitionX;\n",
                        "        \n",
                        "        const maxX = partitionX === 0 ? Number.NEGATIVE_INFINITY : nums1[partitionX - 1];\n",
                        "        const maxY = partitionY === 0 ? Number.NEGATIVE_INFINITY : nums2[partitionY - 1];\n",
                        "        \n",
                        "        const minX = partitionX === x ? Number.POSITIVE_INFINITY : nums1[partitionX];\n",
                        "        const minY = partitionY === y ? Number.POSITIVE_INFINITY : nums2[partitionY];\n",
                        "        \n",
                        "        if (maxX <= minY && maxY <= minX) {\n",
                        "            if (totalLength % 2 === 0) {\n",
                        "                return (Math.max(maxX, maxY) + Math.min(minX, minY)) / 2;\n",
                        "            } else {\n",
                        "                return Math.max(maxX, maxY);\n",
                        "            }\n",
                        "        } else if (maxX > minY) {\n",
                        "            right = partitionX - 1;\n",
                        "        } else {\n",
                        "            left = partitionX + 1;\n",
                        "        }\n",
                        "    }\n",
                        "    \n",
                        "    return 0;\n",
                        "}\n"
                    ]
                }
            ],
            "source": [
                "link_to_coding_task = \"https://leetcode.com/problems/median-of-two-sorted-arrays\"\n",
                "\n",
                "response = await perform_task(link_to_coding_task)\n",
                "if response is not None:\n",
                "    print(response)\n",
                "else:\n",
                "    print(\"No response from the agent\")"
            ]
        },
        {
            "cell_type": "markdown",
            "metadata": {},
            "source": [
                "![Code Solver Example with Browser Use](/code-solver-browser-use.png)"
            ]
        },
        {
            "cell_type": "markdown",
            "metadata": {},
            "source": [
                "## Make It Your Own\n",
                "\n",
                "Here are some ways to customize and extend the code solver:\n",
                "\n",
                "- Modify the language preference in the task prompt\n",
                "- Add support for specific coding platforms\n",
                "- Implement solution validation and testing\n",
                "- Create a solution archive for future reference\n",
                "- Add explanation generation for complex solutions"
            ]
        },
        {
            "cell_type": "markdown",
            "metadata": {},
            "source": [
                "## Conclusion\n",
                "\n",
                "We've built a powerful AI coding assistant that can tackle complex programming challenges with ease. By combining Hyperbrowser's Browser Use with `Claude 3.7 Sonnet`, we've created a tool that not only solves problems but ensures solutions are properly formatted and tested.\n",
                "\n",
                "This example also shows how we can leverage the individual abilities of specific LLMs for our benefit. For every problem, it might be worth it to change the LLM used before moving to more intricate approaches.\n",
                "\n",
                "Whether you're practicing for interviews, learning new algorithms, or just want to save time on coding challenges, this agent has you covered.\n",
                "\n",
                "## Relevant Links\n",
                "- [Hyperbrowser](https://hyperbrowser.ai)\n",
                "- [Hyperbrowser Documentation](https://docs.hyperbrowser.ai)\n"
            ]
        }
    ],
    "metadata": {
        "kernelspec": {
            "display_name": ".venv",
            "language": "python",
            "name": "python3"
        },
        "language_info": {
            "codemirror_mode": {
                "name": "ipython",
                "version": 3
            },
            "file_extension": ".py",
            "mimetype": "text/x-python",
            "name": "python",
            "nbconvert_exporter": "python",
            "pygments_lexer": "ipython3",
            "version": "3.13.2"
        }
    },
    "nbformat": 4,
    "nbformat_minor": 2
}

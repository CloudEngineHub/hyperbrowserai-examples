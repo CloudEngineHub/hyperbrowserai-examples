{
    "cells": [
        {
            "cell_type": "markdown",
            "metadata": {},
            "source": [
                "# Building a Chess Move Solver with Hyperbrowser and Claude\n",
                "\n",
                "In this cookbook, we'll build a smart chess puzzle solver that can analyze a chess position and recommend the best next move. This approach combines:\n",
                "\n",
                "- **Hyperbrowser** for capturing screenshots of chess positions from websites\n",
                "- **Anthropic's Claude 3.7 Sonnet model** for analyzing the position and determining the best move\n",
                "- **Tool-calling** to create an agent that can work with visual chess data\n",
                "\n",
                "By the end of this cookbook, you'll have a reusable agent that can solve chess puzzles from websites like Lichess!\n"
            ]
        },
        {
            "cell_type": "markdown",
            "metadata": {},
            "source": [
                "## Prerequisites\n",
                "\n",
                "Before starting, make sure you have:\n",
                "\n",
                "1. A Hyperbrowser API key (sign up at [hyperbrowser.ai](https://hyperbrowser.ai) if you don't have one, it's free)\n",
                "2. An Anthropic API key\n",
                "3. Python 3.9+ installed\n",
                "\n",
                "Both API keys should be stored in a `.env` file in the same directory as this notebook with the following format:\n",
                "\n",
                "```\n",
                "HYPERBROWSER_API_KEY=your_hyperbrowser_key_here\n",
                "ANTHROPIC_API_KEY=your_anthropic_key_here\n",
                "```\n"
            ]
        },
        {
            "cell_type": "markdown",
            "metadata": {},
            "source": [
                "## Step 1: Set up imports and load environment variables\n"
            ]
        },
        {
            "cell_type": "code",
            "execution_count": 1,
            "metadata": {},
            "outputs": [
                {
                    "data": {
                        "text/plain": [
                            "True"
                        ]
                    },
                    "execution_count": 1,
                    "metadata": {},
                    "output_type": "execute_result"
                }
            ],
            "source": [
                "import asyncio\n",
                "import os\n",
                "import base64\n",
                "\n",
                "from dotenv import load_dotenv\n",
                "from hyperbrowser import AsyncHyperbrowser\n",
                "from hyperbrowser.tools import WebsiteScreenshotTool\n",
                "\n",
                "from anthropic import AsyncAnthropic\n",
                "from anthropic.types import (\n",
                "    MessageParam,\n",
                "    ToolUseBlock,\n",
                "    ToolResultBlockParam,\n",
                ")\n",
                "\n",
                "from typing import Coroutine, Any, Callable\n",
                "\n",
                "from IPython.display import display, Markdown\n",
                "\n",
                "import requests\n",
                "\n",
                "load_dotenv()"
            ]
        },
        {
            "cell_type": "markdown",
            "metadata": {},
            "source": [
                "## Step 2: Initialize clients\n"
            ]
        },
        {
            "cell_type": "code",
            "execution_count": 2,
            "metadata": {},
            "outputs": [],
            "source": [
                "hb = AsyncHyperbrowser(api_key=os.getenv(\"HYPERBROWSER_API_KEY\"))\n",
                "llm = AsyncAnthropic()"
            ]
        },
        {
            "cell_type": "markdown",
            "metadata": {},
            "source": [
                "## Step 3: Create helper functions for tool handling\n",
                "\n",
                "Next, we'll define a function to handle tool calls from the LLM. This function will process the screenshot tool calls and return the results to the agent.\n"
            ]
        },
        {
            "cell_type": "code",
            "execution_count": 3,
            "metadata": {},
            "outputs": [],
            "source": [
                "async def handle_tool_call(\n",
                "    tc: ToolUseBlock,\n",
                ") -> ToolResultBlockParam:\n",
                "    print(f\"Handling tool call: {tc.name}\")\n",
                "    try:\n",
                "        if tc.name != WebsiteScreenshotTool.anthropic_tool_definition[\"name\"]:\n",
                "            raise ValueError(f\"Tool not found: {tc.name}\")\n",
                "        args = tc.input\n",
                "        print(args)\n",
                "        # Convert args to dict if it's not already a dict\n",
                "        params = args if isinstance(args, dict) else dict(args)  # type:ignore\n",
                "        screenshot_url = await WebsiteScreenshotTool.async_runnable(\n",
                "            hb=hb, params=params\n",
                "        )\n",
                "        response = requests.get(screenshot_url)\n",
                "        if response.status_code == 200:\n",
                "            image_base64 = base64.b64encode(response.content).decode(\"utf-8\")\n",
                "            screenshot = f\"data:image/webp;base64,{image_base64}\"\n",
                "            return ToolResultBlockParam(\n",
                "                tool_use_id=tc.id,\n",
                "                type=\"tool_result\",\n",
                "                content=screenshot,\n",
                "                is_error=False,\n",
                "            )\n",
                "        else:\n",
                "            return ToolResultBlockParam(\n",
                "                tool_use_id=tc.id,\n",
                "                type=\"tool_result\",\n",
                "                content=\"Could not get screenshot from hyperbrowser screenshot tool\",\n",
                "                is_error=True,\n",
                "            )\n",
                "\n",
                "    except Exception as e:\n",
                "        err_msg = f\"Error handling tool call: {e}\"\n",
                "        print(err_msg)\n",
                "        return ToolResultBlockParam(\n",
                "            tool_use_id=tc.id, type=\"tool_result\", content=str(e), is_error=True\n",
                "        )"
            ]
        },
        {
            "cell_type": "markdown",
            "metadata": {},
            "source": [
                "## Step 4: Implement the agent loop\n",
                "\n",
                "Now we'll create the main agent loop that orchestrates the conversation between the user, the LLM, and the tools. This function:\n",
                "\n",
                "1. Takes a list of messages (including system prompt and user query)\n",
                "2. Sends them to the Anthropic API\n",
                "3. Processes any tool calls that the LLM makes\n",
                "4. Continues the conversation until the LLM provides a final answer\n",
                "\n",
                "This is the core of our chess-solving agent's functionality.\n"
            ]
        },
        {
            "cell_type": "code",
            "execution_count": 4,
            "metadata": {},
            "outputs": [],
            "source": [
                "async def agent_loop(messages: list[MessageParam]) -> str:\n",
                "    while True:\n",
                "        response = await llm.messages.create(\n",
                "            messages=messages,\n",
                "            model=\"claude-3-7-sonnet-latest\",\n",
                "            max_tokens=8000,\n",
                "            tools=[\n",
                "                WebsiteScreenshotTool.anthropic_tool_definition,\n",
                "            ],\n",
                "        )\n",
                "\n",
                "        choice = response\n",
                "\n",
                "        if choice.stop_reason == \"tool_use\":\n",
                "            if choice.content[0].type == \"text\":\n",
                "                print(choice.content[0].text)\n",
                "            tool_use = next(\n",
                "                block for block in response.content if block.type == \"tool_use\"\n",
                "            )\n",
                "            if tool_use is not None:\n",
                "                messages.append(\n",
                "                    {\n",
                "                        \"role\": \"assistant\",\n",
                "                        \"content\": choice.content,\n",
                "                    }\n",
                "                )\n",
                "\n",
                "                # Handle tool calls\n",
                "                if choice.content is not None:\n",
                "                    tool_result_messages = await asyncio.gather(\n",
                "                        *[\n",
                "                            handle_tool_call(tc)\n",
                "                            for tc in choice.content\n",
                "                            if tc.type == \"tool_use\"\n",
                "                        ]\n",
                "                    )\n",
                "                    messages.append(\n",
                "                        MessageParam(content=tool_result_messages, role=\"user\")\n",
                "                    )\n",
                "        elif choice.stop_reason == \"stop_sequence\" or choice.stop_reason == \"end_turn\":\n",
                "            text_block = next(block for block in choice.content if block.type == \"text\")\n",
                "            return text_block.text\n",
                "\n",
                "        else:\n",
                "            print(choice)\n",
                "            raise ValueError(f\"Unhandled finish reason: {choice.stop_reason}\")"
            ]
        },
        {
            "cell_type": "markdown",
            "metadata": {},
            "source": [
                "## Step 5: Design the system prompt\n",
                "\n",
                "The system prompt is crucial for guiding the LLM's behavior. Our prompt establishes the LLM as a chess expert and provides instructions on how to analyze chess positions and report the best moves.\n"
            ]
        },
        {
            "cell_type": "code",
            "execution_count": 5,
            "metadata": {},
            "outputs": [],
            "source": [
                "SYSTEM_PROMPT = \"\"\"\n",
                "You are an expert chess solver. You have access to a 'scrape_webpage' tool which can be used to take a screenshot of the current position. \n",
                "\n",
                "This is the link to a chess game {chess_game_url}. You are given a position and you need to find the next move.\n",
                "The page contains the current position and tells you the color of the piece to move, usually listed as \"Find the best move for white\" or \"Find the best move for black\".\"\n",
                "\n",
                "Make sure that the piece you're moving is actually of the color you're asked to move for. In addition, make sure that no piece blocks the natural movement of the piece you're trying to move.\n",
                "\n",
                "You are required to response with \n",
                "1. The best piece to move (one between a pawn, knight, bishop, rook, queen, or king)\n",
                "2. the current position of the piece to move (usually listed as \"a4\" or \"h8\")\n",
                "3. the next position of the piece to move (usually listed as \"a5\" or \"h7\")\n",
                "\n",
                "Try to answer the response sticking as close as possible to these 3 parameters. If you cannot tell the next best position according to the users prompts, then state that you cannot. Do not ask followup questions here.\n",
                "\n",
                "Return the final response formatted as markdown\n",
                "\"\"\".strip()"
            ]
        },
        {
            "cell_type": "markdown",
            "metadata": {},
            "source": [
                "## Step 6: Create a factory function for generating chess-solving agents\n",
                "\n",
                "Now we'll create a factory function that generates a specialized chess-solving agent. This function:\n",
                "\n",
                "1. Takes a chess game URL as input\n",
                "2. Formats the system prompt with this URL\n",
                "3. Returns a function that can analyze and solve chess positions\n",
                "\n",
                "This approach makes our solution reusable for different chess puzzles from various websites.\n"
            ]
        },
        {
            "cell_type": "code",
            "execution_count": 6,
            "metadata": {},
            "outputs": [],
            "source": [
                "def make_chess_agent(\n",
                "    link_to_chess_game: str,\n",
                ") -> Callable[..., Coroutine[Any, Any, str]]:\n",
                "    # Popular documentation providers like Gitbook, Mintlify etc automatically generate a llms.txt file\n",
                "    # for documentation sites hosted on their platforms.\n",
                "    if not (\n",
                "        link_to_chess_game.startswith(\"http://\")\n",
                "        or link_to_chess_game.startswith(\"https://\")\n",
                "    ):\n",
                "        link_to_chess_game = f\"https://{link_to_chess_game}\"\n",
                "\n",
                "    sysprompt = SYSTEM_PROMPT.format(\n",
                "        chess_game_url=link_to_chess_game,\n",
                "    )\n",
                "\n",
                "    async def solve_chess(question: str) -> str:\n",
                "        return await agent_loop(\n",
                "            [\n",
                "                {\"role\": \"assistant\", \"content\": sysprompt},\n",
                "                {\"role\": \"user\", \"content\": question},\n",
                "            ]\n",
                "        )\n",
                "\n",
                "    return solve_chess"
            ]
        },
        {
            "cell_type": "markdown",
            "metadata": {},
            "source": [
                "## Step 7: Test the agent with a real chess puzzle\n",
                "\n",
                "Let's test our agent by creating an instance for a Lichess chess puzzle and asking it to find the best move. This will demonstrate the full workflow:\n",
                "\n",
                "1. The agent receives a question about the best move for a chess position\n",
                "2. It uses the `scrape_webpage` tool to take a screenshot of the position\n",
                "3. It analyzes the position and determines the best move\n",
                "4. It returns the answer in the specified format\n",
                "\n",
                "You'll see the tool calls being made in real-time as the agent works through the puzzle.\n"
            ]
        },
        {
            "cell_type": "code",
            "execution_count": 7,
            "metadata": {},
            "outputs": [
                {
                    "name": "stdout",
                    "output_type": "stream",
                    "text": [
                        "I'll help you solve this chess puzzle. First, let me take a screenshot of the current position to analyze it.\n",
                        "Handling tool call: screenshot_webpage\n",
                        "{'url': 'https://lichess.org/training/ntE6Z', 'scrape_options': {'include_tags': ['body'], 'exclude_tags': [], 'only_main_content': True, 'formats': ['screenshot']}}\n"
                    ]
                },
                {
                    "data": {
                        "text/markdown": [
                            "Based on the chess position shown on the Lichess training puzzle, I can analyze the best move for white.\n",
                            "\n",
                            "Looking at the current position, I can see that:\n",
                            "- White is asked to make the best move\n",
                            "- White has a rook on h1\n",
                            "- There's a pawn structure with white pawns advanced\n",
                            "- Black's king is on the kingside\n",
                            "\n",
                            "The best move for white in this position is:\n",
                            "\n",
                            "# Rook from h1 to h8, delivering checkmate\n",
                            "\n",
                            "This is a classic checkmate pattern where the rook delivers the final blow along the h-file, with no pieces able to block or capture the rook. The rook's movement to h8 delivers an immediate checkmate to the black king."
                        ],
                        "text/plain": [
                            "<IPython.core.display.Markdown object>"
                        ]
                    },
                    "metadata": {},
                    "output_type": "display_data"
                }
            ],
            "source": [
                "link_to_chess_game = \"https://lichess.org/training/ntE6Z\"\n",
                "\n",
                "question = \"What is the best move for white?\"\n",
                "\n",
                "agent = make_chess_agent(link_to_chess_game)\n",
                "\n",
                "response = await agent(question)\n",
                "\n",
                "display(Markdown(response))"
            ]
        },
        {
            "cell_type": "markdown",
            "metadata": {},
            "source": [
                "## Conclusion\n",
                "\n",
                "In this cookbook, we built a powerful chess puzzle solver using Hyperbrowser and Claude. This agent can:\n",
                "\n",
                "1. Access and capture screenshots of chess positions from websites\n",
                "2. Analyze the visual representation of a chess board\n",
                "3. Determine the best next move based on the current position\n",
                "4. Provide a clear, structured response with the piece, current position, and target position\n",
                "\n",
                "This pattern can be extended to create more sophisticated chess analysis tools or be adapted for other visual puzzle-solving tasks.\n",
                "\n",
                "### Next Steps\n",
                "\n",
                "To take this further, you might consider:\n",
                "\n",
                "- Adding support for multiple chess puzzle platforms\n",
                "- Implementing move validation to ensure the suggested moves are legal\n",
                "- Creating a web interface where users can paste chess puzzle links\n",
                "- Adding explanations for why a particular move is best\n",
                "- Extending the agent to recommend multiple good moves with pros and cons\n",
                "\n",
                "Happy chess solving!\n"
            ]
        },
        {
            "cell_type": "markdown",
            "metadata": {},
            "source": [
                "## Relevant Links\n",
                "\n",
                "- [Hyperbrowser](https://hyperbrowser.ai)\n",
                "- [Lichess Puzzles](https://lichess.org/training)\n",
                "- [Anthropic Docs](https://docs.anthropic.com/en/docs/welcome)\n"
            ]
        }
    ],
    "metadata": {
        "kernelspec": {
            "display_name": ".venv",
            "language": "python",
            "name": "python3"
        },
        "language_info": {
            "codemirror_mode": {
                "name": "ipython",
                "version": 3
            },
            "file_extension": ".py",
            "mimetype": "text/x-python",
            "name": "python",
            "nbconvert_exporter": "python",
            "pygments_lexer": "ipython3",
            "version": "3.13.2"
        }
    },
    "nbformat": 4,
    "nbformat_minor": 2
}

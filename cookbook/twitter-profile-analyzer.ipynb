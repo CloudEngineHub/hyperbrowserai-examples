{
    "cells": [
        {
            "cell_type": "markdown",
            "metadata": {},
            "source": [
                "# Building a Twitter Profile Analyzer with Hyperbrowser and GPT-4o-mini\n",
                "In this cookbook, we'll build a Twitter (X) Profile Analyzer that can extract detailed information from any Twitter profile using a persistent authenticated browser session. This approach allows us to access Twitter data even when a log in is required.\n",
                "\n",
                "We'll use these tools to build our agent:\n",
                "- Hyperbrowser for authenticated web browsing and data extraction\n",
                "- OpenAI's GPT-4o-mini for parsing Twitter profiles and answering questions about the data\n",
                "\n",
                "By the end of this cookbook, you'll have a reusable agent that can analyze any Twitter profile and answer questions about their activity!"
            ]
        },
        {
            "cell_type": "code",
            "execution_count": null,
            "metadata": {},
            "outputs": [],
            "source": [
                "import asyncio\n",
                "import json\n",
                "import os\n",
                "\n",
                "from dotenv import load_dotenv\n",
                "from hyperbrowser import AsyncHyperbrowser\n",
                "from hyperbrowser.tools import WebsiteExtractTool\n",
                "from openai import AsyncOpenAI\n",
                "from openai.types.chat import (\n",
                "    ChatCompletionMessageParam,\n",
                "    ChatCompletionMessageToolCall,\n",
                "    ChatCompletionToolMessageParam,\n",
                ")\n",
                "\n",
                "from typing import List\n",
                "\n",
                "from IPython.display import Markdown, display\n",
                "\n",
                "load_dotenv()"
            ]
        },
        {
            "cell_type": "markdown",
            "metadata": {},
            "source": [
                "## Prerequisites\n",
                "\n",
                "To follow along you'll need the following:\n",
                "\n",
                "- A Hyperbrowser API key (sign up at hyperbrowser.ai if you don't have one, it's free)\n",
                "- An OpenAI API key (sign up at openai.com if you don't have one, it's free)\n",
                "- Python 3.9+ installed\n",
                "\n",
                "Both API keys should be stored in a .env file in the same directory as this notebook with the following format:"
            ]
        },
        {
            "cell_type": "markdown",
            "metadata": {},
            "source": [
                "## Step 1: Initialize clients"
            ]
        },
        {
            "cell_type": "code",
            "execution_count": 183,
            "metadata": {},
            "outputs": [],
            "source": [
                "hb = AsyncHyperbrowser(api_key=os.getenv(\"HYPERBROWSER_API_KEY\"))\n",
                "llm = AsyncOpenAI()"
            ]
        },
        {
            "cell_type": "markdown",
            "metadata": {},
            "source": [
                "## Step 2: Set up a persistent browser profile\n",
                "\n",
                "A key feature of this cookbook is using a persistent browser profile. This allows us to maintain a login session across different runs, essential for accessing Twitter content that might require authentication."
            ]
        },
        {
            "cell_type": "code",
            "execution_count": 184,
            "metadata": {},
            "outputs": [],
            "source": [
                "profile_id = \"[If a profile already exists, use it here]\"\n",
                "### If you are using this notebook for the first time, uncomment the following lines and run them\n",
                "# from hyperbrowser.models import CreateSessionParams,CreateSessionProfile\n",
                "\n",
                "# profile = await hb.profiles.create()\n",
                "# print(profile)\n",
                "# session = await hb.sessions.create(CreateSessionParams(profile=CreateSessionProfile(id=profile.id,persist_changes=True)))\n",
                "# print(session.live_url)\n",
                "# profile_id = profile.id"
            ]
        },
        {
            "cell_type": "markdown",
            "metadata": {},
            "source": [
                "When you uncomment and run the code above for the first time, it will:\n",
                "\n",
                "1. Create a new browser profile\n",
                "2. Start a browser session with that profile\n",
                "3. Show a live URL where you can interact with the browser\n",
                "4. Save the profile ID for future use\n",
                "\n",
                "You can use the live URL to manually log in to Twitter. Once logged in, the session will be saved to your profile for future API calls."
            ]
        },
        {
            "cell_type": "code",
            "execution_count": 185,
            "metadata": {},
            "outputs": [],
            "source": [
                "# await hb.sessions.stop(session.id)"
            ]
        },
        {
            "cell_type": "markdown",
            "metadata": {},
            "source": [
                "Use the code above to stop the browser session when you're done with manual interaction. **It is critical to stop the live session**, so that the log in data can then be stored."
            ]
        },
        {
            "cell_type": "markdown",
            "metadata": {},
            "source": [
                "## Step 3: Implement tool handling for web extraction\n",
                "\n",
                "Now we'll create a function to handle the extraction of data from Twitter profiles using Hyperbrowser's API. Notice how the `profile_id` has been injected into the, extract params. This makes sure that the agent always is authenticated when accessing an authed flow."
            ]
        },
        {
            "cell_type": "code",
            "execution_count": 186,
            "metadata": {},
            "outputs": [],
            "source": [
                "async def handle_tool_call(\n",
                "    tc: ChatCompletionMessageToolCall,\n",
                ") -> ChatCompletionToolMessageParam:\n",
                "    print(f\"Handling tool call: {tc.function.name}\")\n",
                "\n",
                "    try:\n",
                "        if (\n",
                "            tc.function.name\n",
                "            != WebsiteExtractTool.openai_tool_definition[\"function\"][\"name\"]\n",
                "        ):\n",
                "            raise ValueError(f\"Tool not found: {tc.function.name}\")\n",
                "\n",
                "        args = json.loads(tc.function.arguments)\n",
                "        print(args)\n",
                "\n",
                "        extract_job_params = dict(\n",
                "            **args,\n",
                "            session_options=dict(\n",
                "                profile=dict(id=profile_id),\n",
                "            ),\n",
                "        )\n",
                "\n",
                "        content = await WebsiteExtractTool.async_runnable(\n",
                "            hb=hb,\n",
                "            params=extract_job_params,\n",
                "        )\n",
                "\n",
                "        return {\"role\": \"tool\", \"tool_call_id\": tc.id, \"content\": content}\n",
                "\n",
                "    except Exception as e:\n",
                "        err_msg = f\"Error handling tool call: {e}\"\n",
                "        print(e)\n",
                "        print(err_msg)\n",
                "        return {\n",
                "            \"role\": \"tool\",\n",
                "            \"tool_call_id\": tc.id,\n",
                "            \"content\": err_msg,\n",
                "            \"is_error\": True,  # type: ignore\n",
                "        }"
            ]
        },
        {
            "cell_type": "markdown",
            "metadata": {},
            "source": [
                "## Step 4: Create the agent loop\n",
                "\n",
                "This function handles the conversation flow between the user, the LLM, and the tools.\n",
                "\n",
                "It's fairly straightforward, but in summary\n",
                "- It takes a list of messages, including the system prompt and the users question\n",
                "- Send them to OpenAI\n",
                "- Process the tool calls, if any\n",
                "- Repeat the loop until the **stop** message is sent."
            ]
        },
        {
            "cell_type": "code",
            "execution_count": 187,
            "metadata": {},
            "outputs": [],
            "source": [
                "async def agent_loop(messages: list[ChatCompletionMessageParam]) -> str:\n",
                "    while True:\n",
                "        response = await llm.beta.chat.completions.parse(\n",
                "            messages=messages,\n",
                "            model=\"gpt-4o-mini\",\n",
                "            tools=[\n",
                "                WebsiteExtractTool.openai_tool_definition,\n",
                "            ],\n",
                "            max_completion_tokens=8000,\n",
                "        )\n",
                "\n",
                "        choice = response.choices[0]\n",
                "\n",
                "        # Append response to messages\n",
                "        messages.append(choice.message)  # type: ignore\n",
                "\n",
                "        # Handle tool calls\n",
                "        if (\n",
                "            choice.finish_reason == \"tool_calls\"\n",
                "            and choice.message.tool_calls is not None\n",
                "        ):\n",
                "            tool_result_messages = await asyncio.gather(\n",
                "                *[handle_tool_call(tc) for tc in choice.message.tool_calls]\n",
                "            )\n",
                "            messages.extend(tool_result_messages)\n",
                "\n",
                "        elif choice.finish_reason == \"stop\" and choice.message.content is not None:\n",
                "            return choice.message.content\n",
                "\n",
                "        else:\n",
                "            print(choice)\n",
                "            raise ValueError(f\"Unhandled finish reason: {choice.finish_reason}\")"
            ]
        },
        {
            "cell_type": "markdown",
            "metadata": {},
            "source": [
                "## Step 5: Design the system prompt\n",
                "\n",
                "The system prompt guides the LLM's behavior, telling it what to extract from Twitter profiles, what to do with the users question if provided, and how it should respond."
            ]
        },
        {
            "cell_type": "code",
            "execution_count": 188,
            "metadata": {},
            "outputs": [],
            "source": [
                "SYSTEM_PROMPT = \"\"\"\n",
                "You are an expert social media manager. You have access to a 'extract_data' tool which can be used to get structured data from a webpage. You can use this tool to get the data from the twitter profile. Here is the link to the twitter profile: {link}\n",
                "\n",
                "From the scraped information, you are required to extract the following information:\n",
                "1. The username of the twitter profile\n",
                "2. The number of followers of the twitter profile\n",
                "3. The number of following of the twitter profile\n",
                "4. The recent tweets of the twitter profile\n",
                "  - The text of the tweet\n",
                "  - The number of likes of the tweet\n",
                "  - The number of replies of the tweet\n",
                "  - The number of retweets of the tweet\n",
                "  - The date and time of the tweet\n",
                "  - The url of the tweet\n",
                "  - The number of views of the tweet\n",
                "\n",
                "The user may also have some questions about the twitter profile. You are required to answer the questions based on the information extracted from the twitter profile. Respond in markdown format.\n",
                "\"\"\".strip()"
            ]
        },
        {
            "cell_type": "markdown",
            "metadata": {},
            "source": [
                "## Step 6: Create a factory function for generating Twitter analyzer agents\n",
                "\n",
                "Now we'll create a factory function that generates specialized Twitter profile analyzers.\n",
                "\n",
                "This function\n",
                "1. Takes the twitter profile link\n",
                "2. Injects it into the user profile\n",
                "3. Bundles it inot a reusable prompt that can be used repeatedly."
            ]
        },
        {
            "cell_type": "code",
            "execution_count": 189,
            "metadata": {},
            "outputs": [],
            "source": [
                "def make_twitter_profile_agent(link_to_profile: str):\n",
                "    # Popular documentation providers like Gitbook, Mintlify etc automatically generate a llms.txt file\n",
                "    # for documentation sites hosted on their platforms.\n",
                "    if not (\n",
                "        link_to_profile.startswith(\"http://\") or link_to_profile.startswith(\"https://\")\n",
                "    ):\n",
                "        link_to_profile = f\"https://{link_to_profile}\"\n",
                "\n",
                "    sysprompt = SYSTEM_PROMPT.format(\n",
                "        link=link_to_profile,\n",
                "    )\n",
                "\n",
                "    async def twitter_profile_agent(question: str) -> str:\n",
                "        return await agent_loop(\n",
                "            [\n",
                "                {\"role\": \"system\", \"content\": sysprompt},\n",
                "                {\"role\": \"user\", \"content\": f\"The user asked: {question}\"},\n",
                "            ]\n",
                "        )\n",
                "\n",
                "    return twitter_profile_agent"
            ]
        },
        {
            "cell_type": "markdown",
            "metadata": {},
            "source": [
                "## Step 7: Test the Twitter analyzer with NASA's profile\n",
                "\n",
                "Let's test our agent by analyzing NASA's Twitter profile and asking a question about their latest news. Here's what the full flow would look like\n",
                "\n",
                "1. The agent receives a question about NASA's twitter profile\n",
                "2. It goes to NASAs twitter profile and performs a structured extraction.\n",
                "3. ChatGPT processes the structured extraction result\n",
                "4. It processes the tool call result to answer the users question. \n",
                "5. Returns the answer satisfying the users question(s).\n",
                "\n",
                "You can see the flow below here, and what tools were called."
            ]
        },
        {
            "cell_type": "code",
            "execution_count": 190,
            "metadata": {},
            "outputs": [
                {
                    "name": "stdout",
                    "output_type": "stream",
                    "text": [
                        "Handling tool call: extract_data\n",
                        "{'urls': ['https://x.com/NASA'], 'prompt': 'Extract recent tweets from the NASA Twitter profile, including the text, likes, replies, retweets, date and time, URL, and views for each tweet.', 'schema': '{\"type\":\"object\",\"properties\":{\"tweets\":{\"type\":\"array\",\"items\":{\"type\":\"object\",\"properties\":{\"text\":{\"type\":\"string\"},\"likes\":{\"type\":\"integer\"},\"replies\":{\"type\":\"integer\"},\"retweets\":{\"type\":\"integer\"},\"date_time\":{\"type\":\"string\"},\"url\":{\"type\":\"string\"},\"views\":{\"type\":\"integer\"}}}}}}', 'max_links': 5}\n"
                    ]
                }
            ],
            "source": [
                "twitter_profile_agent = make_twitter_profile_agent(\"https://x.com/NASA\")\n",
                "question = \"What's the latest news from NASA ?\"\n",
                "\n",
                "answer = await twitter_profile_agent(question)"
            ]
        },
        {
            "cell_type": "markdown",
            "metadata": {},
            "source": [
                "## Step 8: Display the formatted results"
            ]
        },
        {
            "cell_type": "code",
            "execution_count": 191,
            "metadata": {},
            "outputs": [
                {
                    "data": {
                        "text/markdown": [
                            "Here's the latest news from NASA as per their Twitter profile:\n",
                            "\n",
                            "1. **[Turn @NASAHubble sights into Hubble sounds!](https://x.com/NASA/status/1899538572262154678)**  \n",
                            "   - **Text:** With Hearing Hubble, you can make your own sonifications out of our universe's most spectacular galaxies and nebulae. Choose an image, create your own symphony, and share your masterpiece. Start now: [link](https://go.nasa.gov/3R7g6aV)  \n",
                            "   - **Likes:** 70  \n",
                            "   - **Replies:** 169  \n",
                            "   - **Retweets:** 958  \n",
                            "   - **Date & Time:** 1h ago  \n",
                            "   - **Views:** 160,000  \n",
                            "\n",
                            "2. **[Can't stop, won't stop going to space 🚀](https://x.com/NASA/status/1899495457115537488)**  \n",
                            "   - **Text:** NASA's @SpaceX #Crew10 mission is scheduled to send four new crew members to the @Space_Station at 7:48pm ET (2348 UTC) on Wednesday, March 12. Live coverage starts at 3:45pm ET (1945 UTC)—watch with us here on X.  \n",
                            "   - **Likes:** 184  \n",
                            "   - **Replies:** 309  \n",
                            "   - **Retweets:** 1800  \n",
                            "   - **Date & Time:** 4h ago  \n",
                            "   - **Views:** 250,000  \n",
                            "\n",
                            "3. **[LIVE: Two missions - one launch!](https://x.com/NASA/status/1899283195142545585)**  \n",
                            "   - **Text:** Watch with us as PUNCH and SPHEREx share a ride to space. They’re set to lift off from California’s @SLDelta30 at 11:10pm ET (0310 UTC March 11).  \n",
                            "   - **Likes:** 220  \n",
                            "   - **Replies:** 615  \n",
                            "   - **Retweets:** 3400  \n",
                            "   - **Date & Time:** 18h ago  \n",
                            "   - **Views:** 5,100,000  \n",
                            "\n",
                            "You can follow [@NASA](https://x.com/NASA) for more updates!"
                        ],
                        "text/plain": [
                            "<IPython.core.display.Markdown object>"
                        ]
                    },
                    "metadata": {},
                    "output_type": "display_data"
                }
            ],
            "source": [
                "display(Markdown(answer))"
            ]
        },
        {
            "cell_type": "markdown",
            "metadata": {},
            "source": [
                "## Conclusion\n",
                "In this cookbook, we built a Twitter Profile Analyzer using Hyperbrowser and OpenAI's GPT-4o-mini. This agent can:\n",
                "1. Access Twitter profiles using an authenticated browser session\n",
                "2. Extract profile information and recent tweets\n",
                "3. Analyze the content and provide insights based on user questions\n",
                "4. Format the output in a readable markdown format\n",
                "This pattern can be extended to work with other social media platforms or to perform more complex analyses of social media activity.\n",
                "\n",
                "## Next Steps\n",
                "To take this further, you might consider:\n",
                "- Adding sentiment analysis of tweets\n",
                "- Implementing tracking of engagement metrics over time\n",
                "- Building a web interface for easier interaction\n",
                "- Implementing scheduled runs to monitor profile activity\n",
                "\n",
                "Happy social media analyzing!"
            ]
        }
    ],
    "metadata": {
        "kernelspec": {
            "display_name": ".venv",
            "language": "python",
            "name": "python3"
        },
        "language_info": {
            "codemirror_mode": {
                "name": "ipython",
                "version": 3
            },
            "file_extension": ".py",
            "mimetype": "text/x-python",
            "name": "python",
            "nbconvert_exporter": "python",
            "pygments_lexer": "ipython3",
            "version": "3.13.2"
        }
    },
    "nbformat": 4,
    "nbformat_minor": 2
}

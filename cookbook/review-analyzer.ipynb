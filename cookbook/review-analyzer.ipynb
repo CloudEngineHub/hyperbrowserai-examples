{
    "cells": [
        {
            "cell_type": "markdown",
            "metadata": {},
            "source": [
                "# Building a Product Review Analyzer with Hyperbrowser and GPT-4o\n",
                "\n",
                "In this cookbook, we'll create an intelligent review analyzer that can automatically extract and summarize product reviews from e-commerce websites. This agent will:\n",
                "\n",
                "1. Visit any product review page\n",
                "2. Extract review content using web scraping\n",
                "3. Analyze sentiment, pros, cons, and common themes\n",
                "4. Generate a comprehensive summary with actionable insights\n",
                "5. Answer specific questions about customer feedback\n",
                "\n",
                "This approach combines:\n",
                "- **[Hyperbrowser](https://hyperbrowser.ai)** for web scraping and content extraction\n",
                "- **OpenAI's GPT-4o** for intelligent analysis and insight generation\n",
                "\n",
                "By the end of this cookbook, you'll have a powerful tool that can help businesses understand customer sentiment and identify product improvement opportunities!"
            ]
        },
        {
            "cell_type": "markdown",
            "metadata": {},
            "source": [
                "## Prerequisites\n",
                "\n",
                "Before starting, you'll need:\n",
                "\n",
                "1. A Hyperbrowser API key (sign up at [hyperbrowser.ai](https://hyperbrowser.ai) if you don't have one)\n",
                "2. An OpenAI API key with access to GPT-4o\n",
                "\n",
                "Store these API keys in a `.env` file in the same directory as this notebook:\n",
                "\n",
                "```\n",
                "HYPERBROWSER_API_KEY=your_hyperbrowser_key_here\n",
                "OPENAI_API_KEY=your_openai_key_here\n",
                "```"
            ]
        },
        {
            "cell_type": "markdown",
            "metadata": {},
            "source": [
                "## Step 1: Set up imports and load environment variables\n",
                "\n",
                "We start by importing the necessary packages and initializing our environment variables. The key libraries we'll use include:\n",
                "- `asyncio` for handling asynchronous operations\n",
                "- `hyperbrowser` for web scraping and content extraction\n",
                "- `openai` for intelligent analysis and insight generation\n",
                "- `IPython.display` for rendering markdown output in the notebook"
            ]
        },
        {
            "cell_type": "code",
            "execution_count": 46,
            "metadata": {},
            "outputs": [
                {
                    "data": {
                        "text/plain": [
                            "True"
                        ]
                    },
                    "execution_count": 46,
                    "metadata": {},
                    "output_type": "execute_result"
                }
            ],
            "source": [
                "import asyncio\n",
                "import json\n",
                "import os\n",
                "\n",
                "from dotenv import load_dotenv\n",
                "from hyperbrowser import AsyncHyperbrowser\n",
                "from hyperbrowser.tools import WebsiteScrapeTool\n",
                "from openai import AsyncOpenAI\n",
                "from openai.types.chat import (\n",
                "    ChatCompletionMessageParam,\n",
                "    ChatCompletionMessageToolCall,\n",
                "    ChatCompletionToolMessageParam,\n",
                ")\n",
                "from IPython.display import Markdown, display\n",
                "\n",
                "load_dotenv()"
            ]
        },
        {
            "cell_type": "markdown",
            "metadata": {},
            "source": [
                "## Step 2: Initialize API clients\n",
                "\n",
                "Here we create instances of the Hyperbrowser and OpenAI clients using our API keys. These clients will be responsible for web scraping and intelligent analysis respectively."
            ]
        },
        {
            "cell_type": "code",
            "execution_count": 47,
            "metadata": {},
            "outputs": [],
            "source": [
                "hb = AsyncHyperbrowser(api_key=os.getenv(\"HYPERBROWSER_API_KEY\"))\n",
                "llm = AsyncOpenAI()"
            ]
        },
        {
            "cell_type": "markdown",
            "metadata": {},
            "source": [
                "## Step 3: Implement the tool handler\n",
                "\n",
                "The tool handler function processes requests from the LLM to interact with our web scraping functionality. It:\n",
                "\n",
                "1. Receives tool call parameters from the LLM\n",
                "2. Validates that the requested tool is available\n",
                "3. Configures advanced scraping options like proxy usage and CAPTCHA solving\n",
                "4. Executes the web scraping operation\n",
                "5. Returns the scraped content or handles any errors that occur\n",
                "\n",
                "This function is crucial for enabling the LLM to access web content dynamically."
            ]
        },
        {
            "cell_type": "code",
            "execution_count": 48,
            "metadata": {},
            "outputs": [],
            "source": [
                "async def handle_tool_call(\n",
                "    tc: ChatCompletionMessageToolCall,\n",
                ") -> ChatCompletionToolMessageParam:\n",
                "    print(f\"Handling tool call: {tc.function.name}\")\n",
                "\n",
                "    try:\n",
                "        if (\n",
                "            tc.function.name\n",
                "            != WebsiteScrapeTool.openai_tool_definition[\"function\"][\"name\"]\n",
                "        ):\n",
                "            raise ValueError(f\"Tool not found: {tc.function.name}\")\n",
                "\n",
                "        args = json.loads(tc.function.arguments)\n",
                "        print(args)\n",
                "\n",
                "        content = await WebsiteScrapeTool.async_runnable(\n",
                "            hb=hb,\n",
                "            params=dict(\n",
                "                **args,\n",
                "                session_options={\"use_proxy\": True, \"solve_captchas\": True},\n",
                "            ),\n",
                "        )\n",
                "\n",
                "        return {\"role\": \"tool\", \"tool_call_id\": tc.id, \"content\": content}\n",
                "\n",
                "    except Exception as e:\n",
                "        err_msg = f\"Error handling tool call: {e}\"\n",
                "        print(err_msg)\n",
                "        return {\n",
                "            \"role\": \"tool\",\n",
                "            \"tool_call_id\": tc.id,\n",
                "            \"content\": err_msg,\n",
                "            \"is_error\": True,  # type: ignore\n",
                "        }"
            ]
        },
        {
            "cell_type": "markdown",
            "metadata": {},
            "source": [
                "## Step 4: Create the agent loop\n",
                "\n",
                "Now we implement the core agent loop that orchestrates the conversation between:\n",
                "1. The user (who asks about product reviews)\n",
                "2. The LLM (which analyzes the request and determines what information is needed)\n",
                "3. Our tool (which fetches review content from websites)\n",
                "\n",
                "This recursive pattern allows for sophisticated interactions where the agent can gather information iteratively, making multiple web scraping requests if necessary to fully understand the reviews before generating insights."
            ]
        },
        {
            "cell_type": "code",
            "execution_count": 49,
            "metadata": {},
            "outputs": [],
            "source": [
                "async def agent_loop(messages: list[ChatCompletionMessageParam]) -> str:\n",
                "    while True:\n",
                "        response = await llm.chat.completions.create(\n",
                "            messages=messages,\n",
                "            model=\"gpt-4o\",\n",
                "            tools=[\n",
                "                WebsiteScrapeTool.openai_tool_definition,\n",
                "            ],\n",
                "            max_completion_tokens=8000,\n",
                "        )\n",
                "\n",
                "        choice = response.choices[0]\n",
                "\n",
                "        # Append response to messages\n",
                "        messages.append(choice.message)  # type: ignore\n",
                "\n",
                "        # Handle tool calls\n",
                "        if (\n",
                "            choice.finish_reason == \"tool_calls\"\n",
                "            and choice.message.tool_calls is not None\n",
                "        ):\n",
                "            tool_result_messages = await asyncio.gather(\n",
                "                *[handle_tool_call(tc) for tc in choice.message.tool_calls]\n",
                "            )\n",
                "            messages.extend(tool_result_messages)\n",
                "\n",
                "        elif choice.finish_reason == \"stop\" and choice.message.content is not None:\n",
                "            return choice.message.content\n",
                "\n",
                "        else:\n",
                "            print(choice)\n",
                "            raise ValueError(f\"Unhandled finish reason: {choice.finish_reason}\")"
            ]
        },
        {
            "cell_type": "markdown",
            "metadata": {},
            "source": [
                "## Step 5: Design the system prompt\n",
                "\n",
                "The system prompt is crucial for guiding the LLM's behavior. Our prompt establishes the agent as an expert review analyzer that can:\n",
                "\n",
                "1. Extract review content from product pages\n",
                "2. Analyze overall sentiment and rating distribution\n",
                "3. Identify common pros and cons mentioned by customers\n",
                "4. Detect any issues with the company or service\n",
                "5. Answer specific questions about the reviews\n",
                "\n",
                "This structured approach ensures that the analysis is comprehensive and actionable."
            ]
        },
        {
            "cell_type": "code",
            "execution_count": 50,
            "metadata": {},
            "outputs": [],
            "source": [
                "SYSTEM_PROMPT = \"\"\"\n",
                "You are an expert review analyzer. You have access to a 'scrape_webpage' tool which can be used to get markdown data from a webpage. \n",
                "\n",
                "This is the link to the review page {link}. You are required to analyze the markdown content from the page, and provide a summary of the reviews. You will provide the following info:\n",
                "1. The overall sentiment towards the product\n",
                "2. The number of reviews\n",
                "3. [Optional] The number of reviews with 1 star, 2 stars, 3 stars, 4 stars, 5 stars \n",
                "4. The cons of the product\n",
                "5. The pros of the product\n",
                "6. Any issues with the company or service\n",
                "\n",
                "If the user provides you with a question regarding the reviews, provide that information as well.\n",
                "\n",
                "Provide the total info in markdown format. \n",
                "\"\"\".strip()"
            ]
        },
        {
            "cell_type": "markdown",
            "metadata": {},
            "source": [
                "## Step 6: Create a factory function for generating review analyzers\n",
                "\n",
                "Now we'll create a factory function that generates a specialized review analyzer for any product page. This function:\n",
                "\n",
                "1. Takes a URL to a review page as input\n",
                "2. Ensures the URL has the proper format (adding https:// if needed)\n",
                "3. Formats the system prompt with this URL\n",
                "4. Returns a function that can answer questions about the reviews on that page\n",
                "\n",
                "This approach makes our solution reusable for analyzing reviews of any product across different e-commerce platforms."
            ]
        },
        {
            "cell_type": "code",
            "execution_count": 51,
            "metadata": {},
            "outputs": [],
            "source": [
                "from typing import Coroutine, Any, Callable\n",
                "\n",
                "\n",
                "def make_review_analyzer(\n",
                "    link_to_review: str,\n",
                ") -> Callable[..., Coroutine[Any, Any, str]]:\n",
                "    # Popular documentation providers like Gitbook, Mintlify etc automatically generate a llms.txt file\n",
                "    # for documentation sites hosted on their platforms.\n",
                "    if not (\n",
                "        link_to_review.startswith(\"http://\") or link_to_review.startswith(\"https://\")\n",
                "    ):\n",
                "        link_to_review = f\"https://{link_to_review}\"\n",
                "\n",
                "    sysprompt = SYSTEM_PROMPT.format(\n",
                "        link=link_to_review,\n",
                "    )\n",
                "\n",
                "    async def review_analyzer(question: str) -> str:\n",
                "        messages: list[ChatCompletionMessageParam] = [\n",
                "            {\"role\": \"system\", \"content\": sysprompt}\n",
                "        ]\n",
                "\n",
                "        if question:\n",
                "            messages.append({\"role\": \"user\", \"content\": question})\n",
                "\n",
                "        return await agent_loop(messages)\n",
                "\n",
                "    return review_analyzer"
            ]
        },
        {
            "cell_type": "markdown",
            "metadata": {},
            "source": [
                "## Step 7: Test the review analyzer\n",
                "\n",
                "Let's test our agent by analyzing reviews for a MacBook Air on Best Buy. We'll ask a specific question about how to improve the product and what customers like most about it. This demonstrates the agent's ability to not just summarize reviews but also extract actionable insights."
            ]
        },
        {
            "cell_type": "code",
            "execution_count": 54,
            "metadata": {},
            "outputs": [],
            "source": [
                "question = \"How can I improve this product? and what do people like the most about it ?\"\n",
                "link = \"https://www.bestbuy.com/site/reviews/apple-macbook-air-13-inch-apple-m2-chip-built-for-apple-intelligence-16gb-memory-256gb-ssd-midnight/6602763?variant=A\""
            ]
        },
        {
            "cell_type": "markdown",
            "metadata": {},
            "source": [
                "## Step 8: Run the analysis and display results\n",
                "\n",
                "Now we'll create an instance of our review analyzer for the MacBook Air page, run the analysis with our specific question, and display the results in a nicely formatted markdown output. The agent will scrape the review page, analyze the content, and provide insights about potential improvements and customer preferences."
            ]
        },
        {
            "cell_type": "code",
            "execution_count": 55,
            "metadata": {},
            "outputs": [
                {
                    "name": "stdout",
                    "output_type": "stream",
                    "text": [
                        "Handling tool call: scrape_webpage\n",
                        "{'url': 'https://www.bestbuy.com/site/reviews/apple-macbook-air-13-inch-apple-m2-chip-built-for-apple-intelligence-16gb-memory-256gb-ssd-midnight/6602763?variant=A', 'scrape_options': {'include_tags': ['.review-section'], 'exclude_tags': [], 'only_main_content': True}}\n",
                        "Handling tool call: scrape_webpage\n",
                        "{'url': 'https://www.bestbuy.com/site/reviews/apple-macbook-air-13-inch-apple-m2-chip-built-for-apple-intelligence-16gb-memory-256gb-ssd-midnight/6602763?variant=A', 'scrape_options': {'include_tags': ['.reviews-list', 'h1', 'h2', '.review', 'p', 'li'], 'exclude_tags': ['.header', 'nav', 'footer'], 'only_main_content': True}}\n"
                    ]
                },
                {
                    "data": {
                        "text/markdown": [
                            "### Summary of Reviews for Apple MacBook Air 13-inch M2\n",
                            "\n",
                            "1. **Overall Sentiment Towards the Product:**\n",
                            "   - The overall sentiment is overwhelmingly positive with a user rating of 4.9 out of 5 stars based on 936 reviews.\n",
                            "\n",
                            "2. **Number of Reviews:**\n",
                            "   - There are a total of 936 reviews.\n",
                            "\n",
                            "3. **Distribution of Reviews by Star Rating:** (Optional)\n",
                            "   - Most ratings are 5 stars, with a small number of 4-star reviews. There are hardly any 3-star or lower ratings mentioned in the content.\n",
                            "\n",
                            "4. **Cons of the Product:**\n",
                            "   - Limited number of ports (only two Thunderbolt/USB-C ports).\n",
                            "   - Base storage of 256GB may be limiting for power users.\n",
                            "   - Midnight color variant tends to show fingerprints.\n",
                            "   - Some users had issues loading Gmail on the Google browser.\n",
                            "\n",
                            "5. **Pros of the Product:**\n",
                            "   - **Performance:** The M2 chip provides exceptional speed and efficiency, handling demanding applications and multitasking seamlessly.\n",
                            "   - **Battery Life:** Exceptional battery life, easily lasting a full day even with heavy usage.\n",
                            "   - **Design:** Sleek, lightweight, compact, and aesthetically pleasing design. It's also described as having a premium build quality.\n",
                            "   - **Display:** Vibrant Retina display with excellent color accuracy and sharpness.\n",
                            "   - **Portability:** Quite compact and lightweight, making it perfect for travel.\n",
                            "   - **Other Features:** Comfortable keyboard and responsive trackpad, impressive speakers for its size.\n",
                            "\n",
                            "6. **Any Issues with the Company or Service:**\n",
                            "   - No significant issues with the company or service were mentioned in the reviews. Some reviews praised Best Buy's service experience as hassle-free and satisfying.\n",
                            "\n",
                            "The reviews highlight the MacBook Air 13-inch M2 as a powerful, efficient, and portable laptop, making it highly recommended for students, professionals, and anyone needing a reliable, everyday laptop. Possible improvements could include increasing the base storage capacity and adding more port options, but overall the product stands out positively due to its performance and battery life."
                        ],
                        "text/plain": [
                            "<IPython.core.display.Markdown object>"
                        ]
                    },
                    "metadata": {},
                    "output_type": "display_data"
                }
            ],
            "source": [
                "review_analyzer = make_review_analyzer(link)\n",
                "response = await review_analyzer(question)\n",
                "\n",
                "if response is not None:\n",
                "    display(Markdown(response))\n",
                "else:\n",
                "    print(\"Could not process response\")"
            ]
        },
        {
            "cell_type": "markdown",
            "metadata": {},
            "source": [
                "## Future Explorations\n",
                "\n",
                "There are many exciting ways to extend and enhance this review analyzer. Here are some possibilities for developers and users to explore:\n",
                "\n",
                "### Advanced Analysis Features\n",
                "- **Demographic Segmentation**: Identify if different user groups have different experiences.\n",
                "- **Comparative Analysis**: Compare reviews across multiple products\n",
                "- **Interactive Dashboards**: Build visualization dashboards for review insights.\n",
                "\n",
                "### Technical Enhancements\n",
                "- **Multi-platform Integration**: Analyze reviews from multiple sources.\n",
                "- **Real-time Monitoring**: Continuously monitor new reviews and alert on significant deviations.\n",
                "- **Automatic customer support**: A review analysis agent could help customers with common issues they may face, improving the sentiment towards the product.\n",
                "\n",
                "All, or even some of these features could make the review analyzer evolve from a useful tool into a comprehensive intel agent. These could provide some interesting ideas for the direction of evolution for such an agent!"
            ]
        },
        {
            "cell_type": "markdown",
            "metadata": {},
            "source": [
                "## Conclusion\n",
                "\n",
                "In this cookbook, we built a powerful review analyzer using Hyperbrowser and GPT-4o. This agent can:\n",
                "\n",
                "1. Automatically extract review content from any product page\n",
                "2. Analyze sentiment and identify common themes\n",
                "3. Summarize pros, cons, and customer experiences\n",
                "4. Answer specific questions about customer feedback\n",
                "5. Provide actionable insights for product improvement\n",
                "\n",
                "This pattern can be extended to create more sophisticated review analysis tools, such as:\n",
                "- Competitive analysis by comparing reviews across similar products\n",
                "- Trend analysis by tracking sentiment changes over time\n",
                "- Feature prioritization based on customer feedback\n",
                "- Automated customer support response generation\n",
                "\n",
                "Happy analyzing! 📊"
            ]
        },
        {
            "cell_type": "markdown",
            "metadata": {},
            "source": [
                "## Relevant Links\n",
                "- [Hyperbrowser](https://hyperbrowser.ai)\n",
                "- [OpenAI Docs](https://platform.openai.com/docs/introduction)"
            ]
        }
    ],
    "metadata": {
        "kernelspec": {
            "display_name": ".venv",
            "language": "python",
            "name": "python3"
        },
        "language_info": {
            "codemirror_mode": {
                "name": "ipython",
                "version": 3
            },
            "file_extension": ".py",
            "mimetype": "text/x-python",
            "name": "python",
            "nbconvert_exporter": "python",
            "pygments_lexer": "ipython3",
            "version": "3.13.2"
        }
    },
    "nbformat": 4,
    "nbformat_minor": 2
}

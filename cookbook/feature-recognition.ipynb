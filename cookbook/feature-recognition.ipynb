{
    "cells": [
        {
            "cell_type": "markdown",
            "metadata": {},
            "source": [
                "# Feature Detection with Browser Use Agent\n",
                "\n",
                "In this cookbook we'll be showing the browser use web agent and how it can infer information from the page, even when not told or prompted.\n",
                "\n",
                "By the end of this cookbook, you'll have an idea of how versatile and \"smart\" your web agents can be even when given insufficient information. \n",
                "\n",
                "## Prerequisites\n",
                "\n",
                "Before starting, make sure you have:\n",
                "\n",
                "1. A Hyperbrowser API key (sign up at [hyperbrowser.ai](https://hyperbrowser.ai) if you don't have one, it's free)\n",
                "2. Python 3.9+ installed\n",
                "\n",
                "The API key should be stored in a `.env` file in the same directory as this notebook with the following format:\n",
                "\n",
                "```\n",
                "HYPERBROWSER_API_KEY=your_hyperbrowser_key_here\n",
                "```"
            ]
        },
        {
            "cell_type": "markdown",
            "metadata": {},
            "source": [
                "## Step 1:  Set up imports and env vars"
            ]
        },
        {
            "cell_type": "code",
            "execution_count": null,
            "metadata": {},
            "outputs": [],
            "source": [
                "import os\n",
                "\n",
                "from dotenv import load_dotenv\n",
                "from hyperbrowser import AsyncHyperbrowser\n",
                "from hyperbrowser.models import StartBrowserUseTaskParams\n",
                "\n",
                "from IPython.display import Markdown, display\n",
                "\n",
                "load_dotenv()"
            ]
        },
        {
            "cell_type": "markdown",
            "metadata": {},
            "source": [
                "## Step 2: Initialize Hyperbrowser Client"
            ]
        },
        {
            "cell_type": "code",
            "execution_count": 6,
            "metadata": {},
            "outputs": [],
            "source": [
                "hb = AsyncHyperbrowser(api_key=os.getenv(\"HYPERBROWSER_API_KEY\"))"
            ]
        },
        {
            "cell_type": "markdown",
            "metadata": {},
            "source": [
                "## Step 3: Define Product Detection Function\n",
                "\n",
                "We instruct the agent with a simple instruction to go to a page, and get the list of products and their prices listed on the page. The agent handles all the complexity of page navigation and data extraction automatically."
            ]
        },
        {
            "cell_type": "code",
            "execution_count": 7,
            "metadata": {},
            "outputs": [],
            "source": [
                "async def feature_identification():\n",
                "    resp = await hb.beta.agents.browser_use.start_and_wait(\n",
                "        StartBrowserUseTaskParams(\n",
                "            task=\"Go to https://www.scrapingcourse.com/dashboard and get me the different products available, and their prices as listed on the website.\"\n",
                "        )\n",
                "    )\n",
                "    if resp.data is not None:\n",
                "        return resp.data.final_result\n",
                "    return None"
            ]
        },
        {
            "cell_type": "markdown",
            "metadata": {},
            "source": [
                "## Step 4: Run the Agent\n",
                "\n",
                "The agent navigates to the site, identifies all product elements, extracts their names and prices, and returns the data in a readable format."
            ]
        },
        {
            "cell_type": "code",
            "execution_count": 8,
            "metadata": {},
            "outputs": [
                {
                    "data": {
                        "text/markdown": [
                            "The products and their prices are: Chaz Kangeroo Hoodie $52, Teton Pullover Hoodie $70, Bruno Compete Hoodie $63, Frankie Sweatshirt $60, Hollister Backyard Sweatshirt $52, Stark Fundamental Hoodie $42, Hero Hoodie $54, Oslo Trek Hoodie $42, Abominable Hoodie $69, Mach Street Sweatshirt $62, Grayson Crewneck Sweatshirt $64, Ajax Full-Zip Sweatshirt $69"
                        ],
                        "text/plain": [
                            "<IPython.core.display.Markdown object>"
                        ]
                    },
                    "metadata": {},
                    "output_type": "display_data"
                }
            ],
            "source": [
                "response = await feature_identification()\n",
                "if response is not None:\n",
                "    display(Markdown(response))\n",
                "else:\n",
                "    print(\"No response from the agent\")\n"
            ]
        },
        {
            "cell_type": "markdown",
            "metadata": {},
            "source": [
                "## How it works\n",
                "\n",
                "An important thing here is that the page itself is behind a login check, the credentials of which are listed on the login page itself. The agent identifies that it doesn't have the credentials, but that they are available on the page. It enters the credentials, performs the login and can finally extract information from the website\n",
                "\n",
                "![feature-recognition.gif](/screen-recording-feature-recognition.gif)"
            ]
        },
        {
            "cell_type": "markdown",
            "metadata": {},
            "source": [
                "## Key Takeaways\n",
                "\n",
                "* **Zero Parsing Logic** - No need to write CSS selectors or XPath expressions\n",
                "* **Natural Language Instructions** - Just tell the agent what you want in plain English\n",
                "* **Autonomous Navigation** - The agent handles any login flows or page interactions seamlessly\n",
                "\n",
                "This approach makes web scraping dramatically simpler compared to traditional methods, reducing hundreds of lines of brittle parsing code to just a few lines of stable, maintainable code."
            ]
        },
        {
            "cell_type": "markdown",
            "metadata": {},
            "source": [
                "## Relevant Links\n",
                "- [Hyperbrowser](https://hyperbrowser.ai)\n",
                "- [Hyperbrowser Documentation](https://docs.hyperbrowser.ai)"
            ]
        }
    ],
    "metadata": {
        "kernelspec": {
            "display_name": ".venv",
            "language": "python",
            "name": "python3"
        },
        "language_info": {
            "codemirror_mode": {
                "name": "ipython",
                "version": 3
            },
            "file_extension": ".py",
            "mimetype": "text/x-python",
            "name": "python",
            "nbconvert_exporter": "python",
            "pygments_lexer": "ipython3",
            "version": "3.13.2"
        }
    },
    "nbformat": 4,
    "nbformat_minor": 2
}

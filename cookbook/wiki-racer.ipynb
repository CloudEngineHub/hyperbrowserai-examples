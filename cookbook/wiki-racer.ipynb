{
    "cells": [
        {
            "cell_type": "markdown",
            "metadata": {},
            "source": [
                "# Building an AI Wikipedia Racer with Hyperbrowser\n",
                "\n",
                "In this cookbook, we'll create an AI agent that can play the Wikipedia racing game autonomously. Wikipedia racing challenges players to navigate from one Wikipedia article to another using only internal links - no search, no back button, just strategic link navigation.\n",
                "\n",
                "What makes this example fascinating is that successful Wikipedia racing requires:\n",
                "\n",
                "- Strategic thinking to plot a path between seemingly unrelated topics\n",
                "- Understanding of conceptual connections between different knowledge domains\n",
                "- Ability to scan pages quickly for relevant links\n",
                "- Decision-making about which paths might lead to the target fastest\n",
                "\n",
                "Using Hyperbrowser's browser use agent, we'll create an AI that can tackle this challenge entirely on its own - demonstrating how AI can navigate complex information spaces using the same interfaces humans use.\n"
            ]
        },
        {
            "cell_type": "markdown",
            "metadata": {},
            "source": [
                "## Prerequisites\n",
                "\n",
                "Before starting, you'll need:\n",
                "\n",
                "1. A Hyperbrowser API key (sign up at hyperbrowser.ai if you don't have one)\n",
                "2. Python 3.9+ installed\n",
                "3. The dotenv package for loading environment variables\n",
                "\n",
                "Store your API key in a .env file in the same directory as this notebook:\n",
                "\n",
                "```\n",
                "HYPERBROWSER_API_KEY=your_hyperbrowser_key_here\n",
                "```\n"
            ]
        },
        {
            "cell_type": "markdown",
            "metadata": {},
            "source": [
                "## Step 1: Import Libraries and Initialize Hyperbrowser\n",
                "\n",
                "We start by importing the necessary packages and initializing our environment. The key components we'll use:\n",
                "\n",
                "- `AsyncHyperbrowser`: For asynchronous communication with the Hyperbrowser API\n",
                "- `StartBrowserUseTaskParams`: For configuring the autonomous browsing task\n",
                "- `IPython.display`: For rendering the results in the notebook\n",
                "\n",
                "The dotenv library helps us securely load our API key from the environment file.\n"
            ]
        },
        {
            "cell_type": "code",
            "execution_count": null,
            "metadata": {},
            "outputs": [],
            "source": [
                "import os\n",
                "\n",
                "from dotenv import load_dotenv\n",
                "from hyperbrowser import AsyncHyperbrowser\n",
                "from hyperbrowser.models import StartBrowserUseTaskParams\n",
                "\n",
                "from IPython.display import Markdown, display\n",
                "\n",
                "load_dotenv()"
            ]
        },
        {
            "cell_type": "markdown",
            "metadata": {},
            "source": [
                "## Step 2: Create a Hyperbrowser Client\n",
                "\n",
                "Next, we initialize our Hyperbrowser client with the API key we loaded from the environment. This client will handle all communication with Hyperbrowser's services.\n"
            ]
        },
        {
            "cell_type": "code",
            "execution_count": 2,
            "metadata": {},
            "outputs": [],
            "source": [
                "hb = AsyncHyperbrowser(api_key=os.getenv(\"HYPERBROWSER_API_KEY\"))"
            ]
        },
        {
            "cell_type": "markdown",
            "metadata": {},
            "source": [
                "## Step 3: Define the Wikipedia Racer Function\n",
                "\n",
                "Now we define the core function of our application - the Wikipedia racer. This function leverages Hyperbrowser's browser_use agent to autonomously play the Wikipedia game.\n",
                "\n",
                "The browser_use agent works by:\n",
                "\n",
                "1. Receiving a task described in natural language\n",
                "2. Breaking the task down into a series of browser actions\n",
                "3. Executing those actions while adapting to what it encounters\n",
                "4. Recording its thought process and results\n",
                "\n",
                "We've configured the agent with a maximum of 20 steps, which should be sufficient for most Wikipedia races while preventing it from getting stuck in endless loops. The task description explicitly requests that the agent track its thought process, not cheat by searching, and report the path it took.\n"
            ]
        },
        {
            "cell_type": "code",
            "execution_count": 3,
            "metadata": {},
            "outputs": [],
            "source": [
                "async def wikipedia_racer():\n",
                "    resp = await hb.agents.browser_use.start_and_wait(\n",
                "        StartBrowserUseTaskParams(\n",
                "            task=\"Go to the https://www.thewikigame.com/ and perform the wikipedia race. Keep a track of your thought process and do not try to cheat by searching. Return to me the the start and end points, and the steps you took to get to the end page.\",\n",
                "            max_steps=20,\n",
                "        )\n",
                "    )\n",
                "    if resp.data is not None:\n",
                "        return resp.data.final_result\n",
                "    return None"
            ]
        },
        {
            "cell_type": "markdown",
            "metadata": {},
            "source": [
                "## Step 4: Run the Wikipedia Race and Display Results\n",
                "\n",
                "Finally, we'll execute our function to have the AI agent play the Wikipedia racing game. Behind the scenes, the agent will:\n",
                "\n",
                "1. Navigate to the Wiki Game website\n",
                "2. Identify the starting and target articles for the current challenge\n",
                "3. Develop a strategy to reach the target\n",
                "4. Navigate through Wikipedia articles by selecting links it believes will lead toward the target\n",
                "5. Track its progress and reasoning\n",
                "6. Return a summary of its path from start to finish\n",
                "\n",
                "The agent must rely on the same interface any human player would use, making this a remarkable demonstration of how AI can engage with complex reasoning tasks in the wild.\n"
            ]
        },
        {
            "cell_type": "code",
            "execution_count": 4,
            "metadata": {},
            "outputs": [
                {
                    "data": {
                        "text/markdown": [
                            "I have successfully completed the wikipedia race. The start was Atomic Age and the end was Big Bang. The steps I took were: Atomic Age -> Nuclear Weapon -> Fusion -> Nuclear binding energy -> Nuclear fusion -> central regions -> Big Bang."
                        ],
                        "text/plain": [
                            "<IPython.core.display.Markdown object>"
                        ]
                    },
                    "metadata": {},
                    "output_type": "display_data"
                }
            ],
            "source": [
                "response = await wikipedia_racer()\n",
                "if response is not None:\n",
                "    display(Markdown(response))\n",
                "else:\n",
                "    print(\"No response from the agent\")"
            ]
        },
        {
            "cell_type": "markdown",
            "metadata": {},
            "source": [
                "## How AI Plays the Wikipedia Game\n",
                "\n",
                "What makes this example particularly interesting is observing how the AI approaches the Wikipedia race. The agent needs to:\n",
                "\n",
                "1. Develop a high-level strategy: Rather than clicking randomly, effective play requires identifying conceptual bridges between the start and target articles\n",
                "\n",
                "2. Predict downstream connections: The agent must evaluate links not just for their immediate relevance, but for what further connections they might enable\n",
                "\n",
                "3. Balance exploration vs. exploitation: Sometimes moving through seemingly unrelated topics is necessary to reach broader hub articles that connect to the target\n",
                "\n",
                "4. Learn from dead ends: If a path doesn't seem to be working, the agent needs to backtrack and try alternative routes\n",
                "\n",
                "Unlike traditional web scraping or automation, this task demands genuine reasoning about knowledge graphs and conceptual relationships between topics - a form of meta-knowledge about how Wikipedia's content is structured and connected.\n"
            ]
        },
        {
            "cell_type": "markdown",
            "metadata": {},
            "source": [
                "## Conclusion\n",
                "\n",
                "In this cookbook, we've built an AI agent capable of autonomously playing the Wikipedia racing game. This demonstrates how Hyperbrowser's browser_use agent can engage with websites exactly as humans do - understanding context, making strategic decisions, and adapting to what it encounters.\n",
                "\n",
                "What's particularly notable is that the agent's success in this task requires genuine reasoning about relationships between knowledge domains and strategic navigation through an information space. This represents a fascinating glimpse into how AI can engage with the web not just as a source of data, but as an interactive environment that requires planning and strategic thinking.\n"
            ]
        },
        {
            "cell_type": "markdown",
            "metadata": {},
            "source": [
                "## Relevant Links\n",
                "- [Hyperbrowser](https://hyperbrowser.ai)\n",
                "- [Hyperbrowser documentation](https://docs.hyperbrowser.ai)\n",
                "- [The Wiki Game](https://www.thewikigame.com/)\n",
                "\n"
            ]
        }
    ],
    "metadata": {
        "kernelspec": {
            "display_name": ".venv",
            "language": "python",
            "name": "python3"
        },
        "language_info": {
            "codemirror_mode": {
                "name": "ipython",
                "version": 3
            },
            "file_extension": ".py",
            "mimetype": "text/x-python",
            "name": "python",
            "nbconvert_exporter": "python",
            "pygments_lexer": "ipython3",
            "version": "3.13.2"
        }
    },
    "nbformat": 4,
    "nbformat_minor": 2
}

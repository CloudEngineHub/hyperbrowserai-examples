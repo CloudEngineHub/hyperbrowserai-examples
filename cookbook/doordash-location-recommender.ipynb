{
    "cells": [
        {
            "cell_type": "markdown",
            "metadata": {},
            "source": [
                "# Building a DoorDash Restaurant Recommender with Hyperbrowser and GPT-4o\n",
                "\n",
                "In this cookbook, we'll build an intelligent agent that can analyze your DoorDash order history and recommend new restaurants based on your preferences. Our agent will:\n",
                "\n",
                "1. Access your DoorDash order history\n",
                "2. Analyze past orders including restaurant names, ratings, items ordered, and costs\n",
                "3. Determine your food preferences and patterns\n",
                "4. Recommend a new cuisine to try based on your ordering habits\n",
                "5. Find specific restaurants serving that cuisine\n",
                "\n",
                "This approach combines:\n",
                "- **[Hyperbrowser](https://hyperbrowser.ai)** for accessing DoorDash data with user authentication\n",
                "- **OpenAI's GPT-4o** for preference analysis and personalized recommendations\n",
                "\n",
                "By the end of this cookbook, you'll have a personalized restaurant recommendation engine that helps you discover new cuisines and dining experiences!"
            ]
        },
        {
            "cell_type": "markdown",
            "metadata": {},
            "source": [
                "## Prerequisites\n",
                "\n",
                "To follow along, you'll need the following:\n",
                "\n",
                "1. A Hyperbrowser API key (sign up at [hyperbrowser.ai](https://hyperbrowser.ai) if you don't have one)\n",
                "2. An OpenAI API key (sign up at [openai.com](https://openai.com) if you don't have one)\n",
                "3. A DoorDash account with order history\n",
                "\n",
                "Both API keys should be stored in a `.env` file in the same directory as this notebook with the following format:\n",
                "\n",
                "```\n",
                "HYPERBROWSER_API_KEY=your_hyperbrowser_key_here\n",
                "OPENAI_API_KEY=your_openai_key_here\n",
                "```"
            ]
        },
        {
            "cell_type": "markdown",
            "metadata": {},
            "source": [
                "## Step 1: Import Libraries and Initialize Environment\n",
                "\n",
                "First, we'll import necessary packages and initialize our API clients. We're using:\n",
                "- `asyncio` for asynchronous operations\n",
                "- `hyperbrowser` for web automation and data extraction\n",
                "- `openai` for AI-powered analysis and recommendations\n",
                "- `pydantic` for data modeling and validation\n",
                "- `IPython.display` for formatted output in the notebook"
            ]
        },
        {
            "cell_type": "code",
            "execution_count": null,
            "metadata": {},
            "outputs": [],
            "source": [
                "import os\n",
                "\n",
                "from dotenv import load_dotenv\n",
                "from hyperbrowser import AsyncHyperbrowser\n",
                "from hyperbrowser.models.session import CreateSessionParams, CreateSessionProfile\n",
                "from hyperbrowser.models.extract import StartExtractJobParams\n",
                "from openai import AsyncOpenAI\n",
                "from openai.types.chat import (\n",
                "    ChatCompletionSystemMessageParam,\n",
                "    ChatCompletionUserMessageParam,\n",
                ")\n",
                "from typing import List\n",
                "from pydantic import BaseModel\n",
                "from IPython.display import Markdown, display\n",
                "\n",
                "load_dotenv()"
            ]
        },
        {
            "cell_type": "markdown",
            "metadata": {},
            "source": [
                "## Step 2: Initialize API Clients\n",
                "\n",
                "Next, we create instances of the Hyperbrowser and OpenAI clients using our API keys from environment variables. These clients will handle web automation and AI-powered analysis respectively."
            ]
        },
        {
            "cell_type": "code",
            "execution_count": 23,
            "metadata": {},
            "outputs": [],
            "source": [
                "hb = AsyncHyperbrowser(api_key=os.getenv(\"HYPERBROWSER_API_KEY\"))\n",
                "llm = AsyncOpenAI()"
            ]
        },
        {
            "cell_type": "markdown",
            "metadata": {},
            "source": [
                "## Step 3: Set Up Persistent Browser Profile\n",
                "\n",
                "We'll use a persistent browser profile to maintain login state with DoorDash. This is important because:\n",
                "\n",
                "1. It allows us to access authenticated content like order history\n",
                "2. It preserves cookies and session data between requests\n",
                "3. It provides a consistent browsing experience for our agent\n",
                "\n",
                "You'll need to replace the placeholder below with your own profile ID, or uncomment the code to create a new profile."
            ]
        },
        {
            "cell_type": "code",
            "execution_count": 24,
            "metadata": {},
            "outputs": [],
            "source": [
                "profile_id = \"[Place your profile id here if reusing this notebook]\"\n",
                "### If you are using this notebook for the first time, uncomment the following lines and run them\n",
                "# profile = await hb.profiles.create()\n",
                "# print(profile)\n",
                "# session = await hb.sessions.create(CreateSessionParams(profile=CreateSessionProfile(id=profile.id,persist_changes=True)))\n",
                "# print(session.live_url)\n",
                "# profile_id = profile.id"
            ]
        },
        {
            "cell_type": "markdown",
            "metadata": {},
            "source": [
                "## Session Management\n",
                "\n",
                "If you created a new profile, you also need to stop the active browser session. If that's the case you can uncomment and run the code below."
            ]
        },
        {
            "cell_type": "code",
            "execution_count": 25,
            "metadata": {},
            "outputs": [],
            "source": [
                "# await hb.sessions.stop(session.id)"
            ]
        },
        {
            "cell_type": "markdown",
            "metadata": {},
            "source": [
                "## Step 4: Define Data Models and Order History Extraction\n",
                "\n",
                "Now we'll create data models to structure the information we extract from DoorDash. The main components are:\n",
                "\n",
                "1. `GetRecentOrderInfo` - Models a single order with restaurant name, rating, items, and price\n",
                "2. `GetRecentOrderInfoList` - A container for multiple orders\n",
                "3. `get_orders_list()` function - Extracts order history from DoorDash\n",
                "\n",
                "Using structured data models with Pydantic ensures type safety and makes our data easier to work with."
            ]
        },
        {
            "cell_type": "code",
            "execution_count": 26,
            "metadata": {},
            "outputs": [],
            "source": [
                "class GetRecentOrderInfo(BaseModel):\n",
                "    place_name: str\n",
                "    rating: float\n",
                "    food_ordered: List[str]\n",
                "    order_price: float\n",
                "\n",
                "    def __str__(self):\n",
                "        return f\"{self.place_name} - {self.rating} - {', '.join(self.food_ordered)} - {self.order_price}\"\n",
                "\n",
                "\n",
                "class GetRecentOrderInfoList(BaseModel):\n",
                "    orders: List[GetRecentOrderInfo]\n",
                "\n",
                "    def __str__(self) -> str:\n",
                "        return \"\\n\".join([str(order) for order in self.orders])\n",
                "\n",
                "\n",
                "ORDER_LIST_SYSTEM_PROMPT = \"\"\"\n",
                "You are a super judgemental food critic. You are required to get my most recent doordash orders and provide a list of restaurants that I have recently ordered from.\n",
                "\n",
                "In summary\n",
                "- Find what places I order from on doordash. You will get the \n",
                "    - Place name\n",
                "    - Rating given\n",
                "    - Food ordered\n",
                "    - Price paid\n",
                "\"\"\".strip()\n",
                "\n",
                "\n",
                "async def get_orders_list():\n",
                "    orders_page = await hb.extract.start_and_wait(\n",
                "        StartExtractJobParams(\n",
                "            urls=[\"https://www.doordash.com/orders\"],\n",
                "            schema=GetRecentOrderInfoList,\n",
                "            session_options=CreateSessionParams(\n",
                "                profile=CreateSessionProfile(id=profile_id)\n",
                "            ),\n",
                "        )\n",
                "    )\n",
                "    orders_page_content = GetRecentOrderInfoList.model_validate(orders_page.data)\n",
                "    return orders_page_content"
            ]
        },
        {
            "cell_type": "markdown",
            "metadata": {},
            "source": [
                "## Step 5: Implement Cuisine Recommendation Logic\n",
                "\n",
                "Based on your order history, our agent needs to recommend a cuisine to try next. This function:\n",
                "\n",
                "1. Takes the list of past orders as input\n",
                "2. Uses GPT-4o with a specialized system prompt to analyze your ordering patterns\n",
                "3. Determines if you prefer variety or consistency in your food choices\n",
                "4. Recommends a single cuisine that matches your pattern but introduces something new\n",
                "\n",
                "The cuisine recommendation is structured as a simple Pydantic model with just the cuisine name."
            ]
        },
        {
            "cell_type": "code",
            "execution_count": 27,
            "metadata": {},
            "outputs": [],
            "source": [
                "CUISINE_RECOMMENDATIONS_SYSTEM_PROMPT = \"\"\"\n",
                "You are a super judgemental food critic. You are required to analyze my most recent doordash orders which will contain the place name, rating, ordered items, and cost. Given a list of such orders, you are required to recommend me a single cuisine that I should order next. Make your decision based on if I am more experimental, varied, or consistent\n",
                "\"\"\"\n",
                "\n",
                "\n",
                "class Recommendation(BaseModel):\n",
                "    name: str\n",
                "\n",
                "\n",
                "async def get_recommended_cuisine(orders_list: GetRecentOrderInfoList):\n",
                "    response = await llm.beta.chat.completions.parse(\n",
                "        messages=[\n",
                "            ChatCompletionSystemMessageParam(\n",
                "                role=\"system\",\n",
                "                content=CUISINE_RECOMMENDATIONS_SYSTEM_PROMPT,\n",
                "            ),\n",
                "            ChatCompletionUserMessageParam(\n",
                "                role=\"user\", content=f\"Here is the list of orders done {(orders_list)}\"\n",
                "            ),\n",
                "        ],\n",
                "        response_format=Recommendation,\n",
                "        model=\"gpt-4o\",\n",
                "        max_completion_tokens=8000,\n",
                "    )\n",
                "    return response.choices[0].message.parsed"
            ]
        },
        {
            "cell_type": "markdown",
            "metadata": {},
            "source": [
                "## Step 6: Create System Prompt for Restaurant Recommendations\n",
                "\n",
                "Once we have a recommended cuisine, we need a system prompt that guides the AI in finding specific restaurants. This prompt combines:\n",
                "\n",
                "1. Your past order history (to understand your preferences)\n",
                "2. The recommended cuisine (to focus the search)\n",
                "3. Instructions for formatting the recommendations\n",
                "\n",
                "The prompt establishes the AI as a \"judgemental taste critic\" to encourage high-quality, opinionated recommendations."
            ]
        },
        {
            "cell_type": "code",
            "execution_count": 28,
            "metadata": {},
            "outputs": [],
            "source": [
                "SYSTEM_PROMPT = \"\"\"\n",
                "You are a super judgemental taste critic. You will be given a summary of my most recent orders, including their the place name, rating, ordered items, and cost. You will also be given a cuisine that I have been recommended {cuisine}. From this, you are required to extract structured data from a doordash search and recommend me a place to order from, along with a list of alternate places to that. Recent orders:\\n {orders}\n",
                "\"\"\".strip()"
            ]
        },
        {
            "cell_type": "markdown",
            "metadata": {},
            "source": [
                "## Step 7: Define Restaurant Recommendation Data Models and Function\n",
                "\n",
                "Next, we create models for restaurant recommendations and a function to get those recommendations. The structure includes:\n",
                "\n",
                "1. `Recommendation` - A single restaurant with name and DoorDash link\n",
                "2. `GetRecommendationInfo` - Contains primary and alternative recommendations\n",
                "3. `get_recommendations()` function - Uses Hyperbrowser to extract recommendations from DoorDash\n",
                "\n",
                "The function combines the system prompt with your order history and recommended cuisine to generate personalized restaurant suggestions."
            ]
        },
        {
            "cell_type": "code",
            "execution_count": 29,
            "metadata": {},
            "outputs": [],
            "source": [
                "class Recommendation(BaseModel):\n",
                "    name: str\n",
                "    link: str\n",
                "\n",
                "\n",
                "class GetRecommendationInfo(BaseModel):\n",
                "    primary_recommendation: Recommendation\n",
                "    other_recommendations: List[Recommendation]\n",
                "\n",
                "\n",
                "async def get_recommendations(\n",
                "    recent_orders: GetRecentOrderInfoList, recommmended_cuisine: str\n",
                "):\n",
                "    orders_page = await hb.extract.start_and_wait(\n",
                "        StartExtractJobParams(\n",
                "            urls=[\"https://www.doordash.com/orders\"],\n",
                "            schema=GetRecommendationInfo,\n",
                "            system_prompt=SYSTEM_PROMPT.format(\n",
                "                cuisine=recommmended_cuisine, orders=str(recent_orders)\n",
                "            ),\n",
                "            session_options=CreateSessionParams(\n",
                "                profile=CreateSessionProfile(id=profile_id)\n",
                "            ),\n",
                "        )\n",
                "    )\n",
                "    orders_page_content = GetRecommendationInfo.model_validate(orders_page.data)\n",
                "    return orders_page_content"
            ]
        },
        {
            "cell_type": "markdown",
            "metadata": {},
            "source": [
                "## Step 8: Format Recommendations for Display\n",
                "\n",
                "After getting restaurant recommendations, we need to format them attractively for display. This function:\n",
                "\n",
                "1. Takes the raw recommendation data and recommended cuisine\n",
                "2. Uses a specialized system prompt to guide the formatting\n",
                "3. Leverages GPT-4o-mini for efficient text generation\n",
                "4. Returns beautifully formatted recommendations ready for display\n",
                "\n",
                "We're using a smaller language model here (GPT-4o-mini) since this is a simple formatting task that doesn't require the full capabilities of the larger model."
            ]
        },
        {
            "cell_type": "code",
            "execution_count": 30,
            "metadata": {},
            "outputs": [],
            "source": [
                "RECOMMENDATION_FORMATTED_SYSTEM_PROMPT = \"\"\"\n",
                "You are given a place that was recommended to me on doordash: {primary_recommendation}\n",
                "Along with this you are given a list of alternate recommendations on doordash: {alternate_recommendations}. \n",
                "Here is the cuisine I was recommended {cuisine}. Your task is to format it an aesthetically pleasing way to the user.\n",
                "\"\"\"\n",
                "\n",
                "\n",
                "async def format_recommendation(recommendation: GetRecommendationInfo, cuisine: str):\n",
                "    formatted_system_prompt = RECOMMENDATION_FORMATTED_SYSTEM_PROMPT.format(\n",
                "        primary_recommendation=recommendation.primary_recommendation,\n",
                "        alternate_recommendations=recommendation.other_recommendations,\n",
                "        cuisine=cuisine,\n",
                "    )\n",
                "    repsonse = await llm.chat.completions.create(\n",
                "        messages=[\n",
                "            ChatCompletionSystemMessageParam(\n",
                "                role=\"system\", content=formatted_system_prompt\n",
                "            )\n",
                "        ],\n",
                "        model=\"gpt-4o-mini\",\n",
                "    )\n",
                "    return repsonse.choices[0].message.content"
            ]
        },
        {
            "cell_type": "markdown",
            "metadata": {},
            "source": [
                "## Step 9: Bring It All Together - The Complete Restaurant Recommendation Pipeline\n",
                "\n",
                "Finally, we combine all the previous steps into a complete pipeline that:\n",
                "\n",
                "1. Gets your DoorDash order history\n",
                "2. Analyzes your ordering patterns to recommend a cuisine\n",
                "3. Finds restaurants serving that cuisine\n",
                "4. Formats the recommendations into an attractive display\n",
                "\n",
                "This cell demonstrates the full workflow from data extraction to final presentation."
            ]
        },
        {
            "cell_type": "code",
            "execution_count": 31,
            "metadata": {},
            "outputs": [
                {
                    "data": {
                        "text/markdown": [
                            "### Recommended Restaurant\n",
                            "\n",
                            "#### 🍽️ Peninsula Malaysian Cuisine (Minneapolis)\n",
                            "- **Cuisine:** Malaysian\n",
                            "- **Link:** [Order Here](https://www.doordash.com/store/1247449)\n",
                            "\n",
                            "---\n",
                            "\n",
                            "### Alternative Cuisine\n",
                            "- **Cuisine Recommended:** Peruvian\n",
                            "\n",
                            "---\n",
                            "\n",
                            "Enjoy your meal! If you're looking for more options or specific dishes, feel free to ask."
                        ],
                        "text/plain": [
                            "<IPython.core.display.Markdown object>"
                        ]
                    },
                    "metadata": {},
                    "output_type": "display_data"
                }
            ],
            "source": [
                "orders_list = await get_orders_list()\n",
                "recommened_cuisine = await get_recommended_cuisine(orders_list)\n",
                "if recommened_cuisine is None or recommened_cuisine.name is None:\n",
                "    raise ValueError(\"No cuisine recommended\")\n",
                "else:\n",
                "    recommended_locations = await get_recommendations(\n",
                "        recent_orders=orders_list, recommmended_cuisine=recommened_cuisine.name\n",
                "    )\n",
                "    orders_page_content = GetRecommendationInfo.model_validate(recommended_locations)\n",
                "    formatted_recommendation = await format_recommendation(\n",
                "        orders_page_content, recommened_cuisine.name\n",
                "    )\n",
                "    display(Markdown(formatted_recommendation))"
            ]
        },
        {
            "cell_type": "markdown",
            "metadata": {},
            "source": [
                "## Conclusion\n",
                "\n",
                "In this cookbook, we've built a sophisticated restaurant recommendation engine using Hyperbrowser and OpenAI's GPT-4o. Our system:\n",
                "\n",
                "1. Extracts and analyzes your DoorDash order history\n",
                "2. Identifies patterns in your food preferences\n",
                "3. Recommends new cuisines based on your ordering habits\n",
                "4. Finds specific restaurants serving those cuisines\n",
                "5. Presents recommendations in an attractive, easy-to-read format\n",
                "\n",
                "This approach combines web automation, data extraction, and AI-powered analysis to create personalized dining recommendations that can help you discover new culinary experiences.\n",
                "\n",
                "### Next Steps\n",
                "\n",
                "To enhance this system further, you could:\n",
                "- Add dietary restriction filtering\n",
                "- Incorporate price range preferences\n",
                "- Include ratings and reviews from multiple platforms\n",
                "- Create a scheduled recommendation system that suggests different meals for different times of day\n",
                "- Develop a web or mobile interface for easier interaction\n",
                "\n",
                "Happy dining!"
            ]
        },
        {
            "cell_type": "markdown",
            "metadata": {},
            "source": [
                "## Relevant Links\n",
                "- [Hyperbrowser](https://hyperbrowser.ai)\n",
                "- [Hyperbrowser Documentation](https://docs.hyperbrowser.ai)\n",
                "- [OpenAI API Documentation](https://platform.openai.com/docs/introduction)\n",
                "- [DoorDash](https://www.doordash.com)"
            ]
        }
    ],
    "metadata": {
        "kernelspec": {
            "display_name": ".venv",
            "language": "python",
            "name": "python3"
        },
        "language_info": {
            "codemirror_mode": {
                "name": "ipython",
                "version": 3
            },
            "file_extension": ".py",
            "mimetype": "text/x-python",
            "name": "python",
            "nbconvert_exporter": "python",
            "pygments_lexer": "ipython3",
            "version": "3.13.2"
        }
    },
    "nbformat": 4,
    "nbformat_minor": 2
}

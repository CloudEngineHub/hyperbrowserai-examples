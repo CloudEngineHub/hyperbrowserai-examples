{
    "cells": [
        {
            "cell_type": "markdown",
            "metadata": {},
            "source": [
                "# Authed flows with Browser Use and Hyperbrowser\n",
                "\n",
                "In this cookbook, we'll demonstrate how to use User Profiles with Hyperbrowser's browser use agent. In this example, we'll be using Instagram as an example. This combination allows you to:\n",
                "\n",
                "- Navigate to Instagram profiles without manual intervention\n",
                "- Interact with content (like posts, follow accounts, etc.)\n",
                "- Perform these actions from a persistent browser profile that maintains your login session\n",
                "\n",
                "Unlike traditional web automation that requires complex selectors and frequent maintenance, this approach uses AI to understand and navigate Instagram's interface visually - just like a human would. This makes the automation more resilient to UI changes and significantly easier to implement."
            ]
        },
        {
            "cell_type": "markdown",
            "metadata": {},
            "source": [
                "## Prerequisites\n",
                "\n",
                "Before starting, you'll need:\n",
                "\n",
                "1. A Hyperbrowser API key (sign up at [hyperbrowser.ai](https://hyperbrowser.ai) if you don't have one)\n",
                "2. An Instagram account already logged in through a Hyperbrowser profile\n",
                "3. Python 3.9+ installed\n",
                "\n",
                "Your API key should be stored in a `.env` file in the same directory as this notebook:\n",
                "\n",
                "```\n",
                "HYPERBROWSER_API_KEY=your_hyperbrowser_key_here\n",
                "```\n",
                "\n",
                "**Important Note**: This notebook demonstrates browser automation techniques for educational purposes. When using automation with social platforms like Instagram, always respect their terms of service and community guidelines."
            ]
        },
        {
            "cell_type": "markdown",
            "metadata": {},
            "source": [
                "## Step 1: Import Libraries and Initialize Hyperbrowser\n",
                "\n",
                "We start by importing the necessary packages and initializing our Hyperbrowser client. The key components we need are:\n",
                "\n",
                "- `AsyncHyperbrowser`: The asynchronous API client for Hyperbrowser\n",
                "- `StartBrowserUseTaskParams`: Parameters for configuring our browser automation task\n",
                "- `CreateSessionParams` and `CreateSessionProfile`: For setting up persistent browser sessions with saved login state"
            ]
        },
        {
            "cell_type": "code",
            "execution_count": null,
            "metadata": {},
            "outputs": [],
            "source": [
                "import os\n",
                "\n",
                "from dotenv import load_dotenv\n",
                "from hyperbrowser import AsyncHyperbrowser\n",
                "from hyperbrowser.models import (\n",
                "    StartBrowserUseTaskParams,\n",
                "    CreateSessionParams,\n",
                "    CreateSessionProfile,\n",
                ")\n",
                "\n",
                "from IPython.display import Markdown, display\n",
                "from pydantic import BaseModel\n",
                "\n",
                "load_dotenv()"
            ]
        },
        {
            "cell_type": "markdown",
            "metadata": {},
            "source": [
                "## Step 2: Create a Hyperbrowser Client\n",
                "\n",
                "Next, we initialize the Hyperbrowser client with our API key loaded from the environment variables. This client will handle all communication with the Hyperbrowser API."
            ]
        },
        {
            "cell_type": "code",
            "execution_count": 10,
            "metadata": {},
            "outputs": [],
            "source": [
                "hb = AsyncHyperbrowser(api_key=os.getenv(\"HYPERBROWSER_API_KEY\"))"
            ]
        },
        {
            "cell_type": "markdown",
            "metadata": {},
            "source": [
                "## Step 3: Set Up Browser Profile\n",
                "\n",
                "For Instagram automation, we need a persistent browser profile that maintains login state. This section contains code for:\n",
                "\n",
                "1. Using an existing profile ID where you're already logged into Instagram\n",
                "2. Creating a new profile and launching a live session where you can manually log in\n",
                "\n",
                "When working with social media automation, persistent profiles are essential because they:\n",
                "- Store cookies and authentication data between sessions\n",
                "- Maintain preferences and settings\n",
                "- Reduce the risk of triggering security mechanisms that detect new browser environments\n",
                "\n",
                "**First-time setup**: If you're running this notebook for the first time, uncomment the profile creation code, run it, and manually log into Instagram using the live URL that gets printed. After logging in, save the profile ID for future use."
            ]
        },
        {
            "cell_type": "code",
            "execution_count": null,
            "metadata": {},
            "outputs": [],
            "source": [
                "profile_id = \"[If a profile already exists, use it here]\"\n",
                "### If you are using this notebook for the first time, uncomment the following lines and run them\n",
                "# from hyperbrowser.models import CreateSessionParams, CreateSessionProfile\n",
                "\n",
                "# # profile = await hb.profiles.create()\n",
                "# # print(profile)\n",
                "# # profile_id = profile.id\n",
                "# session = await hb.sessions.create(\n",
                "#     CreateSessionParams(\n",
                "#         use_proxy=True,\n",
                "#         profile=CreateSessionProfile(id=profile_id, persist_changes=True),\n",
                "#     )\n",
                "# )\n",
                "# print(session.live_url)"
            ]
        },
        {
            "cell_type": "markdown",
            "metadata": {},
            "source": [
                "## Step 4: Clean Up Sessions (Optional)\n",
                "\n",
                "This cell can be used to stop active browser sessions when they're no longer needed. Running unnecessary sessions can consume resources, so it's good practice to clean up after you're done with manual login or debugging."
            ]
        },
        {
            "cell_type": "code",
            "execution_count": 12,
            "metadata": {},
            "outputs": [],
            "source": [
                "# await hb.sessions.stop(session.id)"
            ]
        },
        {
            "cell_type": "markdown",
            "metadata": {},
            "source": [
                "## Step 5: Define the Instagram Interaction Function\n",
                "\n",
                "Now we'll create a function that performs a specific Instagram interaction - liking the most recent post from a given user handle. This function demonstrates the power of Hyperbrowser's browser_use agent by:\n",
                "\n",
                "1. Using natural language to describe the task (\"Go to the instagram handle..., scroll down, and like their latest post\")\n",
                "2. Enabling computer vision capabilities so the agent can \"see\" and interact with visual elements\n",
                "3. Using our persistent profile to maintain Instagram login state\n",
                "\n",
                "The function is remarkably simple compared to traditional web automation code, which would require complex selectors, waiting logic, and error handling."
            ]
        },
        {
            "cell_type": "code",
            "execution_count": 13,
            "metadata": {},
            "outputs": [],
            "source": [
                "async def like_first_post_on_instagram(user_handle:str):\n",
                "    resp = await hb.beta.agents.browser_use.start_and_wait(\n",
                "        StartBrowserUseTaskParams(\n",
                "            task=f\"Go to the instagram handle {user_handle}, scroll down, and like their latest post.\",\n",
                "            use_vision=True,\n",
                "            session_options=CreateSessionParams(\n",
                "                profile=CreateSessionProfile(id=profile_id)\n",
                "            ),\n",
                "        )\n",
                "    )\n",
                "    if resp.data is not None:\n",
                "        return resp.data.final_result\n",
                "    return None"
            ]
        },
        {
            "cell_type": "markdown",
            "metadata": {},
            "source": [
                "## Step 6: Execute the Automation and Display Results\n",
                "\n",
                "Finally, we'll run our function with the National Geographic (@natgeo) Instagram handle as an example. The agent will:\n",
                "\n",
                "1. Navigate to the National Geographic Instagram profile\n",
                "2. Scroll down to find the latest post\n",
                "3. Like the post by clicking the like button\n",
                "4. Return a confirmation message\n",
                "\n",
                "Behind the scenes, the agent is making real-time decisions about how to navigate Instagram's interface, locate buttons, and perform interactions - just like a human would."
            ]
        },
        {
            "cell_type": "code",
            "execution_count": 14,
            "metadata": {},
            "outputs": [
                {
                    "data": {
                        "text/markdown": [
                            "Successfully navigated to the instagram handle @natgeo, scrolled down, and liked their latest post."
                        ],
                        "text/plain": [
                            "<IPython.core.display.Markdown object>"
                        ]
                    },
                    "metadata": {},
                    "output_type": "display_data"
                }
            ],
            "source": [
                "response = await like_first_post_on_instagram(\"@natgeo\")\n",
                "if response is not None:\n",
                "    display(Markdown(response))\n",
                "else:\n",
                "    print(\"No response from the agent\")"
            ]
        },
        {
            "cell_type": "markdown",
            "metadata": {},
            "source": [
                "## Conclusion\n",
                "\n",
                "This cookbook demonstrates a new approach for browser automations - using AI agents that understand visual interfaces and natural language instructions rather than brittle, selector-based automation. By leveraging persistent user profiles, this approach also solves the problem of any form of authentication. This kind of method has a few key advantages, \n",
                "\n",
                "1. **Resilience**: The AI can adapts to UI changes since it operates visually, and based on structure rather than relying on specific HTML structures\n",
                "2. **State Management**: Persistent profiles maintain login sessions and user preferences across automation runs\n",
                "3. **Natural Behavior**: The agent navigates and interacts with websites in a human-like manner\n",
                "\n",
                "While this example focuses on a simple interaction, the same approach can be extended to more complex workflows requiring authenticated sessions and consistent user states.\n",
                "\n",
                "All this said, Hyperbrowser encourages responsible automation that respects websites' Terms of Service and rate limits."
            ]
        },
        {
            "cell_type": "markdown",
            "metadata": {},
            "source": [
                "## Relevant Links\n",
                "- [Hyperbrowser](https://hyperbrowser.ai)\n",
                "- [Hyperbrowser Documentation](https://docs.hyperbrowser.ai)"
            ]
        }
    ],
    "metadata": {
        "kernelspec": {
            "display_name": ".venv",
            "language": "python",
            "name": "python3"
        },
        "language_info": {
            "codemirror_mode": {
                "name": "ipython",
                "version": 3
            },
            "file_extension": ".py",
            "mimetype": "text/x-python",
            "name": "python",
            "nbconvert_exporter": "python",
            "pygments_lexer": "ipython3",
            "version": "3.13.2"
        }
    },
    "nbformat": 4,
    "nbformat_minor": 2
}

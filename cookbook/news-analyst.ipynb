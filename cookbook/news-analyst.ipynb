{
    "cells": [
        {
            "cell_type": "markdown",
            "metadata": {},
            "source": [
                "# Building a News Analysis Agent with Hyperbrowser and GPT-4o\n",
                "\n",
                "In this cookbook, we'll build an intelligent News Analysis Agent that can summarize news from any topic by automatically searching news aggregators, analyzing multiple sources, and generating comprehensive summaries with source-specific insights.\n",
                "\n",
                "Our agent will:\n",
                "\n",
                "1. Access news aggregator websites like Google News\n",
                "2. Extract articles from multiple news sources on a specific topic\n",
                "3. Analyze content across different publications\n",
                "4. Generate a comprehensive summary with source-specific details\n",
                "5. Answer user questions based on the aggregated news content\n",
                "\n",
                "We'll use these tools to build our agent:\n",
                "\n",
                "- **[Hyperbrowser](https://hyperbrowser.ai)** for web extraction and accessing news sources\n",
                "- **OpenAI's GPT-4o-mini** for intelligent analysis and report generation\n",
                "\n",
                "By the end of this cookbook, you'll have a versatile news analysis tool that can keep you informed on any topic with balanced, multi-source perspectives!\n"
            ]
        },
        {
            "cell_type": "markdown",
            "metadata": {},
            "source": [
                "## Prerequisites\n",
                "\n",
                "To follow along you'll need the following:\n",
                "\n",
                "1. A Hyperbrowser API key (sign up at [hyperbrowser.ai](https://hyperbrowser.ai) if you don't have one, it's free)\n",
                "2. An OpenAI API key (sign up at [openai.com](https://openai.com) if you don't have one, it's free)\n",
                "\n",
                "Both API keys should be stored in a `.env` file in the same directory as this notebook with the following format:\n",
                "\n",
                "```\n",
                "HYPERBROWSER_API_KEY=your_hyperbrowser_key_here\n",
                "OPENAI_API_KEY=your_openai_key_here\n",
                "```\n"
            ]
        },
        {
            "cell_type": "markdown",
            "metadata": {},
            "source": [
                "## Step 1: Set up imports and load environment variables\n"
            ]
        },
        {
            "cell_type": "code",
            "execution_count": null,
            "metadata": {},
            "outputs": [],
            "source": [
                "import asyncio\n",
                "import json\n",
                "import os\n",
                "\n",
                "from dotenv import load_dotenv\n",
                "from hyperbrowser import AsyncHyperbrowser\n",
                "from hyperbrowser.tools import WebsiteExtractTool\n",
                "from openai import AsyncOpenAI\n",
                "from openai.types.chat import (\n",
                "    ChatCompletionMessageParam,\n",
                "    ChatCompletionMessageToolCall,\n",
                "    ChatCompletionToolMessageParam,\n",
                ")\n",
                "from typing import List\n",
                "from IPython.display import Markdown, display\n",
                "import urllib.parse\n",
                "\n",
                "load_dotenv()"
            ]
        },
        {
            "cell_type": "markdown",
            "metadata": {},
            "source": [
                "## Step 2: Initialize API clients\n",
                "\n",
                "Next, we'll initialize our API clients for Hyperbrowser and OpenAI using the environment variables we loaded. These clients will handle web scraping and AI-powered analysis respectively.\n"
            ]
        },
        {
            "cell_type": "code",
            "execution_count": 2,
            "metadata": {},
            "outputs": [],
            "source": [
                "hb = AsyncHyperbrowser(api_key=os.getenv(\"HYPERBROWSER_API_KEY\"))\n",
                "llm = AsyncOpenAI()"
            ]
        },
        {
            "cell_type": "markdown",
            "metadata": {},
            "source": [
                "## Step 3: Create a tool handler function\n",
                "\n",
                "The `handle_tool_call` function processes requests from the LLM to interact with external tools. In this case, it handles the WebsiteExtractTool from Hyperbrowser, which allows our agent to extract structured data from news websites.\n",
                "\n",
                "This function:\n",
                "\n",
                "1. Takes a tool call request from the LLM\n",
                "2. Checks if it's for a supported tool (in this case, the `extract_data` tool)\n",
                "3. Parses the parameters and executes the tool\n",
                "4. Returns the results back to the LLM\n",
                "5. Provides any error handling for issues so that the LLM can fix it with different args for the tool use.\n",
                "\n",
                "This is essential for enabling our agent to dynamically access and extract news content.\n"
            ]
        },
        {
            "cell_type": "code",
            "execution_count": 3,
            "metadata": {},
            "outputs": [],
            "source": [
                "async def handle_tool_call(\n",
                "    tc: ChatCompletionMessageToolCall,\n",
                ") -> ChatCompletionToolMessageParam:\n",
                "    print(f\"Handling tool call: {tc.function.name}\")\n",
                "\n",
                "    try:\n",
                "        if (\n",
                "            tc.function.name\n",
                "            == WebsiteExtractTool.openai_tool_definition[\"function\"][\"name\"]\n",
                "        ):\n",
                "            args = json.loads(tc.function.arguments)\n",
                "            content = await WebsiteExtractTool.async_runnable(hb=hb, params=args)\n",
                "\n",
                "            return {\"role\": \"tool\", \"tool_call_id\": tc.id, \"content\": content}\n",
                "        else:\n",
                "            raise ValueError(f\"Tool not found: {tc.function.name}\")\n",
                "\n",
                "    except Exception as e:\n",
                "        err_msg = f\"Error handling tool call: {e}\"\n",
                "        print(err_msg)\n",
                "        return {\n",
                "            \"role\": \"tool\",\n",
                "            \"tool_call_id\": tc.id,\n",
                "            \"content\": err_msg,\n",
                "            \"is_error\": True,  # type: ignore\n",
                "        }"
            ]
        },
        {
            "cell_type": "markdown",
            "metadata": {},
            "source": [
                "## Step 4: Implement the agent loop\n",
                "\n",
                "The agent loop is the heart of our news analysis system. It implements a recursive conversation pattern where:\n",
                "\n",
                "1. The current state of the conversation is sent to the LLM (GPT-4o-mini in this case)\n",
                "2. The LLM either provides a final answer or requests more information via tool calls\n",
                "3. If tool calls are made, they're processed and their results are added to the conversation\n",
                "4. This process repeats until the LLM provides a final analysis\n",
                "\n",
                "This architecture allows the agent to gather information from multiple news sources iteratively before generating a comprehensive summary. We're using GPT-4o-mini here for efficient processing while maintaining high-quality analysis.\n"
            ]
        },
        {
            "cell_type": "code",
            "execution_count": 4,
            "metadata": {},
            "outputs": [],
            "source": [
                "async def agent_loop(messages: list[ChatCompletionMessageParam]) -> str:\n",
                "    while True:\n",
                "        response = await llm.chat.completions.create(\n",
                "            messages=messages,\n",
                "            model=\"gpt-4o-mini\",\n",
                "            tools=[\n",
                "                WebsiteExtractTool.openai_tool_definition,\n",
                "            ],\n",
                "            max_completion_tokens=8000,\n",
                "        )\n",
                "\n",
                "        choice = response.choices[0]\n",
                "\n",
                "        # Append response to messages\n",
                "        messages.append(choice.message)  # type: ignore\n",
                "\n",
                "        # Handle tool calls\n",
                "        if (\n",
                "            choice.finish_reason == \"tool_calls\"\n",
                "            and choice.message.tool_calls is not None\n",
                "        ):\n",
                "            tool_result_messages = await asyncio.gather(\n",
                "                *[handle_tool_call(tc) for tc in choice.message.tool_calls]\n",
                "            )\n",
                "            messages.extend(tool_result_messages)\n",
                "\n",
                "        elif choice.finish_reason == \"stop\" and choice.message.content is not None:\n",
                "            return choice.message.content\n",
                "\n",
                "        else:\n",
                "            print(choice)\n",
                "            raise ValueError(f\"Unhandled finish reason: {choice.finish_reason}\")"
            ]
        },
        {
            "cell_type": "markdown",
            "metadata": {},
            "source": [
                "## Step 5: Design the system prompt\n",
                "\n",
                "The system prompt is crucial for guiding the LLM's behavior. Our prompt establishes the agent as an expert news analyst and provides detailed instructions on how to:\n",
                "\n",
                "1. Access and extract information from news sources\n",
                "2. Generate an overall summary based on multiple sources\n",
                "3. Provide source-specific analysis with attribution\n",
                "4. Answer user questions based on the aggregated news content\n",
                "\n",
                "This structured approach ensures that our news summaries are comprehensive, balanced, and properly sourced.\n"
            ]
        },
        {
            "cell_type": "code",
            "execution_count": 5,
            "metadata": {},
            "outputs": [],
            "source": [
                "SYSTEM_PROMPT = \"\"\"\n",
                "You are an expert news analyst. You have access to a 'extract_data' tool which can be used to get structured data from a webpage. \n",
                "\n",
                "This is the link to a news aggregator {link}. You are required to summarize the overall news in a concise manner. In addition, you are required to provide the list of what the analysis is from the various news sources in detail. Your overall analysis should be based on the summary from the various individual news sources. In addition, if the user asks a question, you are required to provide the answer based on your overall summary.\n",
                "\n",
                "In summary, you are required to provide the following:\n",
                "1. Overall summary of the news, based on the individual news sources\n",
                "2. List of what the analysis is from the various news sources in detail. This analysis should be based on the particular news source itself.\n",
                "3. If the user asks any questions, you are required to provide the answer based on your overall summary.\n",
                "\"\"\".strip()"
            ]
        },
        {
            "cell_type": "markdown",
            "metadata": {},
            "source": [
                "## Step 6: Create a factory function for generating news analysis agents\n",
                "\n",
                "Now we'll create a factory function that generates specialized news analysis agents for specific topics or sources. This approach provides several benefits:\n",
                "\n",
                "1. **Reusability**: We can create multiple agents for different news topics\n",
                "2. **Configurability**: Each agent can be configured with a specific news source URL\n",
                "3. **Flexibility**: The function handles optional user questions for interactive analysis\n",
                "\n",
                "The factory returns an async function that can be called to generate news summaries or answer topic-specific questions.\n"
            ]
        },
        {
            "cell_type": "code",
            "execution_count": 6,
            "metadata": {},
            "outputs": [],
            "source": [
                "from typing import Coroutine, Any, Callable, Optional\n",
                "\n",
                "\n",
                "def make_news_analyst(\n",
                "    link_to_aggregator: str,\n",
                ") -> Callable[..., Coroutine[Any, Any, str]]:\n",
                "    # Popular documentation providers like Gitbook, Mintlify etc automatically generate a llms.txt file\n",
                "    # for documentation sites hosted on their platforms.\n",
                "    if not (\n",
                "        link_to_aggregator.startswith(\"http://\")\n",
                "        or link_to_aggregator.startswith(\"https://\")\n",
                "    ):\n",
                "        link_to_aggregator = f\"https://{link_to_aggregator}\"\n",
                "\n",
                "    sysprompt = SYSTEM_PROMPT.format(\n",
                "        link=link_to_aggregator,\n",
                "    )\n",
                "\n",
                "    async def news_agent(question: Optional[str] = None) -> str:\n",
                "        messages: List[ChatCompletionMessageParam] = [\n",
                "            {\"role\": \"system\", \"content\": sysprompt},\n",
                "        ]\n",
                "        if question is not None:\n",
                "            messages.append(\n",
                "                {\n",
                "                    \"role\": \"user\",\n",
                "                    \"content\": f\"The user asked the following question as a : {question}\",\n",
                "                }\n",
                "            )\n",
                "        return await agent_loop(messages)\n",
                "\n",
                "    return news_agent"
            ]
        },
        {
            "cell_type": "markdown",
            "metadata": {},
            "source": [
                "## Step 7: Get the news topic from the users questions\n",
                "\n",
                "So while we have the ability to summarize the news, and answer the users questions, we can't yet derive what the user wants to search about. So, we'll run a minimal query that gets the actual news query from the users question. Then, we can form the link to the news aggregator using the query.\n",
                "\n",
                "Note that the query gets encoded using the `quote_plus` function so that the url generated conforms to the expected urls.\n"
            ]
        },
        {
            "cell_type": "code",
            "execution_count": 19,
            "metadata": {},
            "outputs": [],
            "source": [
                "async def convert_to_news_query(question: str) -> Optional[str]:\n",
                "    messages: List[ChatCompletionMessageParam] = [\n",
                "        {\n",
                "            \"role\": \"system\",\n",
                "            \"content\": \"\"\"Convert the user's question into a concise news search query. Focus on key terms and remove unnecessary words. The query should be suitable for searching news articles.\n",
                "            For example:\n",
                "            \"What are the latest developments in artificial intelligence regulation?\" -> AI regulation news\n",
                "            \"How is the current state of the NBA?\" -> NBA news\"\"\",\n",
                "        },\n",
                "        {\n",
                "            \"role\": \"user\",\n",
                "            \"content\": f\"Convert this question to a news search query: {question}\",\n",
                "        },\n",
                "    ]\n",
                "\n",
                "    response = await llm.chat.completions.create(\n",
                "        model=\"gpt-4o-mini\", messages=messages, temperature=0.3, max_tokens=50\n",
                "    )\n",
                "\n",
                "    return response.choices[0].message.content\n",
                "\n",
                "\n",
                "async def generate_news_url(question: str) -> Optional[str]:\n",
                "    query = await convert_to_news_query(question)\n",
                "    print(query)\n",
                "    if query is not None:\n",
                "        return f\"https://news.google.com/search?q={urllib.parse.quote_plus(query)}\"\n",
                "    return None\n",
                "\n",
                "\n",
                "async def get_news_summary(query: str) -> Optional[str]:\n",
                "    news_url = await generate_news_url(query)\n",
                "    if news_url is not None:\n",
                "        news_agent = make_news_analyst(news_url)\n",
                "        response = await news_agent(query)\n",
                "        if response:\n",
                "            return response\n",
                "        else:\n",
                "            return \"**No response from the agent when summarizing news**\"\n",
                "    else:\n",
                "        return \"**Could not generate news url**\""
            ]
        },
        {
            "cell_type": "markdown",
            "metadata": {},
            "source": [
                "## Step 8: Set up the news topic and user question\n",
                "\n",
                "Now we'll define the specific news topic we want to analyze and an optional user question for the agent to answer. In this example, we're:\n",
                "\n",
                "1. Setting up a Google News search for \"bird flu\" articles\n",
                "2. Asking the specific question \"Is bird flu a serious concern for humans?\"\n",
                "\n",
                "This demonstrates how the agent can not only summarize news but also answer specific questions about the topic.\n"
            ]
        },
        {
            "cell_type": "code",
            "execution_count": 16,
            "metadata": {},
            "outputs": [],
            "source": [
                "query = \"Is bird flu a serious concern for humans?\""
            ]
        },
        {
            "cell_type": "markdown",
            "metadata": {},
            "source": [
                "## Step 9: Run the news analyst agent\n",
                "\n",
                "Finally, we'll create an instance of our news analysis agent for the specified topic and run it with our question. This demonstrates the full workflow:\n",
                "\n",
                "1. The agent accesses Google News for \"bird flu\" articles\n",
                "2. It extracts content from multiple news sources on this topic\n",
                "3. It analyzes and summarizes the content from different publications\n",
                "4. It generates a comprehensive summary with source-specific details\n",
                "5. It answers our specific question about human health concerns\n",
                "\n",
                "The formatted output will include an overall summary, source-by-source analysis, and an answer to our question.\n"
            ]
        },
        {
            "cell_type": "code",
            "execution_count": 18,
            "metadata": {},
            "outputs": [
                {
                    "name": "stdout",
                    "output_type": "stream",
                    "text": [
                        "bird flu human concern news\n",
                        "Handling tool call: extract_data\n"
                    ]
                },
                {
                    "data": {
                        "text/markdown": [
                            "### Overall Summary of the News\n",
                            "Recent news highlights growing concerns about bird flu (H5N1) and its potential threat to human health. Experts warn that the risk of transmission to humans is increasing, especially with recent cases reported in the U.S. and the detection of the virus in new animal hosts, such as pigs. The World Health Organization (WHO) has expressed \"enormous concern\" over the situation, emphasizing the need for vigilance and preparedness. Mutations in the virus have raised alarms about the potential for a pandemic, prompting calls for enhanced public health measures and vaccine development.\n",
                            "\n",
                            "### Detailed Analysis from Various News Sources\n",
                            "1. **How worried should you be about bird flu?**  \n",
                            "   - **Source:** [Link](https://news.google.com/read/CBMimAFBVV95cUxPakMwOW1ia0RSaEJQMjNWNFliNlliaEs3a19PZEo4RkZfV0x1bm00NnB3MXZ4R1BBWC1BOVdYN1JQc1UyVHlUeEJvTkM3THFURFFseFVnNnpLRzRWWnlqOFpoc29JOGlxSFpUdVNsU24tbzRVQzkxaS1oaE8tUDB2Z2xRYTMxdkUxb1hteE5DMDJQbzFKbERqbg?hl=en-US&gl=US&ceid=US%3Aen)\n",
                            "   - **Analysis:** Experts express significant concern over the rising risk of bird flu (H5N1) spreading to humans, especially with recent cases reported in the U.S. and other countries. The potential for mutations that could facilitate human-to-human transmission is alarming.\n",
                            "\n",
                            "2. **Will bird flu spark a human pandemic? Scientists say the risk is rising**  \n",
                            "   - **Source:** [Link](https://news.google.com/read/CBMiX0FVX3lxTE9sSElUMG1MZFNfUElUUlJNX2RDRVdIUUZxSk92OXRMdVJlTDlSRE9tOWxxZEZVUTViZUY4V3h1MW5kOUx1UWJLaUs1aVFMc2FaNC02bERGdUFzNHp4b0J3?hl=en-US&gl=US&ceid=US%3Aen)\n",
                            "   - **Analysis:** Recent studies indicate that the risk of a human pandemic due to bird flu is increasing, particularly as the virus has been detected in new animal hosts, including pigs. Experts warn that the virus's ability to mutate poses a significant threat to public health.\n",
                            "\n",
                            "3. **Will Bird Flu Lead To A Pandemic? First U.S. Patient Dies From H5N1**  \n",
                            "   - **Source:** [Link](https://news.google.com/read/CBMic0FVX3lxTE8tLVN6aHFKYUJpQXpTcXgxbUVhVTgtblg3eUVEcnJBRVc2SkVVVFlqcGhoZGFscThRdzdheElSajNVcDhrbGJkMk1tTHNHWXlXRk14ck04NUhhckE2QmxGNHVsSTkxOFByN1h5NzU0bkdtX0nSAVRBVV95cUxPN3lHLTNpYmtpUjdiV3g2Q3FKcXFZT1M0VlhGNmcxMWRxUzhhNjNxZFY1c0owN0JuWFY1RXBld3RJaVJXSG9rdzNOWVZFS0R4b29HZEg?hl=en-US&gl=US&ceid=US%3Aen)\n",
                            "   - **Analysis:** The first reported death of a U.S. patient from H5N1 bird flu has heightened concerns about the virus's potential to cause a pandemic. Health officials emphasize the need for preparedness and monitoring of the virus's spread.\n",
                            "\n",
                            "4. **Expert concerned U.S. not prepared for bird flu spread in humans**  \n",
                            "   - **Source:** [Link](https://news.google.com/read/CBMic0FVX3lxTE8tLVN6aHFKYUJpQXpTcXgxbUVhVTgtblg3eUVEcnJBRVc2SkVVVFlqcGhoZGFscThRdzdheElSajNVcDhrbGJkMk1tTHNHWXlXRk14ck04NUhhckE2QmxGNHVsSTkxOFByN1h5NzU0bkdtX0nSAVRBVV95cUxPN3lHLTNpYmtpUjdiV3g2Q3FKcXFZT1M0VlhGNmcxMWRxUzhhNjNxZFY1c0owN0JuWFY1RXBld3RJaVJXSG9rdzNOWVZFS0R4b29HZEg?hl=en-US&gl=US&ceid=US%3Aen)\n",
                            "   - **Analysis:** Experts are worried that the U.S. is not adequately prepared for a potential outbreak of bird flu among humans. They stress the importance of developing vaccines and public health strategies to mitigate the risks.\n",
                            "\n",
                            "### Answer to the User's Question\n",
                            "Yes, bird flu is considered a serious concern for humans. There has been an increase in reported cases, including the first death of a U.S. patient, which has raised alarms about the virus's potential to mutate and lead to a pandemic. Experts emphasize the need for preparedness, monitoring, and public health strategies to address this growing threat."
                        ],
                        "text/plain": [
                            "<IPython.core.display.Markdown object>"
                        ]
                    },
                    "metadata": {},
                    "output_type": "display_data"
                }
            ],
            "source": [
                "news_summary = await get_news_summary(query)\n",
                "display(Markdown(news_summary))"
            ]
        },
        {
            "cell_type": "markdown",
            "metadata": {},
            "source": [
                "## Step 8: Try it with your own questions\n",
                "\n",
                "Now that we've seen the agent in action, you can have it analyze your own queries.\n",
                "\n",
                "```python\n",
                "# Example: Get the news summary for another topic\n",
                "# news_topic = \"How's the crypto market doing ?\"\n",
                "# news_summary = await get_news_summary(news_topic)\n",
                "# print(news_summary)\n",
                "```\n",
                "\n",
                "Feel free to experiment with different questions and news aggregation sites!\n"
            ]
        },
        {
            "cell_type": "markdown",
            "metadata": {},
            "source": [
                "## Conclusion\n",
                "\n",
                "In this cookbook, we built a powerful news analysis agent using Hyperbrowser and OpenAI's GPT-4o-mini. Our agent can:\n",
                "\n",
                "1. Access and extract information from news aggregators like Google News\n",
                "2. Process content from multiple news sources on any topic\n",
                "3. Generate comprehensive, balanced summaries with source attribution\n",
                "4. Answer specific questions based on the aggregated news content\n",
                "5. Present information in a well-structured, easy-to-understand format\n",
                "\n",
                "This tool can be invaluable for:\n",
                "\n",
                "- Staying informed on complex news topics without bias\n",
                "- Quickly understanding the consensus and divergent views across publications\n",
                "- Getting concise answers to specific questions about current events\n",
                "- Saving time by consolidating information from multiple sources\n",
                "\n",
                "### Next Steps\n",
                "\n",
                "To enhance this news analysis system further, you could:\n",
                "\n",
                "- Add sentiment analysis to detect media bias\n",
                "- Implement tracking of topics over time to identify trend changes\n",
                "- Create a web interface for easier access to news summaries\n",
                "- Add support for specialized news sources in specific domains (finance, technology, etc.)\n",
                "- Implement translation for international news coverage\n",
                "\n",
                "Happy news analyzing!\n"
            ]
        },
        {
            "cell_type": "markdown",
            "metadata": {},
            "source": [
                "## Relevant Links\n",
                "\n",
                "- [Hyperbrowser Documentation](https://docs.hyperbrowser.ai)\n",
                "- [OpenAI API Documentation](https://platform.openai.com/docs/introduction)\n",
                "- [Google News](https://news.google.com)\n"
            ]
        }
    ],
    "metadata": {
        "kernelspec": {
            "display_name": ".venv",
            "language": "python",
            "name": "python3"
        },
        "language_info": {
            "codemirror_mode": {
                "name": "ipython",
                "version": 3
            },
            "file_extension": ".py",
            "mimetype": "text/x-python",
            "name": "python",
            "nbconvert_exporter": "python",
            "pygments_lexer": "ipython3",
            "version": "3.13.2"
        }
    },
    "nbformat": 4,
    "nbformat_minor": 2
}

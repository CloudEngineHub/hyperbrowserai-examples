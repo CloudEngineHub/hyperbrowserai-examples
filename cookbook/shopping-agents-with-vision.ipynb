{
    "cells": [
        {
            "cell_type": "markdown",
            "metadata": {},
            "source": [
                "# Supercharging Web Agents with Vision Capabilities in Hyperbrowser\n",
                "\n",
                "This cookbook demonstrates how adding vision capabilities to autonomous web agents dramatically improves their ability to navigate visually complex websites and extract information from visual elements that text-only agents struggle with.\n",
                "\n",
                "We'll compare the same agent with and without vision capabilities on a real-world shopping task to showcase the difference in performance."
            ]
        },
        {
            "cell_type": "markdown",
            "metadata": {},
            "source": [
                "## Prerequisites\n",
                "\n",
                "You'll need a Hyperbrowser API key (sign up at [hyperbrowser.ai](https://hyperbrowser.ai) if you don't have one).\n",
                "\n",
                "Store your API key in a `.env` file in the notebook directory:\n",
                "```\n",
                "HYPERBROWSER_API_KEY=your_hyperbrowser_key_here\n",
                "```"
            ]
        },
        {
            "cell_type": "markdown",
            "metadata": {},
            "source": [
                "## Step 1: Import Libraries and Set Up the Environment\n",
                "\n",
                "We import the necessary libraries and initialize our Hyperbrowser client, which will handle our web browsing tasks."
            ]
        },
        {
            "cell_type": "code",
            "execution_count": null,
            "metadata": {},
            "outputs": [],
            "source": [
                "import os\n",
                "\n",
                "from dotenv import load_dotenv\n",
                "from hyperbrowser import AsyncHyperbrowser\n",
                "from hyperbrowser.models import StartBrowserUseTaskParams\n",
                "\n",
                "from IPython.display import Markdown, display\n",
                "\n",
                "load_dotenv()"
            ]
        },
        {
            "cell_type": "markdown",
            "metadata": {},
            "source": [
                "## Step 2: Initialize the Hyperbrowser Client\n",
                "\n",
                "We create an instance of the AsyncHyperbrowser client using our API key."
            ]
        },
        {
            "cell_type": "code",
            "execution_count": 8,
            "metadata": {},
            "outputs": [],
            "source": [
                "hb = AsyncHyperbrowser(api_key=os.getenv(\"HYPERBROWSER_API_KEY\"))"
            ]
        },
        {
            "cell_type": "markdown",
            "metadata": {},
            "source": [
                "## Step 3: Define the Browser Agent Function\n",
                "\n",
                "We create a function that initializes an autonomous browser agent with an option to enable or disable vision capabilities. The task involves finding a specific DVD on eBay – a complex visual e-commerce environment that requires understanding product listings, images, and filtering options."
            ]
        },
        {
            "cell_type": "code",
            "execution_count": 9,
            "metadata": {},
            "outputs": [],
            "source": [
                "async def get_shopping_agent(use_vision=False):\n",
                "    resp = await hb.beta.agents.browser_use.start_and_wait(\n",
                "        StartBrowserUseTaskParams(\n",
                "            task=\"Find me the cheapest copy of Star Trek: The Next Generation on DVD on Ebay. Make sure it's a new copy. Return me the url, price, and shipping time.\",\n",
                "            use_vision=use_vision\n",
                "        )\n",
                "    )\n",
                "    if resp.data is not None:\n",
                "        return resp.data.final_result\n",
                "    return None"
            ]
        },
        {
            "cell_type": "markdown",
            "metadata": {},
            "source": [
                "## Step 4: Execute the Agent WITHOUT Vision Capabilities\n",
                "\n",
                "First, we run the agent with vision disabled. E-commerce sites like eBay have complex layouts with product information spread across images, dynamically loaded content, and various UI elements. Let's see how a text-only agent performs."
            ]
        },
        {
            "cell_type": "code",
            "execution_count": null,
            "metadata": {},
            "outputs": [
                {
                    "data": {
                        "text/markdown": [
                            "I was unable to find a new copy of Star Trek: The Next Generation on DVD, full box set, and return the URL, price, and shipping time. The extraction tool consistently failed to extract the correct information, even after scrolling and applying filters. The results extracted were for individual seasons, not the complete series. I have reached the maximum number of steps."
                        ],
                        "text/plain": [
                            "<IPython.core.display.Markdown object>"
                        ]
                    },
                    "metadata": {},
                    "output_type": "display_data"
                }
            ],
            "source": [
                "response = await get_shopping_agent()\n",
                "if response is not None:\n",
                "    display(Markdown(response))\n",
                "else:\n",
                "    print(\"No response from the agent\")"
            ]
        },
        {
            "cell_type": "markdown",
            "metadata": {},
            "source": [
                "### Results Without Vision\n",
                "\n",
                "As we can see from the output above, the agent without vision capabilities was unable to successfully navigate eBay and find any DVD listings. This is because eBay's interface relies heavily on visual elements - from product images to buttons and filters. Without being able to \"see\" these elements, the agent cannot effectively search for products or extract meaningful information from the listings.\n",
                "\n",
                "The failure demonstrates how challenging it can be for text-only agents to operate in modern web interfaces that are designed primarily for visual interaction. While agents can infer many things from the structure of the html document, many crucial elements that a human would easily identify - such as the search bar, filter options, and product cards - are difficult or impossible for a non-vision agent to locate and interact with.\n"
            ]
        },
        {
            "cell_type": "markdown",
            "metadata": {},
            "source": [
                "## Step 5: Execute the Agent WITH Vision Capabilities\n",
                "\n",
                "Now let's run the same task with vision capabilities enabled. The agent can now \"see\" the page like a human would, understanding images, visual layouts, and graphical elements that contain crucial information."
            ]
        },
        {
            "cell_type": "code",
            "execution_count": null,
            "metadata": {},
            "outputs": [
                {
                    "data": {
                        "text/markdown": [
                            "The cheapest new copy of Star Trek: The Next Generation on DVD on Ebay is Star Trek The Next Generation - Season 1 (Slimline Edition) (DVD) (UK IMPORT). The URL is https://www.ebay.com/itm/116514533778?_skw=Star+Trek%3A+The+Next+Generation+DVD+box+set&epid=1702904912&itmmeta=01JP3G2PRP5C2RD5FW4DGXMK2N&hash=item1b20ceb192%3Ag%3AqgIAAeSw31Fnz2RR&itmprp=enc%3AAQAKAAAA4FkggFvd1GGDu0w3yXCmi1feyOMaKB4kWFi%2BFl2i6FYk8yJYnNmIF6dSRvjaV%2FjseEFDxbEvACEhskwxcnd299JaCjIwQWQo4WRdAZ4xlOODv4XPry7rAyIBSLnZQNNUxXEtNmq28rkHm6dtypjgVBPeOdTDPVadU%2BSuEgEkkKD3pHPmEcG4ceT0DckwS15GbzWqynE1gr8ccjE9LvYvuW6hKrur2ne4kGfqTXznoU7CFpmQrZ57QxUjuJsfIFxDAy84QafF2W%2BUJTRkwM%2FcRGxnFuzXdb39fF%2FJKvDtKVao%7Ctkp%3ABk9SR7rsivCwZQ&LH_ItemCondition=1000. The price is $9.74 and it has free delivery from United Kingdom."
                        ],
                        "text/plain": [
                            "<IPython.core.display.Markdown object>"
                        ]
                    },
                    "metadata": {},
                    "output_type": "display_data"
                }
            ],
            "source": [
                "response = await get_shopping_agent(use_vision=True)\n",
                "if response is not None:\n",
                "    display(Markdown(response))\n",
                "else:\n",
                "    print(\"No response from the agent\")"
            ]
        },
        {
            "cell_type": "markdown",
            "metadata": {},
            "source": [
                "### Results With Vision\n",
                "\n",
                "The agent with vision capabilities was able to successfully navigate eBay and extract information about DVD listings. By being able to \"see\" and understand the visual elements of the page, including product images, buttons, and the overall layout, the agent could effectively:\n",
                "\n",
                "1. Locate and use the search functionality\n",
                "2. Find relevant DVD product listings\n",
                "3. Extract key details like prices, shipping costs, and product descriptions\n",
                "4. Navigate through the visual interface as a human would\n",
                "\n",
                "This demonstrates how vision capabilities allow the agent to effectively interact with eBay's visually-rich interface and complete the assigned task successfully.\n",
                "\n"
            ]
        },
        {
            "cell_type": "markdown",
            "metadata": {},
            "source": [
                "## The Power of Vision in Web Agents\n",
                "\n",
                "The contrast between the two results speaks volumes about the importance of vision capabilities for web agents:\n",
                "\n",
                "- **Without Vision**: The agent fails completely, unable to navigate eBay's interface effectively or extract the required information about products.\n",
                "\n",
                "- **With Vision**: The agent successfully identifies a product, extracts its URL, price, and shipping information with precision.\n",
                "\n",
                "This demonstrates why vision capabilities are transformative for web agents operating in visually-rich environments like e-commerce platforms, social media sites, or any website with complex visual layouts and image-based content.\n",
                "\n",
                "By simply adding the `use_vision=True` parameter, your agent gains human-like visual comprehension, dramatically improving its ability to complete tasks in the visual web. There is of course a trade off though. While we gain in fidelity, we also lose out on the costs associated, as vision agents are processing a significantly larger number of tokens. "
            ]
        },
        {
            "cell_type": "markdown",
            "metadata": {},
            "source": [
                "## Conclusion\n",
                "\n",
                "Vision-enabled web agents represent a significant leap forward in autonomous web automation. They can:\n",
                "\n",
                "1. Understand and interpret visually complex websites\n",
                "2. Extract information from images and visual layouts\n",
                "3. Successfully complete tasks that text-only agents fail at\n",
                "4. Navigate interfaces designed for human visual perception\n",
                "\n",
                "As demonstrated in this simple example, adding vision to your browser agents opens up entirely new capabilities and dramatically increases their success rate on complex web tasks."
            ]
        },
        {
            "cell_type": "markdown",
            "metadata": {},
            "source": [
                "## Relevant Links\n",
                "- [Hyperbrowser](https://hyperbrowser.ai)\n",
                "- [Hyperbrowser Documentation](https://docs.hyperbrowser.ai)\n",
                "- [Hyperbrowser - Browser Use](https://docs.hyperbrowser.ai/reference/api-reference/agents/browser-use)"
            ]
        }
    ],
    "metadata": {
        "kernelspec": {
            "display_name": ".venv",
            "language": "python",
            "name": "python3"
        },
        "language_info": {
            "codemirror_mode": {
                "name": "ipython",
                "version": 3
            },
            "file_extension": ".py",
            "mimetype": "text/x-python",
            "name": "python",
            "nbconvert_exporter": "python",
            "pygments_lexer": "ipython3",
            "version": "3.13.2"
        }
    },
    "nbformat": 4,
    "nbformat_minor": 2
}

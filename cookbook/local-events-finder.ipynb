{
    "cells": [
        {
            "cell_type": "markdown",
            "metadata": {},
            "source": [
                "# Building a Local Events Finder with Hyperbrowser and GPT-4o\n",
                "\n",
                "In this cookbook, we'll create an intelligent events finder that can automatically discover and organize local events in any city around the world. This agent will:\n",
                "\n",
                "1. Take a city name as input\n",
                "2. Intelligently determine the country based on the city name\n",
                "3. Extract event information from event platforms like Eventbrite\n",
                "4. Present a curated list of events in a user-friendly format\n",
                "5. Filter events based on user interests and preferences\n",
                "\n",
                "This approach combines:\n",
                "- **[Hyperbrowser](https://hyperbrowser.ai)** for web scraping and data extraction\n",
                "- **OpenAI's GPT-4o** for intelligent analysis and content curation\n",
                "\n",
                "By the end of this cookbook, you'll have a versatile tool that can help you or your users discover interesting events in any location!"
            ]
        },
        {
            "cell_type": "markdown",
            "metadata": {},
            "source": [
                "## Prerequisites\n",
                "\n",
                "Before starting, you'll need:\n",
                "\n",
                "1. A Hyperbrowser API key (sign up at [hyperbrowser.ai](https://hyperbrowser.ai) if you don't have one)\n",
                "2. An OpenAI API key with access to GPT-4o\n",
                "\n",
                "Store these API keys in a `.env` file in the same directory as this notebook:\n",
                "\n",
                "```\n",
                "HYPERBROWSER_API_KEY=your_hyperbrowser_key_here\n",
                "OPENAI_API_KEY=your_openai_key_here\n",
                "```"
            ]
        },
        {
            "cell_type": "markdown",
            "metadata": {},
            "source": [
                "## Step 1: Set up imports and load environment variables\n",
                "\n",
                "We start by importing the necessary packages and initializing our environment variables. The key libraries we'll use include:\n",
                "- `asyncio` for handling asynchronous operations\n",
                "- `hyperbrowser` for web scraping and event extraction\n",
                "- `openai` for content analysis and organization\n",
                "- `pydantic` for data validation and structured responses"
            ]
        },
        {
            "cell_type": "code",
            "execution_count": 30,
            "metadata": {},
            "outputs": [
                {
                    "data": {
                        "text/plain": [
                            "True"
                        ]
                    },
                    "execution_count": 30,
                    "metadata": {},
                    "output_type": "execute_result"
                }
            ],
            "source": [
                "import asyncio\n",
                "import json\n",
                "import os\n",
                "\n",
                "from dotenv import load_dotenv\n",
                "from hyperbrowser import AsyncHyperbrowser\n",
                "from hyperbrowser.models.scrape import StartScrapeJobParams, ScrapeOptions\n",
                "from hyperbrowser.models.session import CreateSessionParams\n",
                "from openai import AsyncOpenAI\n",
                "from openai.types.chat import (\n",
                "    ChatCompletionMessageParam,\n",
                "    ChatCompletionMessageToolCall,\n",
                "    ChatCompletionToolMessageParam,\n",
                "    ChatCompletionToolParam,\n",
                ")\n",
                "from pydantic import BaseModel\n",
                "from typing import Optional, List\n",
                "\n",
                "load_dotenv()"
            ]
        },
        {
            "cell_type": "markdown",
            "metadata": {},
            "source": [
                "## Step 2: Initialize API clients\n",
                "\n",
                "Here we create instances of the Hyperbrowser and OpenAI clients using our API keys. These clients will be responsible for web scraping and intelligent analysis respectively."
            ]
        },
        {
            "cell_type": "code",
            "execution_count": 31,
            "metadata": {},
            "outputs": [],
            "source": [
                "hb = AsyncHyperbrowser(api_key=os.getenv(\"HYPERBROWSER_API_KEY\"))\n",
                "llm = AsyncOpenAI()"
            ]
        },
        {
            "cell_type": "markdown",
            "metadata": {},
            "source": [
                "## Step 3: Define data models for event extraction\n",
                "\n",
                "We'll define Pydantic models to structure our event data. This ensures that we receive consistent, well-formatted information about each event, including:\n",
                "- Event title and description\n",
                "- Location details\n",
                "- Date and time information\n",
                "- URL for more details\n",
                "- Optional information like image URLs and event status"
            ]
        },
        {
            "cell_type": "code",
            "execution_count": 32,
            "metadata": {},
            "outputs": [],
            "source": [
                "class EventExtractSchema(BaseModel):\n",
                "    title: str\n",
                "    description: str\n",
                "    location: str\n",
                "    date: str\n",
                "    time: str\n",
                "    url: str\n",
                "    image_url: Optional[str]\n",
                "    status: Optional[str]\n",
                "\n",
                "\n",
                "class EventExtractListSchema(BaseModel):\n",
                "    events: List[EventExtractSchema]\n",
                "\n",
                "\n",
                "EXTRACT_EVENT_NAME = \"extract_events\"\n",
                "\n",
                "EventExtractionTool: ChatCompletionToolParam = {\n",
                "    \"type\": \"function\",\n",
                "    \"function\": {\n",
                "        \"name\": EXTRACT_EVENT_NAME,\n",
                "        \"description\": \"Extract events from a webpage\",\n",
                "        \"parameters\": {\n",
                "            \"type\": \"object\",\n",
                "            \"properties\": {\n",
                "                \"city\": {\"type\": \"string\"},\n",
                "                \"country\": {\"type\": \"string\"},\n",
                "            },\n",
                "            \"required\": [\"city\", \"country\"],\n",
                "        },\n",
                "    },\n",
                "}\n",
                "\n",
                "MAX_INPUT_CHARACTERS = 10000"
            ]
        },
        {
            "cell_type": "markdown",
            "metadata": {},
            "source": [
                "## Step 4: Create the event extraction function\n",
                "\n",
                "This function handles the core functionality of our events finder:\n",
                "\n",
                "1. It takes a city and country as input\n",
                "2. Formats them to work with event listing sites like Eventbrite\n",
                "3. Uses Hyperbrowser to scrape the event listings page\n",
                "4. Employs GPT-4o mini to parse the raw HTML/markdown into structured event data\n",
                "5. Returns a list of events in a consistent format\n",
                "\n",
                "The function handles pagination limits intelligently by truncating extremely long scraped content."
            ]
        },
        {
            "cell_type": "code",
            "execution_count": 33,
            "metadata": {},
            "outputs": [],
            "source": [
                "async def handle_events_extraction(\n",
                "    city: str, country: str\n",
                ") -> None | EventExtractListSchema:\n",
                "    country_formatted = country.replace(\" \", \"-\").lower()\n",
                "    city_formatted = city.replace(\" \", \"-\").lower()\n",
                "\n",
                "    url = f\"https://www.eventbrite.com/d/{country_formatted}--{city_formatted}/all-events/\"\n",
                "    print(url)\n",
                "    response = await hb.scrape.start_and_wait(\n",
                "        StartScrapeJobParams(\n",
                "            url=url,\n",
                "            scrape_options=ScrapeOptions(formats=[\"markdown\"]),\n",
                "            session_options=CreateSessionParams(use_proxy=True),\n",
                "        )\n",
                "    )\n",
                "    print(response)\n",
                "    if response.data is None or response.data.markdown is None:\n",
                "        return None\n",
                "    else:\n",
                "        messages: List[ChatCompletionMessageParam] = [\n",
                "            {\n",
                "                \"role\": \"system\",\n",
                "                \"content\": \"You are a text parser. You will be give markdown text, and you will need to parse it into a structured format.\",\n",
                "            },\n",
                "            {\n",
                "                \"role\": \"user\",\n",
                "                \"content\": (\n",
                "                    response.data.markdown\n",
                "                    if len(response.data.markdown) < MAX_INPUT_CHARACTERS\n",
                "                    else response.data.markdown[:MAX_INPUT_CHARACTERS]\n",
                "                ),\n",
                "            },\n",
                "        ]\n",
                "        response = await llm.beta.chat.completions.parse(\n",
                "            model=\"gpt-4o-mini\",\n",
                "            messages=messages,\n",
                "            response_format=EventExtractListSchema,\n",
                "        )\n",
                "        return response.choices[0].message.parsed"
            ]
        },
        {
            "cell_type": "markdown",
            "metadata": {},
            "source": [
                "## Step 5: Implement the tool handler\n",
                "\n",
                "The tool handler function processes requests from the LLM to interact with our event extraction functionality. It:\n",
                "\n",
                "1. Receives tool call parameters from the LLM\n",
                "2. Validates the input parameters (city and country)\n",
                "3. Executes the event extraction function\n",
                "4. Formats and returns the results\n",
                "5. Handles any errors that might occur during execution"
            ]
        },
        {
            "cell_type": "code",
            "execution_count": 34,
            "metadata": {},
            "outputs": [],
            "source": [
                "async def handle_tool_call(\n",
                "    tc: ChatCompletionMessageToolCall,\n",
                ") -> ChatCompletionToolMessageParam:\n",
                "    print(f\"Handling tool call: {tc.function.name}\")\n",
                "\n",
                "    try:\n",
                "        if tc.function.name == EXTRACT_EVENT_NAME:\n",
                "            args = json.loads(tc.function.arguments)\n",
                "            content = await handle_events_extraction(args[\"city\"], args[\"country\"])\n",
                "            if content is None:\n",
                "                return {\n",
                "                    \"role\": \"tool\",\n",
                "                    \"tool_call_id\": tc.id,\n",
                "                    \"content\": \"No events found\",\n",
                "                }\n",
                "            else:\n",
                "                return {\n",
                "                    \"role\": \"tool\",\n",
                "                    \"tool_call_id\": tc.id,\n",
                "                    \"content\": content.model_dump_json(),\n",
                "                }\n",
                "        else:\n",
                "            raise ValueError(f\"Tool not found: {tc.function.name}\")\n",
                "\n",
                "    except Exception as e:\n",
                "        err_msg = f\"Error handling tool call: {e}\"\n",
                "        print(err_msg)\n",
                "        return {\n",
                "            \"role\": \"tool\",\n",
                "            \"tool_call_id\": tc.id,\n",
                "            \"content\": err_msg,\n",
                "            \"is_error\": True,  # type: ignore\n",
                "        }"
            ]
        },
        {
            "cell_type": "markdown",
            "metadata": {},
            "source": [
                "## Step 6: Create the agent loop\n",
                "\n",
                "Now we implement the core agent loop that orchestrates the conversation between:\n",
                "1. The user (who asks about events)\n",
                "2. The LLM (which analyzes the request and determines what information is needed)\n",
                "3. Our tool (which fetches and structures the event data)\n",
                "\n",
                "This recursive pattern allows for sophisticated interactions where the agent can refine its understanding of user preferences."
            ]
        },
        {
            "cell_type": "code",
            "execution_count": 35,
            "metadata": {},
            "outputs": [],
            "source": [
                "async def agent_loop(messages: list[ChatCompletionMessageParam]) -> str:\n",
                "    while True:\n",
                "        response = await llm.chat.completions.create(\n",
                "            messages=messages,\n",
                "            model=\"gpt-4o\",\n",
                "            tools=[EventExtractionTool],\n",
                "            max_completion_tokens=8000,\n",
                "        )\n",
                "\n",
                "        choice = response.choices[0]\n",
                "\n",
                "        # Append response to messages\n",
                "        messages.append(choice.message)  # type: ignore\n",
                "\n",
                "        # Handle tool calls\n",
                "        if (\n",
                "            choice.finish_reason == \"tool_calls\"\n",
                "            and choice.message.tool_calls is not None\n",
                "        ):\n",
                "            tool_result_messages = await asyncio.gather(\n",
                "                *[handle_tool_call(tc) for tc in choice.message.tool_calls]\n",
                "            )\n",
                "            messages.extend(tool_result_messages)\n",
                "\n",
                "        elif choice.finish_reason == \"stop\" and choice.message.content is not None:\n",
                "            return choice.message.content\n",
                "\n",
                "        else:\n",
                "            print(choice)\n",
                "            raise ValueError(f\"Unhandled finish reason: {choice.finish_reason}\")"
            ]
        },
        {
            "cell_type": "markdown",
            "metadata": {},
            "source": [
                "## Step 7: Design the system prompt\n",
                "\n",
                "The system prompt is crucial for guiding the LLM's behavior. Our prompt establishes the agent as an event finder that can:\n",
                "1. Infer the country from a city name\n",
                "2. Use the event extraction tool to gather event information\n",
                "3. Filter events based on user preferences\n",
                "4. Format the results in a user-friendly way\n",
                "\n",
                "This provides a consistent framework for all agent interactions."
            ]
        },
        {
            "cell_type": "code",
            "execution_count": 36,
            "metadata": {},
            "outputs": [],
            "source": [
                "SYSTEM_PROMPT = \"\"\"\n",
                "You are an event finder. You have access to a 'extract_events' tool which can be used to get structured data from a webpage regarding events in a city. To use this, you will be given a city name - {city}. You will then infer the country from the city name and use the 'extract_events' tool to get the events in the city.\n",
                "\n",
                "Once you have the information, you will then format the information in a way that is easy to understand and use, ideally in a markdown format.\n",
                "\n",
                "The user may or may not provide you with a filter. If they do, you will filter the events based what you can infer from the user prompt. \n",
                "\n",
                "In summary, you will:\n",
                "1. Infer the country from the city name\n",
                "2. Use the 'extract_events' tool to get the events in the city\n",
                "3. If the user provides a filter, you will filter the events based on the user prompt\n",
                "   - Filter the events based on the user prompt\n",
                "4. Return the information in a way that is easy to understand and use, ideally in a markdown format\n",
                "\"\"\".strip()"
            ]
        },
        {
            "cell_type": "markdown",
            "metadata": {},
            "source": [
                "## Step 8: Create a factory function for generating event finders\n",
                "\n",
                "Now we'll create a factory function that generates a specialized event finder for any city. This function:\n",
                "\n",
                "1. Takes a city name as input\n",
                "2. Formats the system prompt with this value\n",
                "3. Returns a function that can answer questions about events in that location\n",
                "\n",
                "This approach makes our solution reusable for event discovery in any location worldwide."
            ]
        },
        {
            "cell_type": "code",
            "execution_count": 37,
            "metadata": {},
            "outputs": [],
            "source": [
                "from typing import Coroutine, Any, Callable\n",
                "\n",
                "\n",
                "def make_event_finder(city: str) -> Callable[..., Coroutine[Any, Any, str]]:\n",
                "    sysprompt = SYSTEM_PROMPT.format(\n",
                "        city=city,\n",
                "    )\n",
                "\n",
                "    async def event_finder(question: str) -> str:\n",
                "        messages: list[ChatCompletionMessageParam] = [\n",
                "            {\"role\": \"system\", \"content\": sysprompt},\n",
                "        ]\n",
                "\n",
                "        if question:\n",
                "            messages.append({\"role\": \"user\", \"content\": question})\n",
                "\n",
                "        return await agent_loop(messages)\n",
                "\n",
                "    return event_finder"
            ]
        },
        {
            "cell_type": "markdown",
            "metadata": {},
            "source": [
                "## Step 9: Test the events finder\n",
                "\n",
                "Let's test our agent by searching for events in San Francisco. This demonstrates the full workflow:\n",
                "\n",
                "1. The agent infers that San Francisco is in the United States\n",
                "2. It searches for events in San Francisco\n",
                "3. It extracts and formats the event information\n",
                "4. It presents a curated list of events\n",
                "\n",
                "For this example, we're looking specifically for gaming events in San Francisco."
            ]
        },
        {
            "cell_type": "code",
            "execution_count": 38,
            "metadata": {},
            "outputs": [
                {
                    "name": "stdout",
                    "output_type": "stream",
                    "text": [
                        "Handling tool call: extract_events\n"
                    ]
                }
            ],
            "source": [
                "city = \"San Francisco\"\n",
                "event_finder = make_event_finder(city)\n",
                "response = await event_finder(\"I'm looking for gaming events in San Francisco\")"
            ]
        },
        {
            "cell_type": "markdown",
            "metadata": {},
            "source": [
                "## Step 10: Display the results\n",
                "\n",
                "Finally, we'll display the formatted results from our agent. The response is already in markdown format, making it easy to read and navigate. This allows users to quickly scan the list of events and find those that interest them most."
            ]
        },
        {
            "cell_type": "code",
            "execution_count": 41,
            "metadata": {},
            "outputs": [
                {
                    "data": {
                        "text/markdown": [
                            "Here are some upcoming gaming events in San Francisco:\n",
                            "\n",
                            "### Courage XL 2025 – Indie Showcase & GDC Pre-Party\n",
                            "- **Description:** Join us for an indie showcase ahead of GDC 2025.\n",
                            "- **Location:** The Great Northern\n",
                            "- **Date & Time:** Sunday, March 16, 7:00 PM\n",
                            "- **[Event Link](https://www.eventbrite.nl/e/courage-xl-2025-indie-showcase-gdc-pre-party-tickets-1152458246639)**\n",
                            "- ![Image](https://img.evbuc.com/https%3A%2F%2Fcdn.evbuc.com%2Fimages%2F945517783%2F3673532979%2F1%2Foriginal.20250127-142718?w=512&auto=format%2Ccompress&q=75&sharp=10&rect=4%2C59%2C1916%2C958&s=49729210ab1a5a8e42a2426b04b57a68)\n",
                            "\n",
                            "### MeetToMatch - The San Francisco Edition 2025, powered by Xsolla\n",
                            "- **Description:** A networking event for professionals in the gaming industry.\n",
                            "- **Location:** Moscone Center\n",
                            "- **Date & Time:** Monday, March 17, 9:00 AM\n",
                            "- **[Event Link](https://www.eventbrite.nl/e/meettomatch-the-san-francisco-edition-2025-powered-by-xsolla-tickets-1043787264807)**\n",
                            "- ![Image](https://img.evbuc.com/https%3A%2F%2Fcdn.evbuc.com%2Fimages%2F894705613%2F246618256503%2F1%2Foriginal.20241108-113241?crop=focalpoint&fit=crop&w=512&auto=format%2Ccompress&q=75&sharp=10&fp-x=0.005&fp-y=0.005&s=ec76d80a6c2a035246d7a7167a12f809)\n",
                            "\n",
                            "### Indie BYOG Showcase @ GDC2025 Presented by Onerat Games & Sub-Zero Sound\n",
                            "- **Description:** A showcase for indie games during GDC 2025.\n",
                            "- **Location:** BuzzWorks\n",
                            "- **Date & Time:** Tuesday, March 18, 6:00 PM\n",
                            "- **[Event Link](https://www.eventbrite.com.au/e/indie-byog-showcase-gdc2025-presented-by-onerat-games-sub-zero-sound-tickets-1220801142079)**\n",
                            "- ![Image](https://img.evbuc.com/https%3A%2F%2Fcdn.evbuc.com%2Fimages%2F960591873%2F343842521485%2F1%2Foriginal.20250214-041703?w=512&auto=format%2Ccompress&q=75&sharp=10&rect=0%2C0%2C940%2C470&s=5857017a2587c787bd57b3c58c7e6b89)\n",
                            "\n",
                            "### Pocket Gamer Connects San Francisco 2025\n",
                            "- **Description:** A major event for mobile gaming industry professionals.\n",
                            "- **Location:** The Hibernia\n",
                            "- **Date & Time:** Monday, March 17, 9:00 AM\n",
                            "- **[Event Link](https://www.eventbrite.co.uk/e/pocket-gamer-connects-san-francisco-2025-tickets-1118784036169)**\n",
                            "- ![Image](https://img.evbuc.com/https%3A%2F%2Fcdn.evbuc.com%2Fimages%2F920901043%2F2120415922323%2F1%2Foriginal.20241220-115451?crop=focalpoint&fit=crop&w=512&auto=format%2Ccompress&q=75&sharp=10&fp-x=0.545454545455&fp-y=0.623605947955&s=2bbf93062278f409f8dca50008545715)\n",
                            "\n",
                            "### Australian Showcase @ GDC 2025 Presented by Indie BYOG & IGEA\n",
                            "- **Description:** A showcase featuring Australian game developers during GDC 2025.\n",
                            "- **Location:** BuzzWorks\n",
                            "- **Date & Time:** Monday, March 17, 6:00 PM\n",
                            "- **[Event Link](https://www.eventbrite.com.au/e/australian-showcase-gdc-2025-presented-by-indie-byog-igea-tickets-1222569721949)**\n",
                            "- ![Image](https://img.evbuc.com/https%3A%2F%2Fcdn.evbuc.com%2Fimages%2F946442813%2F188659113760%2F1%2Foriginal.20250128-113310?crop=focalpoint&fit=crop&w=512&auto=format%2Ccompress&q=75&sharp=10&fp-x=0.5&fp-y=0.5&s=ed0ef77903accc8e452d5730d0fcb425)\n",
                            "\n",
                            "These are some of the prominent gaming events happening soon in San Francisco. Let me know if you need more details or assistance!"
                        ],
                        "text/plain": [
                            "<IPython.core.display.Markdown object>"
                        ]
                    },
                    "metadata": {},
                    "output_type": "display_data"
                }
            ],
            "source": [
                "from IPython.display import Markdown, display\n",
                "\n",
                "if response is not None:\n",
                "    display(Markdown(response))\n",
                "else:\n",
                "    print(\"No events found\")"
            ]
        },
        {
            "cell_type": "markdown",
            "metadata": {},
            "source": [
                "## Conclusion\n",
                "\n",
                "In this cookbook, we built a powerful events finder using Hyperbrowser and GPT-4o. This agent can:\n",
                "\n",
                "1. Automatically search for events in any city worldwide\n",
                "2. Extract and structure information about each event\n",
                "3. Filter events based on user interests\n",
                "4. Present results in a clean, readable format\n",
                "\n",
                "This pattern can be extended to create more sophisticated event discovery tools, such as:\n",
                "- Event finders for specific types of events (concerts, workshops, etc.)\n",
                "- Personalized event recommendations based on user preferences\n",
                "- Multi-platform event aggregation from various sources\n",
                "\n",
                "### Next Steps\n",
                "\n",
                "To take this further, you might consider:\n",
                "- Adding support for date-based filtering\n",
                "- Implementing price range filtering\n",
                "- Creating a web interface for easier interaction\n",
                "- Extending to multiple event platforms beyond Eventbrite\n",
                "- Adding calendar integration for saving interesting events\n",
                "\n",
                "Happy event hunting! 🎉"
            ]
        },
        {
            "cell_type": "markdown",
            "metadata": {},
            "source": [
                "## Relevant Links\n",
                "- [Hyperbrowser](https://hyperbrowser.ai)\n",
                "- [OpenAI Docs](https://platform.openai.com/docs/introduction)"
            ]
        }
    ],
    "metadata": {
        "kernelspec": {
            "display_name": ".venv",
            "language": "python",
            "name": "python3"
        },
        "language_info": {
            "codemirror_mode": {
                "name": "ipython",
                "version": 3
            },
            "file_extension": ".py",
            "mimetype": "text/x-python",
            "name": "python",
            "nbconvert_exporter": "python",
            "pygments_lexer": "ipython3",
            "version": "3.13.2"
        }
    },
    "nbformat": 4,
    "nbformat_minor": 2
}
